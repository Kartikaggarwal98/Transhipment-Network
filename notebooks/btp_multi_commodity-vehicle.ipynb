{
 "cells": [
  {
   "cell_type": "code",
   "execution_count": 1,
   "metadata": {},
   "outputs": [],
   "source": [
    "import numpy as np\n",
    "import gurobipy as gbp\n",
    "import time\n",
    "np.random.seed(352)\n"
   ]
  },
  {
   "cell_type": "code",
   "execution_count": 2,
   "metadata": {},
   "outputs": [],
   "source": [
    "n_com=2\n",
    "n_sup=2\n",
    "n_dem=3"
   ]
  },
  {
   "cell_type": "code",
   "execution_count": 3,
   "metadata": {},
   "outputs": [
    {
     "data": {
      "text/plain": [
       "(array([[100, 200],\n",
       "        [200, 700]]), array([[ 75, 190],\n",
       "        [150, 320],\n",
       "        [200, 225]]))"
      ]
     },
     "execution_count": 3,
     "metadata": {},
     "output_type": "execute_result"
    }
   ],
   "source": [
    "Si=np.array([[100,200],[200,700]])\n",
    "Dj=np.array([[75,190],[150,320],[200,225]])\n",
    "Si,Dj"
   ]
  },
  {
   "cell_type": "code",
   "execution_count": 99,
   "metadata": {},
   "outputs": [],
   "source": [
    "V_cap=150\n",
    "V_num=np.array([5,7])\n",
    "V_cost=np.array([100,100])"
   ]
  },
  {
   "cell_type": "code",
   "execution_count": 7,
   "metadata": {},
   "outputs": [
    {
     "name": "stdout",
     "output_type": "stream",
     "text": [
      "range(0, 2) range(0, 3) range(0, 2) 6\n"
     ]
    }
   ],
   "source": [
    "# Indices & Variable Names\n",
    "supply_nodes = n_sup\n",
    "demand_nodes = n_dem\n",
    "supply_nodes_range = range(n_sup)\n",
    "demand_nodes_range = range(n_dem)\n",
    "comm_range=range(n_com)\n",
    "all_nodes_len = n_sup*n_dem\n",
    "ALL_nodes_range = range(all_nodes_len)\n",
    "\n",
    "print (supply_nodes_range, demand_nodes_range,comm_range, all_nodes_len)"
   ]
  },
  {
   "cell_type": "code",
   "execution_count": 8,
   "metadata": {},
   "outputs": [
    {
     "data": {
      "text/plain": [
       "array([[0.17647059, 0.2585034 ],\n",
       "       [0.35294118, 0.43537415],\n",
       "       [0.47058824, 0.30612245]])"
      ]
     },
     "execution_count": 8,
     "metadata": {},
     "output_type": "execute_result"
    }
   ],
   "source": [
    "Pc=Dj/Dj.sum(axis=0)\n",
    "Pc"
   ]
  },
  {
   "cell_type": "code",
   "execution_count": 100,
   "metadata": {},
   "outputs": [
    {
     "name": "stdout",
     "output_type": "stream",
     "text": [
      "Changed value of parameter MIPFocus to 2\n",
      "   Prev: 0  Min: 0  Max: 3  Default: 0\n"
     ]
    }
   ],
   "source": [
    "# Create Model, Set MIP Focus, Add Variables, & Update Model\n",
    "m = gbp.Model(' -- The Multi Commodity Vehicle Transportation Problem -- ')\n",
    "\n",
    "# Set MIP Focus to 2 for optimality\n",
    "m.setParam('MIPFocus', 2)\n",
    "# m.setParam(gbp.GRB.Param.PoolSearchMode, 1)\n",
    "# m.setParam(gbp.GRB.Param.PoolGap, 0.10)\n",
    "\n",
    "decision_var = []\n",
    "vehicles_var=[]\n",
    "for orig in supply_nodes_range:\n",
    "    decision_var.append([])\n",
    "    vehicles_var.append([])\n",
    "    for dest in demand_nodes_range:\n",
    "        decision_var[orig].append([])\n",
    "        vehicles_var[orig].append(m.addVar(vtype=gbp.GRB.INTEGER,\n",
    "                                          name='S'+str(orig+1)+'_D'+str(dest+1)+'_V'))\n",
    "        for comm in comm_range:\n",
    "#             print (comm,decision_var)\n",
    "            decision_var[orig][dest].append(m.addVar(vtype=gbp.GRB.INTEGER, \n",
    "#                                         obj=Cij[orig][dest],\n",
    "#                                            obj=1,\n",
    "                                        name='S'+str(orig+1)+'_D'+str(dest+1)+'_c'+str(comm+1)))\n",
    "# Update Model Variables\n",
    "m.update()       \n"
   ]
  },
  {
   "cell_type": "code",
   "execution_count": 101,
   "metadata": {},
   "outputs": [],
   "source": [
    "#objective function\n",
    "m.setObjective(\n",
    "    gbp.quicksum(gbp.quicksum((int(Dj[dest][comm])-gbp.quicksum(decision_var[orig][dest][comm] for orig in supply_nodes_range))*(Pc[dest][comm])\n",
    "                            for dest in demand_nodes_range) for comm in comm_range)+\n",
    "    gbp.quicksum(gbp.quicksum(vehicles_var[orig][dest] for dest in demand_nodes_range)*V_cost[orig] for orig in supply_nodes_range),\n",
    "                        gbp.GRB.MINIMIZE)"
   ]
  },
  {
   "cell_type": "code",
   "execution_count": 102,
   "metadata": {},
   "outputs": [],
   "source": [
    "m.update()"
   ]
  },
  {
   "cell_type": "code",
   "execution_count": 103,
   "metadata": {},
   "outputs": [
    {
     "name": "stdout",
     "output_type": "stream",
     "text": [
      "Gurobi Optimizer version 9.0.1 build v9.0.1rc0 (mac64)\n",
      "Optimize a model with 26 rows, 18 columns and 78 nonzeros\n",
      "Model fingerprint: 0xd15e512f\n",
      "Variable types: 0 continuous, 18 integer (0 binary)\n",
      "Coefficient statistics:\n",
      "  Matrix range     [7e-03, 1e+00]\n",
      "  Objective range  [2e-01, 1e+02]\n",
      "  Bounds range     [0e+00, 0e+00]\n",
      "  RHS range        [1e+00, 1e+03]\n",
      "Found heuristic solution: objective 417.6070428\n",
      "Presolve removed 1 rows and 0 columns\n",
      "Presolve time: 0.00s\n",
      "Presolved: 25 rows, 18 columns, 72 nonzeros\n",
      "Variable types: 0 continuous, 18 integer (0 binary)\n",
      "Presolve removed 25 rows and 18 columns\n",
      "Presolve: All rows and columns removed\n",
      "\n",
      "Root relaxation: cutoff, 0 iterations, 0.00 seconds\n",
      "\n",
      "Explored 0 nodes (0 simplex iterations) in 0.01 seconds\n",
      "Thread count was 12 (of 12 available processors)\n",
      "\n",
      "Solution count 1: 417.607 \n",
      "\n",
      "Optimal solution found (tolerance 1.00e-04)\n",
      "Best objective 4.176070428171e+02, best bound 4.176070428171e+02, gap 0.0000%\n"
     ]
    }
   ],
   "source": [
    "# Add Supply Constraints\n",
    "for orig in supply_nodes_range:\n",
    "    for comm in comm_range:\n",
    "        m.addConstr(gbp.quicksum(decision_var[orig][dest][comm]\n",
    "                                 for dest in demand_nodes_range) - Si[orig][comm] <= 0)\n",
    "# Add Demand Constraints\n",
    "for dest in demand_nodes_range:  \n",
    "    for comm in comm_range:\n",
    "        m.addConstr(gbp.quicksum(decision_var[orig][dest][comm] \n",
    "                                 for orig in supply_nodes_range) - Dj[dest][comm] <= 0)\n",
    "#Add vehicle constraints\n",
    "for orig in supply_nodes_range:\n",
    "    m.addConstr(gbp.quicksum(decision_var[orig][dest][comm]\n",
    "                             for dest in demand_nodes_range for comm in comm_range) - V_cap*V_num[orig] <=0)\n",
    "for orig in supply_nodes_range:\n",
    "    m.addConstr(gbp.quicksum(vehicles_var[orig][dest] for dest in demand_nodes_range) - V_num[orig] <=0)\n",
    "    \n",
    "for orig in supply_nodes_range:\n",
    "    for dest in demand_nodes_range:\n",
    "        m.addConstr(-sum(decision_var[orig][dest][comm]\n",
    "                            for comm in comm_range)/V_cap + vehicles_var[orig][dest]>=0)\n",
    "for orig in supply_nodes_range:\n",
    "    for dest in demand_nodes_range:\n",
    "        m.addConstr(-sum(decision_var[orig][dest][comm]\n",
    "                            for comm in comm_range)/V_cap + vehicles_var[orig][dest]<=1)\n",
    "#  Optimize and Print( Results)\n",
    "m.optimize()\n",
    "m.write('path.lp')"
   ]
  },
  {
   "cell_type": "code",
   "execution_count": 104,
   "metadata": {},
   "outputs": [
    {
     "name": "stdout",
     "output_type": "stream",
     "text": [
      "Minimize\n",
      "   <gurobi.LinExpr: 417.60704281712685 + 100.0 S1_D1_V + -0.17647058823529413 S1_D1_c1 + -0.2585034013605442 S1_D1_c2 + 100.0 S1_D2_V + -0.35294117647058826 S1_D2_c1 + -0.43537414965986393 S1_D2_c2 + 100.0 S1_D3_V + -0.47058823529411764 S1_D3_c1 + -0.30612244897959184 S1_D3_c2 + 100.0 S2_D1_V + -0.17647058823529413 S2_D1_c1 + -0.2585034013605442 S2_D1_c2 + 100.0 S2_D2_V + -0.35294117647058826 S2_D2_c1 + -0.43537414965986393 S2_D2_c2 + 100.0 S2_D3_V + -0.47058823529411764 S2_D3_c1 + -0.30612244897959184 S2_D3_c2>\n",
      "Subject To\n",
      "   R0 : <gurobi.LinExpr: S1_D1_c1 + S1_D2_c1 + S1_D3_c1> <= 100.0\n",
      "   R1 : <gurobi.LinExpr: S1_D1_c2 + S1_D2_c2 + S1_D3_c2> <= 200.0\n",
      "   R2 : <gurobi.LinExpr: S2_D1_c1 + S2_D2_c1 + S2_D3_c1> <= 200.0\n",
      "   R3 : <gurobi.LinExpr: S2_D1_c2 + S2_D2_c2 + S2_D3_c2> <= 700.0\n",
      "   R4 : <gurobi.LinExpr: S1_D1_c1 + S2_D1_c1> <= 75.0\n",
      "   R5 : <gurobi.LinExpr: S1_D1_c2 + S2_D1_c2> <= 190.0\n",
      "   R6 : <gurobi.LinExpr: S1_D2_c1 + S2_D2_c1> <= 150.0\n",
      "   R7 : <gurobi.LinExpr: S1_D2_c2 + S2_D2_c2> <= 320.0\n",
      "   R8 : <gurobi.LinExpr: S1_D3_c1 + S2_D3_c1> <= 200.0\n",
      "   R9 : <gurobi.LinExpr: S1_D3_c2 + S2_D3_c2> <= 225.0\n",
      "   R10 : <gurobi.LinExpr: S1_D1_c1 + S1_D1_c2 + S1_D2_c1 + S1_D2_c2 + S1_D3_c1 + S1_D3_c2> <= 750.0\n",
      "   R11 : <gurobi.LinExpr: S2_D1_c1 + S2_D1_c2 + S2_D2_c1 + S2_D2_c2 + S2_D3_c1 + S2_D3_c2> <= 1050.0\n",
      "   R12 : <gurobi.LinExpr: S1_D1_V + S1_D2_V + S1_D3_V> <= 5.0\n",
      "   R13 : <gurobi.LinExpr: S2_D1_V + S2_D2_V + S2_D3_V> <= 7.0\n",
      "   R14 : <gurobi.LinExpr: S1_D1_V + -0.006666666666666667 S1_D1_c1 + -0.006666666666666667 S1_D1_c2> >= 0.0\n",
      "   R15 : <gurobi.LinExpr: S1_D2_V + -0.006666666666666667 S1_D2_c1 + -0.006666666666666667 S1_D2_c2> >= 0.0\n",
      "   R16 : <gurobi.LinExpr: S1_D3_V + -0.006666666666666667 S1_D3_c1 + -0.006666666666666667 S1_D3_c2> >= 0.0\n",
      "   R17 : <gurobi.LinExpr: S2_D1_V + -0.006666666666666667 S2_D1_c1 + -0.006666666666666667 S2_D1_c2> >= 0.0\n",
      "   R18 : <gurobi.LinExpr: S2_D2_V + -0.006666666666666667 S2_D2_c1 + -0.006666666666666667 S2_D2_c2> >= 0.0\n",
      "   R19 : <gurobi.LinExpr: S2_D3_V + -0.006666666666666667 S2_D3_c1 + -0.006666666666666667 S2_D3_c2> >= 0.0\n",
      "   R20 : <gurobi.LinExpr: S1_D1_V + -0.006666666666666667 S1_D1_c1 + -0.006666666666666667 S1_D1_c2> <= 1.0\n",
      "   R21 : <gurobi.LinExpr: S1_D2_V + -0.006666666666666667 S1_D2_c1 + -0.006666666666666667 S1_D2_c2> <= 1.0\n",
      "   R22 : <gurobi.LinExpr: S1_D3_V + -0.006666666666666667 S1_D3_c1 + -0.006666666666666667 S1_D3_c2> <= 1.0\n",
      "   R23 : <gurobi.LinExpr: S2_D1_V + -0.006666666666666667 S2_D1_c1 + -0.006666666666666667 S2_D1_c2> <= 1.0\n",
      "   R24 : <gurobi.LinExpr: S2_D2_V + -0.006666666666666667 S2_D2_c1 + -0.006666666666666667 S2_D2_c2> <= 1.0\n",
      "   R25 : <gurobi.LinExpr: S2_D3_V + -0.006666666666666667 S2_D3_c1 + -0.006666666666666667 S2_D3_c2> <= 1.0\n",
      "General Integers\n",
      "   ['S1_D1_V', 'S1_D1_c1', 'S1_D1_c2', 'S1_D2_V', 'S1_D2_c1', 'S1_D2_c2', 'S1_D3_V', 'S1_D3_c1', 'S1_D3_c2', 'S2_D1_V', 'S2_D1_c1', 'S2_D1_c2', 'S2_D2_V', 'S2_D2_c1', 'S2_D2_c2', 'S2_D3_V', 'S2_D3_c1', 'S2_D3_c2']\n"
     ]
    }
   ],
   "source": [
    "m.display()"
   ]
  },
  {
   "cell_type": "code",
   "execution_count": 105,
   "metadata": {},
   "outputs": [
    {
     "name": "stdout",
     "output_type": "stream",
     "text": [
      "----------------------------------------------------------------------------------------------------\n",
      "|  Supply Facility # S1 is sending 0 vehicles to Demand Facility # D1\n",
      "Hiiiiiiii\n",
      "|  Supply Facility # S1 is shipping 0 units of commodity c1 to Demand Facility # D1\n",
      "|  Supply Facility # S1 is shipping 0 units of commodity c2 to Demand Facility # D1\n",
      "----------------------------------------------------------------------------------------------------\n",
      "|  Supply Facility # S1 is sending 0 vehicles to Demand Facility # D2\n",
      "Hiiiiiiii\n",
      "|  Supply Facility # S1 is shipping 0 units of commodity c1 to Demand Facility # D2\n",
      "|  Supply Facility # S1 is shipping 0 units of commodity c2 to Demand Facility # D2\n",
      "----------------------------------------------------------------------------------------------------\n",
      "|  Supply Facility # S1 is sending 0 vehicles to Demand Facility # D3\n",
      "Hiiiiiiii\n",
      "|  Supply Facility # S1 is shipping 0 units of commodity c1 to Demand Facility # D3\n",
      "|  Supply Facility # S1 is shipping 0 units of commodity c2 to Demand Facility # D3\n",
      "----------------------------------------------------------------------------------------------------\n",
      "|  Supply Facility # S2 is sending 0 vehicles to Demand Facility # D1\n",
      "Hiiiiiiii\n",
      "|  Supply Facility # S2 is shipping 0 units of commodity c1 to Demand Facility # D1\n",
      "|  Supply Facility # S2 is shipping 0 units of commodity c2 to Demand Facility # D1\n",
      "----------------------------------------------------------------------------------------------------\n",
      "|  Supply Facility # S2 is sending 0 vehicles to Demand Facility # D2\n",
      "Hiiiiiiii\n",
      "|  Supply Facility # S2 is shipping 0 units of commodity c1 to Demand Facility # D2\n",
      "|  Supply Facility # S2 is shipping 0 units of commodity c2 to Demand Facility # D2\n",
      "----------------------------------------------------------------------------------------------------\n",
      "|  Supply Facility # S2 is sending 0 vehicles to Demand Facility # D3\n",
      "Hiiiiiiii\n",
      "|  Supply Facility # S2 is shipping 0 units of commodity c1 to Demand Facility # D3\n",
      "|  Supply Facility # S2 is shipping 0 units of commodity c2 to Demand Facility # D3\n",
      "******************************************************************************\n",
      "    | Objective Value ---------------------  417\n",
      "    | Supply Facilities -------------------  2\n",
      "    | Total Supply Units ------------------  1200\n",
      "    | Demand Facilites --------------------  3\n",
      "    | Total Demand Units ------------------  1160\n",
      "    | Total Potential Combinations --------  6\n",
      "    | Actual Combinations  ----------------  18\n",
      "******************************************************************************\n",
      "  --  The Transportation Simplex with Gurobi --\n"
     ]
    }
   ],
   "source": [
    "selected = {}\n",
    "Closed = []\n",
    "for v in m.getVars():\n",
    "    var = '%s' % v.VarName\n",
    "    units=int(v.x)\n",
    "    selected[var] = units\n",
    "    if (v.Varname[-1]=='V'):\n",
    "        print ('-'*100)\n",
    "        print( '|  Supply Facility #', var[:2], 'is sending', units, \\\n",
    "              'vehicles to Demand Facility #', var[3:5]) \n",
    "        \n",
    "    if v.Varname[-2]=='c':\n",
    "        print( '|  Supply Facility #', var[:2], 'is shipping', units, \\\n",
    "                                            'units of commodity',var[-2:], 'to Demand Facility #', var[3:5])\n",
    "    else:\n",
    "        print ('Hiiiiiiii')\n",
    "        \n",
    "print( '******************************************************************************')\n",
    "print( '    | Objective Value --------------------- ', int(m.objVal))\n",
    "print( '    | Supply Facilities ------------------- ', len(Si))\n",
    "print( '    | Total Supply Units ------------------ ', Si.sum())\n",
    "print( '    | Demand Facilites -------------------- ', len(Dj))\n",
    "print( '    | Total Demand Units ------------------ ', Dj.sum())\n",
    "print( '    | Total Potential Combinations -------- ', len(Si)*len(Dj))\n",
    "print( '    | Actual Combinations  ---------------- ', len(selected))\n",
    "# print( '    | Real Time to Optimize (sec.) -------- ', t2)\n",
    "print( '******************************************************************************')\n",
    "print( '  --  The Transportation Simplex with Gurobi --')\n"
   ]
  },
  {
   "cell_type": "code",
   "execution_count": null,
   "metadata": {},
   "outputs": [],
   "source": []
  }
 ],
 "metadata": {
  "kernelspec": {
   "display_name": "Python 3",
   "language": "python",
   "name": "python3"
  },
  "language_info": {
   "codemirror_mode": {
    "name": "ipython",
    "version": 3
   },
   "file_extension": ".py",
   "mimetype": "text/x-python",
   "name": "python",
   "nbconvert_exporter": "python",
   "pygments_lexer": "ipython3",
   "version": "3.7.3"
  }
 },
 "nbformat": 4,
 "nbformat_minor": 2
}
