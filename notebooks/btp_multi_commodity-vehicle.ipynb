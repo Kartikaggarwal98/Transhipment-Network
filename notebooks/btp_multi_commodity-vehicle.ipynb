{
 "cells": [
  {
   "cell_type": "code",
   "execution_count": 1,
   "metadata": {},
   "outputs": [],
   "source": [
    "import numpy as np\n",
    "import gurobipy as gbp\n",
    "import time\n",
    "np.random.seed(352)\n"
   ]
  },
  {
   "cell_type": "code",
   "execution_count": 2,
   "metadata": {},
   "outputs": [],
   "source": [
    "n_com=2\n",
    "n_sup=2\n",
    "n_dem=3"
   ]
  },
  {
   "cell_type": "code",
   "execution_count": 3,
   "metadata": {},
   "outputs": [
    {
     "data": {
      "text/plain": [
       "(array([[100, 200],\n",
       "        [200, 700]]), array([[ 75, 190],\n",
       "        [150, 320],\n",
       "        [200, 225]]))"
      ]
     },
     "execution_count": 3,
     "metadata": {},
     "output_type": "execute_result"
    }
   ],
   "source": [
    "Si=np.array([[100,200],[200,700]])\n",
    "Dj=np.array([[75,190],[150,320],[200,225]])\n",
    "Si,Dj"
   ]
  },
  {
   "cell_type": "code",
   "execution_count": 15,
   "metadata": {},
   "outputs": [],
   "source": [
    "V_cap=150\n",
    "V_num=np.array([5,7])\n",
    "V_cost=np.array([1000,1000])"
   ]
  },
  {
   "cell_type": "code",
   "execution_count": 59,
   "metadata": {},
   "outputs": [
    {
     "data": {
      "text/plain": [
       "array([[ 75, 190],\n",
       "       [150, 320],\n",
       "       [200, 225]])"
      ]
     },
     "execution_count": 59,
     "metadata": {},
     "output_type": "execute_result"
    }
   ],
   "source": [
    "Dj"
   ]
  },
  {
   "cell_type": "code",
   "execution_count": 5,
   "metadata": {},
   "outputs": [
    {
     "name": "stdout",
     "output_type": "stream",
     "text": [
      "range(0, 2) range(0, 3) range(0, 2) 6\n"
     ]
    }
   ],
   "source": [
    "# Cij = Cij.reshape(matrix_rows,matrix_cols)\n",
    "# Si = Si.reshape(matrix_rows,1)\n",
    "# Dj = Dj.reshape(matrix_cols,1)\n",
    "\n",
    "# Indices & Variable Names\n",
    "supply_nodes = n_sup\n",
    "demand_nodes = n_dem\n",
    "supply_nodes_range = range(n_sup)\n",
    "demand_nodes_range = range(n_dem)\n",
    "comm_range=range(n_com)\n",
    "all_nodes_len = n_sup*n_dem\n",
    "ALL_nodes_range = range(all_nodes_len)\n",
    "\n",
    "print (supply_nodes_range, demand_nodes_range,comm_range, all_nodes_len)"
   ]
  },
  {
   "cell_type": "code",
   "execution_count": 6,
   "metadata": {},
   "outputs": [
    {
     "data": {
      "text/plain": [
       "array([[0.17647059, 0.2585034 ],\n",
       "       [0.35294118, 0.43537415],\n",
       "       [0.47058824, 0.30612245]])"
      ]
     },
     "execution_count": 6,
     "metadata": {},
     "output_type": "execute_result"
    }
   ],
   "source": [
    "Pc=Dj/Dj.sum(axis=0)\n",
    "Pc"
   ]
  },
  {
   "cell_type": "code",
   "execution_count": 17,
   "metadata": {},
   "outputs": [
    {
     "name": "stdout",
     "output_type": "stream",
     "text": [
      "Changed value of parameter MIPFocus to 1\n",
      "   Prev: 0  Min: 0  Max: 3  Default: 0\n",
      "Changed value of parameter PoolSearchMode to 1\n",
      "   Prev: 0  Min: 0  Max: 2  Default: 0\n",
      "Changed value of parameter PoolGap to 0.1\n",
      "   Prev: inf  Min: 0.0  Max: inf  Default: inf\n"
     ]
    }
   ],
   "source": [
    "# Create Model, Set MIP Focus, Add Variables, & Update Model\n",
    "m = gbp.Model(' -- The Transportation Problem -- ')\n",
    "# Set MIP Focus to 2 for optimality\n",
    "m.setParam('MIPFocus', 1)\n",
    "m.setParam(gbp.GRB.Param.PoolSearchMode, 1)\n",
    "m.setParam(gbp.GRB.Param.PoolGap, 0.10)\n",
    "decision_var = []\n",
    "vehicles_var=[]\n",
    "for orig in supply_nodes_range:\n",
    "    decision_var.append([])\n",
    "    vehicles_var.append([])\n",
    "    for dest in demand_nodes_range:\n",
    "        decision_var[orig].append([])\n",
    "        vehicles_var[orig].append(m.addVar(vtype=gbp.GRB.INTEGER,\n",
    "                                          name='S'+str(orig+1)+'_D'+str(dest+1)+'_V'))\n",
    "        for comm in comm_range:\n",
    "#             print (comm,decision_var)\n",
    "            decision_var[orig][dest].append(m.addVar(vtype=gbp.GRB.INTEGER, \n",
    "#                                         obj=Cij[orig][dest],\n",
    "#                                            obj=1,\n",
    "                                        name='S'+str(orig+1)+'_D'+str(dest+1)+'_c'+str(comm+1)))\n",
    "# Update Model Variables\n",
    "m.update()       \n"
   ]
  },
  {
   "cell_type": "code",
   "execution_count": 21,
   "metadata": {},
   "outputs": [],
   "source": [
    "m.setObjective(\n",
    "    gbp.quicksum(gbp.quicksum((int(Dj[dest][comm])-gbp.quicksum(decision_var[orig][dest][comm] for orig in supply_nodes_range))*(Pc[dest][comm])\n",
    "                            for dest in demand_nodes_range) for comm in comm_range)+\n",
    "    gbp.quicksum(vehicles_var[orig][dest] for dest in demand_nodes_range),\n",
    "                        gbp.GRB.MINIMIZE)"
   ]
  },
  {
   "cell_type": "code",
   "execution_count": 22,
   "metadata": {},
   "outputs": [],
   "source": [
    "m.update()"
   ]
  },
  {
   "cell_type": "code",
   "execution_count": 26,
   "metadata": {},
   "outputs": [
    {
     "name": "stdout",
     "output_type": "stream",
     "text": [
      "Minimize\n",
      "   <gurobi.LinExpr: 417.60704281712685 + -0.17647058823529413 S1_D1_c1 + -0.2585034013605442 S1_D1_c2 + -0.35294117647058826 S1_D2_c1 + -0.43537414965986393 S1_D2_c2 + -0.47058823529411764 S1_D3_c1 + -0.30612244897959184 S1_D3_c2 + S2_D1_V + -0.17647058823529413 S2_D1_c1 + -0.2585034013605442 S2_D1_c2 + S2_D2_V + -0.35294117647058826 S2_D2_c1 + -0.43537414965986393 S2_D2_c2 + S2_D3_V + -0.47058823529411764 S2_D3_c1 + -0.30612244897959184 S2_D3_c2>\n",
      "Subject To\n",
      "   R0 : <gurobi.LinExpr: S1_D1_c1 + S1_D2_c1 + S1_D3_c1> <= 100.0\n",
      "   R1 : <gurobi.LinExpr: S1_D1_c2 + S1_D2_c2 + S1_D3_c2> <= 200.0\n",
      "   R2 : <gurobi.LinExpr: S2_D1_c1 + S2_D2_c1 + S2_D3_c1> <= 200.0\n",
      "   R3 : <gurobi.LinExpr: S2_D1_c2 + S2_D2_c2 + S2_D3_c2> <= 700.0\n",
      "   R4 : <gurobi.LinExpr: S1_D1_c1 + S2_D1_c1> <= 75.0\n",
      "   R5 : <gurobi.LinExpr: S1_D1_c2 + S2_D1_c2> <= 190.0\n",
      "   R6 : <gurobi.LinExpr: S1_D2_c1 + S2_D2_c1> <= 150.0\n",
      "   R7 : <gurobi.LinExpr: S1_D2_c2 + S2_D2_c2> <= 320.0\n",
      "   R8 : <gurobi.LinExpr: S1_D3_c1 + S2_D3_c1> <= 200.0\n",
      "   R9 : <gurobi.LinExpr: S1_D3_c2 + S2_D3_c2> <= 225.0\n",
      "   R10 : <gurobi.LinExpr: S1_D1_c1 + S1_D1_c2 + S1_D2_c1 + S1_D2_c2 + S1_D3_c1 + S1_D3_c2> <= 750.0\n",
      "   R11 : <gurobi.LinExpr: S2_D1_c1 + S2_D1_c2 + S2_D2_c1 + S2_D2_c2 + S2_D3_c1 + S2_D3_c2> <= 1050.0\n",
      "   R12 : <gurobi.LinExpr: S1_D1_c1 + S1_D2_c1 + S1_D3_c1> <= 100.0\n",
      "   R13 : <gurobi.LinExpr: S1_D1_c2 + S1_D2_c2 + S1_D3_c2> <= 200.0\n",
      "   R14 : <gurobi.LinExpr: S2_D1_c1 + S2_D2_c1 + S2_D3_c1> <= 200.0\n",
      "   R15 : <gurobi.LinExpr: S2_D1_c2 + S2_D2_c2 + S2_D3_c2> <= 700.0\n",
      "   R16 : <gurobi.LinExpr: S1_D1_c1 + S2_D1_c1> <= 75.0\n",
      "   R17 : <gurobi.LinExpr: S1_D1_c2 + S2_D1_c2> <= 190.0\n",
      "   R18 : <gurobi.LinExpr: S1_D2_c1 + S2_D2_c1> <= 150.0\n",
      "   R19 : <gurobi.LinExpr: S1_D2_c2 + S2_D2_c2> <= 320.0\n",
      "   R20 : <gurobi.LinExpr: S1_D3_c1 + S2_D3_c1> <= 200.0\n",
      "   R21 : <gurobi.LinExpr: S1_D3_c2 + S2_D3_c2> <= 225.0\n",
      "   R22 : <gurobi.LinExpr: S1_D1_c1 + S1_D1_c2 + S1_D2_c1 + S1_D2_c2 + S1_D3_c1 + S1_D3_c2> <= 750.0\n",
      "   R23 : <gurobi.LinExpr: S2_D1_c1 + S2_D1_c2 + S2_D2_c1 + S2_D2_c2 + S2_D3_c1 + S2_D3_c2> <= 1050.0\n",
      "   R24 : <gurobi.LinExpr: S1_D1_V + S1_D2_V + S1_D3_V> <= 5.0\n",
      "   R25 : <gurobi.LinExpr: S2_D1_V + S2_D2_V + S2_D3_V> <= 7.0\n",
      "General Integers\n",
      "   ['S1_D1_V', 'S1_D1_c1', 'S1_D1_c2', 'S1_D2_V', 'S1_D2_c1', 'S1_D2_c2', 'S1_D3_V', 'S1_D3_c1', 'S1_D3_c2', 'S2_D1_V', 'S2_D1_c1', 'S2_D1_c2', 'S2_D2_V', 'S2_D2_c1', 'S2_D2_c2', 'S2_D3_V', 'S2_D3_c1', 'S2_D3_c2']\n"
     ]
    }
   ],
   "source": [
    "m.display()"
   ]
  },
  {
   "cell_type": "code",
   "execution_count": 40,
   "metadata": {},
   "outputs": [],
   "source": [
    "import math"
   ]
  },
  {
   "cell_type": "code",
   "execution_count": 44,
   "metadata": {},
   "outputs": [
    {
     "name": "stdout",
     "output_type": "stream",
     "text": [
      "Gurobi Optimizer version 9.0.1 build v9.0.1rc0 (mac64)\n",
      "Optimize a model with 156 rows, 18 columns and 468 nonzeros\n",
      "Model fingerprint: 0x3b16fb5a\n",
      "Variable types: 0 continuous, 18 integer (0 binary)\n",
      "Coefficient statistics:\n",
      "  Matrix range     [7e-03, 2e+02]\n",
      "  Objective range  [2e-01, 1e+00]\n",
      "  Bounds range     [0e+00, 0e+00]\n",
      "  RHS range        [5e+00, 1e+03]\n",
      "\n",
      "Loaded MIP start from previous solve with objective 77.8335\n",
      "\n",
      "Presolve removed 140 rows and 0 columns\n",
      "Presolve time: 0.00s\n",
      "Presolved: 16 rows, 18 columns, 45 nonzeros\n",
      "Variable types: 0 continuous, 18 integer (2 binary)\n",
      "\n",
      "Root relaxation: objective 3.578235e+01, 14 iterations, 0.00 seconds\n",
      "\n",
      "    Nodes    |    Current Node    |     Objective Bounds      |     Work\n",
      " Expl Unexpl |  Obj  Depth IntInf | Incumbent    BestBd   Gap | It/Node Time\n",
      "\n",
      "     0     0   35.78235    0    4   77.83353   35.78235  54.0%     -    0s\n",
      "     0     0   45.85582    0    3   77.83353   45.85582  41.1%     -    0s\n",
      "     0     0   45.85582    0    3   77.83353   45.85582  41.1%     -    0s\n",
      "     0     0   64.12785    0   11   77.83353   64.12785  17.6%     -    0s\n",
      "     0     0   77.83353    0   13   77.83353   77.83353  0.00%     -    0s\n",
      "\n",
      "Optimal solution found at node 0 - now completing solution pool...\n",
      "\n",
      "    Nodes    |    Current Node    |      Pool Obj. Bounds     |     Work\n",
      "             |                    |   Worst                   |\n",
      " Expl Unexpl |  Obj  Depth IntInf | Incumbent    BestBd   Gap | It/Node Time\n",
      "\n",
      "     0     0   77.83353    0   11          -   77.83353      -     -    0s\n",
      "     0     0   77.83353    0    3          -   77.83353      -     -    0s\n",
      "     0     2   77.83353    0    3          -   77.83353      -     -    0s\n",
      "\n",
      "Cutting planes:\n",
      "  Gomory: 5\n",
      "  Implied bound: 1\n",
      "  MIR: 7\n",
      "  StrongCG: 1\n",
      "  Flow cover: 1\n",
      "  Zero half: 4\n",
      "\n",
      "Explored 189 nodes (170 simplex iterations) in 0.13 seconds\n",
      "Thread count was 12 (of 12 available processors)\n",
      "\n",
      "Solution count 10: 77.8335 77.8335 77.8335 ... 77.8335\n",
      "\n",
      "Optimal solution found (tolerance 1.00e-04)\n",
      "Best objective 7.783353341337e+01, best bound 7.783353341337e+01, gap 0.0000%\n"
     ]
    }
   ],
   "source": [
    "# Add Supply Constraints\n",
    "for orig in supply_nodes_range:\n",
    "    for comm in comm_range:\n",
    "        m.addConstr(gbp.quicksum(decision_var[orig][dest][comm]\n",
    "                                 for dest in demand_nodes_range) - Si[orig][comm] <= 0)\n",
    "# Add Demand Constraints\n",
    "for dest in demand_nodes_range:  \n",
    "    for comm in comm_range:\n",
    "        m.addConstr(gbp.quicksum(decision_var[orig][dest][comm] \n",
    "                                 for orig in supply_nodes_range) - Dj[dest][comm] <= 0)\n",
    "#Add vehicle constraints\n",
    "for orig in supply_nodes_range:\n",
    "    m.addConstr(gbp.quicksum(decision_var[orig][dest][comm]\n",
    "                             for dest in demand_nodes_range for comm in comm_range) <= V_cap*V_num[orig])\n",
    "for orig in supply_nodes_range:\n",
    "    m.addConstr(gbp.quicksum(vehicles_var[orig][dest] for dest in demand_nodes_range) <= V_num[orig])\n",
    "    \n",
    "for orig in supply_nodes_range:\n",
    "    for dest in demand_nodes_range:\n",
    "        m.addConstr(sum(decision_var[orig][dest][comm]\n",
    "                            for comm in comm_range) == V_cap*vehicles_var[orig][dest])\n",
    "\n",
    "#  Optimize and Print( Results)\n",
    "m.optimize()\n",
    "m.write('path.lp')"
   ]
  },
  {
   "cell_type": "code",
   "execution_count": 45,
   "metadata": {},
   "outputs": [
    {
     "name": "stdout",
     "output_type": "stream",
     "text": [
      "10\n",
      "77.8335 [('S1_D1_V', 0.0), ('S1_D1_c1', 0.0), ('S1_D1_c2', 0.0), ('S1_D2_V', 1.0), ('S1_D2_c1', 50.0), ('S1_D2_c2', 100.0), ('S1_D3_V', 1.0), ('S1_D3_c1', 50.0), ('S1_D3_c2', 100.0), ('S2_D1_V', 1.0), ('S2_D1_c1', 0.0), ('S2_D1_c2', 150.0), ('S2_D2_V', 2.0), ('S2_D2_c1', 80.0), ('S2_D2_c2', 220.0), ('S2_D3_V', 1.0), ('S2_D3_c1', 120.0), ('S2_D3_c2', 30.0)]\n"
     ]
    }
   ],
   "source": [
    "nSolutions = m.SolCount\n",
    "print (nSolutions)\n",
    "for e in range(nSolutions):\n",
    "        m.setParam(gbp.GRB.Param.SolutionNumber, e)\n",
    "        print('%g ' % m.PoolObjVal, end='')\n",
    "        print ([(v.Varname,v.x) for v in m.getVars()])\n",
    "        break"
   ]
  },
  {
   "cell_type": "code",
   "execution_count": null,
   "metadata": {},
   "outputs": [],
   "source": [
    "if (nSolutions >= 4):\n",
    "    model.setParam(GRB.Param.SolutionNumber, 3)\n",
    "\n",
    "    print('Selected elements in fourth best solution:')\n",
    "    print('\\t', end='')\n",
    "    for e in range(2):\n",
    "        if Elem[e].Xn > .9:\n",
    "            print(' El%d' % e, end='')\n",
    "    print('')"
   ]
  },
  {
   "cell_type": "code",
   "execution_count": 159,
   "metadata": {},
   "outputs": [
    {
     "name": "stdout",
     "output_type": "stream",
     "text": [
      "<gurobi.Var S1_D1 (value 75.0)>\n",
      "<gurobi.Var S1_D2 (value 25.0)>\n",
      "<gurobi.Var S1_D3 (value -0.0)>\n",
      "<gurobi.Var S2_D1 (value -0.0)>\n",
      "<gurobi.Var S2_D2 (value 125.0)>\n",
      "<gurobi.Var S2_D3 (value 75.0)>\n"
     ]
    }
   ],
   "source": [
    "selected = {}\n",
    "Closed = []\n",
    "for v in m.getVars():\n",
    "    var = '%s' % v.VarName\n",
    "    print (v)\n",
    "#     print ('|  Supply Facility #', var[1:6], 'is shipping', units, \\\n",
    "#                                             'units to Demand Facility #', var[-5:])"
   ]
  },
  {
   "cell_type": "code",
   "execution_count": 52,
   "metadata": {},
   "outputs": [
    {
     "name": "stdout",
     "output_type": "stream",
     "text": [
      "----------------------------------------------------------------------------------------------------\n",
      "|  Supply Facility # S1 is sending 0 vehicles to Demand Facility # D1\n",
      "|  Supply Facility # S1 is shipping 0 units of commodity c1 to Demand Facility # D1\n",
      "|  Supply Facility # S1 is shipping 0 units of commodity c2 to Demand Facility # D1\n",
      "----------------------------------------------------------------------------------------------------\n",
      "|  Supply Facility # S1 is sending 1 vehicles to Demand Facility # D2\n",
      "|  Supply Facility # S1 is shipping 50 units of commodity c1 to Demand Facility # D2\n",
      "|  Supply Facility # S1 is shipping 100 units of commodity c2 to Demand Facility # D2\n",
      "----------------------------------------------------------------------------------------------------\n",
      "|  Supply Facility # S1 is sending 1 vehicles to Demand Facility # D3\n",
      "|  Supply Facility # S1 is shipping 50 units of commodity c1 to Demand Facility # D3\n",
      "|  Supply Facility # S1 is shipping 100 units of commodity c2 to Demand Facility # D3\n",
      "----------------------------------------------------------------------------------------------------\n",
      "|  Supply Facility # S2 is sending 1 vehicles to Demand Facility # D1\n",
      "|  Supply Facility # S2 is shipping 0 units of commodity c1 to Demand Facility # D1\n",
      "|  Supply Facility # S2 is shipping 150 units of commodity c2 to Demand Facility # D1\n",
      "----------------------------------------------------------------------------------------------------\n",
      "|  Supply Facility # S2 is sending 2 vehicles to Demand Facility # D2\n",
      "|  Supply Facility # S2 is shipping 80 units of commodity c1 to Demand Facility # D2\n",
      "|  Supply Facility # S2 is shipping 220 units of commodity c2 to Demand Facility # D2\n",
      "----------------------------------------------------------------------------------------------------\n",
      "|  Supply Facility # S2 is sending 1 vehicles to Demand Facility # D3\n",
      "|  Supply Facility # S2 is shipping 120 units of commodity c1 to Demand Facility # D3\n",
      "|  Supply Facility # S2 is shipping 30 units of commodity c2 to Demand Facility # D3\n",
      "******************************************************************************\n",
      "    | Objective Value ---------------------  77\n",
      "    | Supply Facilities -------------------  2\n",
      "    | Total Supply Units ------------------  1200\n",
      "    | Demand Facilites --------------------  3\n",
      "    | Total Demand Units ------------------  1160\n",
      "    | Total Potential Combinations --------  6\n",
      "    | Actual Combinations  ----------------  18\n",
      "******************************************************************************\n",
      "  --  The Transportation Simplex with Gurobi --\n"
     ]
    }
   ],
   "source": [
    "selected = {}\n",
    "Closed = []\n",
    "for v in m.getVars():\n",
    "    var = '%s' % v.VarName\n",
    "    units=int(v.x)\n",
    "    selected[var] = units\n",
    "    if (v.Varname[-1]=='V'):\n",
    "        print ('-'*100)\n",
    "        print( '|  Supply Facility #', var[:2], 'is sending', units, \\\n",
    "              'vehicles to Demand Facility #', var[3:5]) \n",
    "        \n",
    "    if v.Varname[-2]=='c':\n",
    "        print( '|  Supply Facility #', var[:2], 'is shipping', units, \\\n",
    "                                            'units of commodity',var[-2:], 'to Demand Facility #', var[3:5])\n",
    "    else:\n",
    "        Closed.append([var[1:6], var[-5:]])\n",
    "print( '******************************************************************************')\n",
    "print( '    | Objective Value --------------------- ', int(m.objVal))\n",
    "print( '    | Supply Facilities ------------------- ', len(Si))\n",
    "print( '    | Total Supply Units ------------------ ', Si.sum())\n",
    "print( '    | Demand Facilites -------------------- ', len(Dj))\n",
    "print( '    | Total Demand Units ------------------ ', Dj.sum())\n",
    "print( '    | Total Potential Combinations -------- ', len(Si)*len(Dj))\n",
    "print( '    | Actual Combinations  ---------------- ', len(selected))\n",
    "# print( '    | Real Time to Optimize (sec.) -------- ', t2)\n",
    "print( '******************************************************************************')\n",
    "print( '  --  The Transportation Simplex with Gurobi --')\n"
   ]
  },
  {
   "cell_type": "code",
   "execution_count": null,
   "metadata": {},
   "outputs": [],
   "source": []
  }
 ],
 "metadata": {
  "kernelspec": {
   "display_name": "Python 3",
   "language": "python",
   "name": "python3"
  },
  "language_info": {
   "codemirror_mode": {
    "name": "ipython",
    "version": 3
   },
   "file_extension": ".py",
   "mimetype": "text/x-python",
   "name": "python",
   "nbconvert_exporter": "python",
   "pygments_lexer": "ipython3",
   "version": "3.7.3"
  }
 },
 "nbformat": 4,
 "nbformat_minor": 2
}
