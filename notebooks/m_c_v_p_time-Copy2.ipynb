{
 "cells": [
  {
   "cell_type": "code",
   "execution_count": 1,
   "metadata": {},
   "outputs": [],
   "source": [
    "import numpy as np\n",
    "import gurobipy as gbp\n",
    "import time\n",
    "import pandas as pd\n",
    "np.random.seed(352)\n"
   ]
  },
  {
   "cell_type": "code",
   "execution_count": 3,
   "metadata": {},
   "outputs": [],
   "source": [
    "n_com=1 #no of commodities\n",
    "n_sup=2 #no of supply nodes\n",
    "n_dem=3 #no of demands nodes"
   ]
  },
  {
   "cell_type": "code",
   "execution_count": 4,
   "metadata": {},
   "outputs": [
    {
     "data": {
      "text/plain": [
       "((2, 2, 1), (2, 3, 1))"
      ]
     },
     "execution_count": 4,
     "metadata": {},
     "output_type": "execute_result"
    }
   ],
   "source": [
    "#Supply Demand of all commodities \n",
    "\"\"\"[\n",
    "[Day1:[Supplier_1:comm1,Supplier_1:comm2],[s2c1,s2c2]],\n",
    "Day2:[],\n",
    "Day3:[]\n",
    "    ]\"\"\"\n",
    "Si=np.array([[[300],[500]],\n",
    "             [[600],[1000]]])\n",
    "Dj=np.array([[[290,150],[200,400],[470,250]],\n",
    "             [[580,300],[400,800],[940,500]]])\n",
    "Si.shape,Dj.shape #days X nodes X commodities"
   ]
  },
  {
   "cell_type": "code",
   "execution_count": 5,
   "metadata": {},
   "outputs": [
    {
     "data": {
      "text/plain": [
       "(array([[ 800],\n",
       "        [1600]]), array([[ 960],\n",
       "        [1920]]))"
      ]
     },
     "execution_count": 5,
     "metadata": {},
     "output_type": "execute_result"
    }
   ],
   "source": [
    "# check assumption that demand is always higher than supply\n",
    "np.sum(Si,axis=1),np.sum(Dj,axis=1)"
   ]
  },
  {
   "cell_type": "code",
   "execution_count": 6,
   "metadata": {},
   "outputs": [],
   "source": [
    "#Vehicle capacity, number of vehicles with each supplier, cost of transportation from supply nodes to demand nodes\n",
    "V_cap=150\n",
    "V_num=np.array([5,7])\n",
    "V_cost=np.array([[10,15,20],[18,13,20]])"
   ]
  },
  {
   "cell_type": "code",
   "execution_count": 8,
   "metadata": {},
   "outputs": [],
   "source": [
    "#People Variables\n",
    "n_pep=np.array([[[25,25],[50,50],[30,30]],\n",
    "                [[25,25],[50,50],[30,30]]]) #no of people on each demand node,\n",
    "mu=[4] # consumption rate (comm req per person per day)"
   ]
  },
  {
   "cell_type": "code",
   "execution_count": 9,
   "metadata": {},
   "outputs": [
    {
     "data": {
      "text/plain": [
       "range(0, 2)"
      ]
     },
     "execution_count": 9,
     "metadata": {},
     "output_type": "execute_result"
    }
   ],
   "source": [
    "n_days=len(Si)\n",
    "days_range=range(n_days)\n",
    "days_range"
   ]
  },
  {
   "cell_type": "code",
   "execution_count": 10,
   "metadata": {},
   "outputs": [
    {
     "name": "stdout",
     "output_type": "stream",
     "text": [
      "range(0, 2) range(0, 3) range(0, 1) 6\n"
     ]
    }
   ],
   "source": [
    "# Indices & Variable Names\n",
    "supply_nodes = n_sup\n",
    "demand_nodes = n_dem\n",
    "supply_nodes_range = range(n_sup)\n",
    "demand_nodes_range = range(n_dem)\n",
    "comm_range=range(n_com)\n",
    "all_nodes_len = n_sup*n_dem\n",
    "ALL_nodes_range = range(all_nodes_len)\n",
    "\n",
    "print (supply_nodes_range, demand_nodes_range,comm_range, all_nodes_len)"
   ]
  },
  {
   "cell_type": "code",
   "execution_count": 11,
   "metadata": {},
   "outputs": [
    {
     "data": {
      "text/plain": [
       "array([[[0.30208333],\n",
       "        [0.20833333],\n",
       "        [0.48958333]],\n",
       "\n",
       "       [[0.30208333],\n",
       "        [0.20833333],\n",
       "        [0.48958333]]])"
      ]
     },
     "execution_count": 11,
     "metadata": {},
     "output_type": "execute_result"
    }
   ],
   "source": [
    "Pc=np.array([Dj[ix]/Dj[ix].sum(axis=0) for ix in range(len(Dj))])\n",
    "Pc"
   ]
  },
  {
   "cell_type": "code",
   "execution_count": 15,
   "metadata": {},
   "outputs": [
    {
     "data": {
      "text/plain": [
       "([[[0, 0], [0, 0], [0, 0]]], [array([[0],\n",
       "         [0]])])"
      ]
     },
     "execution_count": 15,
     "metadata": {},
     "output_type": "execute_result"
    }
   ],
   "source": [
    "unserved_people=[[[0,0],[0,0],[0,0]]]\n",
    "prev_inventory=[Si[0]*0]\n",
    "unserved_people,prev_inventory"
   ]
  },
  {
   "cell_type": "code",
   "execution_count": 16,
   "metadata": {},
   "outputs": [
    {
     "data": {
      "text/plain": [
       "70.38538215041021"
      ]
     },
     "execution_count": 16,
     "metadata": {},
     "output_type": "execute_result"
    }
   ],
   "source": [
    "dep_time=24\n",
    "dep_cost=np.exp(1.5031+0.1172*dep_time)-np.exp(1.5031)\n",
    "dep_cost"
   ]
  },
  {
   "cell_type": "code",
   "execution_count": 17,
   "metadata": {},
   "outputs": [
    {
     "name": "stdout",
     "output_type": "stream",
     "text": [
      "##################################################   Day 1    ##################################################\n",
      "Changed value of parameter MIPFocus to 2\n",
      "   Prev: 0  Min: 0  Max: 3  Default: 0\n",
      "First term:  <gurobi.LinExpr: 3593.75 + -3.020833333333333 S1_D1_c1 + -3.020833333333333 S2_D1_c1 + -2.0833333333333335 S1_D2_c1 + -2.0833333333333335 S2_D2_c1 + -4.895833333333333 S1_D3_c1 + -4.895833333333333 S2_D3_c1>\n",
      "Gurobi Optimizer version 9.0.1 build v9.0.1rc0 (mac64)\n",
      "Optimize a model with 27 rows, 15 columns and 60 nonzeros\n",
      "Model fingerprint: 0x0f8aa9c1\n",
      "Variable types: 0 continuous, 15 integer (0 binary)\n",
      "Coefficient statistics:\n",
      "  Matrix range     [7e-03, 4e+00]\n",
      "  Objective range  [2e+00, 2e+01]\n",
      "  Bounds range     [0e+00, 0e+00]\n",
      "  RHS range        [1e+00, 1e+03]\n",
      "Found heuristic solution: objective 550.9166667\n",
      "Presolve removed 4 rows and 0 columns\n",
      "Presolve time: 0.00s\n",
      "Presolved: 23 rows, 15 columns, 54 nonzeros\n",
      "Variable types: 0 continuous, 15 integer (0 binary)\n",
      "Presolve removed 13 rows and 5 columns\n",
      "Presolved: 10 rows, 12 columns, 28 nonzeros\n",
      "\n",
      "\n",
      "Root relaxation: objective 9.933333e+01, 4 iterations, 0.00 seconds\n",
      "\n",
      "    Nodes    |    Current Node    |     Objective Bounds      |     Work\n",
      " Expl Unexpl |  Obj  Depth IntInf | Incumbent    BestBd   Gap | It/Node Time\n",
      "\n",
      "     0     0   99.33333    0    3  550.91667   99.33333  82.0%     -    0s\n",
      "H    0     0                     126.0000000   99.33333  21.2%     -    0s\n",
      "     0     0  100.80000    0    3  126.00000  100.80000  20.0%     -    0s\n",
      "     0     0     cutoff    0       126.00000  126.00000  0.00%     -    0s\n",
      "\n",
      "Cutting planes:\n",
      "  Gomory: 3\n",
      "  MIR: 4\n",
      "  StrongCG: 2\n",
      "  Mod-K: 1\n",
      "\n",
      "Explored 1 nodes (11 simplex iterations) in 0.03 seconds\n",
      "Thread count was 12 (of 12 available processors)\n",
      "\n",
      "Solution count 2: 126 550.917 \n",
      "\n",
      "Optimal solution found (tolerance 1.00e-04)\n",
      "Best objective 1.260000000000e+02, best bound 1.260000000000e+02, gap 0.0000%\n",
      "Minimize\n",
      "   <gurobi.LinExpr: 3593.75 + 10.0 S1_D1_V + -3.020833333333333 S1_D1_c1 + 15.0 S1_D2_V + -2.0833333333333335 S1_D2_c1 + 20.0 S1_D3_V + -4.895833333333333 S1_D3_c1 + 18.0 S2_D1_V + -3.020833333333333 S2_D1_c1 + 13.0 S2_D2_V + -2.0833333333333335 S2_D2_c1 + 20.0 S2_D3_V + -4.895833333333333 S2_D3_c1 + 7.038538215041021 D1_c1_U + 7.038538215041021 D2_c1_U + 7.038538215041021 D3_c1_U>\n",
      "Subject To\n",
      "   R0 : <gurobi.LinExpr: S1_D1_c1 + S2_D1_c1> <= 290.0\n",
      "   R1 : <gurobi.LinExpr: S1_D2_c1 + S2_D2_c1> <= 200.0\n",
      "   R2 : <gurobi.LinExpr: S1_D3_c1 + S2_D3_c1> <= 470.0\n",
      "   R3 : <gurobi.LinExpr: S1_D1_c1 + S1_D2_c1 + S1_D3_c1> <= 750.0\n",
      "   R4 : <gurobi.LinExpr: S2_D1_c1 + S2_D2_c1 + S2_D3_c1> <= 1050.0\n",
      "   R5 : <gurobi.LinExpr: S1_D1_V + S1_D2_V + S1_D3_V> <= 5.0\n",
      "   R6 : <gurobi.LinExpr: S2_D1_V + S2_D2_V + S2_D3_V> <= 7.0\n",
      "   R7 : <gurobi.LinExpr: S1_D1_V + -0.006666666666666667 S1_D1_c1> >= 0.0\n",
      "   R8 : <gurobi.LinExpr: S1_D2_V + -0.006666666666666667 S1_D2_c1> >= 0.0\n",
      "   R9 : <gurobi.LinExpr: S1_D3_V + -0.006666666666666667 S1_D3_c1> >= 0.0\n",
      "   R10 : <gurobi.LinExpr: S2_D1_V + -0.006666666666666667 S2_D1_c1> >= 0.0\n",
      "   R11 : <gurobi.LinExpr: S2_D2_V + -0.006666666666666667 S2_D2_c1> >= 0.0\n",
      "   R12 : <gurobi.LinExpr: S2_D3_V + -0.006666666666666667 S2_D3_c1> >= 0.0\n",
      "   R13 : <gurobi.LinExpr: S1_D1_V + -0.006666666666666667 S1_D1_c1> <= 1.0\n",
      "   R14 : <gurobi.LinExpr: S1_D2_V + -0.006666666666666667 S1_D2_c1> <= 1.0\n",
      "   R15 : <gurobi.LinExpr: S1_D3_V + -0.006666666666666667 S1_D3_c1> <= 1.0\n",
      "   R16 : <gurobi.LinExpr: S2_D1_V + -0.006666666666666667 S2_D1_c1> <= 1.0\n",
      "   R17 : <gurobi.LinExpr: S2_D2_V + -0.006666666666666667 S2_D2_c1> <= 1.0\n",
      "   R18 : <gurobi.LinExpr: S2_D3_V + -0.006666666666666667 S2_D3_c1> <= 1.0\n",
      "   R19 : <gurobi.LinExpr: D1_c1_U> <= 25.0\n",
      "   R20 : <gurobi.LinExpr: D2_c1_U> <= 50.0\n",
      "   R21 : <gurobi.LinExpr: D3_c1_U> <= 30.0\n",
      "   R22 : <gurobi.LinExpr: S1_D1_c1 + S2_D1_c1 + 4.0 D1_c1_U> >= 100.0\n",
      "   R23 : <gurobi.LinExpr: S1_D2_c1 + S2_D2_c1 + 4.0 D2_c1_U> >= 200.0\n",
      "   R24 : <gurobi.LinExpr: S1_D3_c1 + S2_D3_c1 + 4.0 D3_c1_U> >= 120.0\n",
      "   R25 : <gurobi.LinExpr: S1_D1_c1 + S1_D2_c1 + S1_D3_c1> >= 300.0\n",
      "   R26 : <gurobi.LinExpr: S2_D1_c1 + S2_D2_c1 + S2_D3_c1> >= 500.0\n",
      "General Integers\n",
      "   ['S1_D1_V', 'S1_D1_c1', 'S1_D2_V', 'S1_D2_c1', 'S1_D3_V', 'S1_D3_c1', 'S2_D1_V', 'S2_D1_c1', 'S2_D2_V', 'S2_D2_c1', 'S2_D3_V', 'S2_D3_c1', 'D1_c1_U', 'D2_c1_U', 'D3_c1_U']\n",
      "None\n",
      "^^^^^^^^^^^^^^^^^^^^^^^^^^^^^^^^^^^^^^^^^^^^^^^^^^^^^^^^^^^^^^^^^^^^^^^^^^^^^^^^^^^^^^^^^^^^^^^^^^^^\n",
      "First term:  0  Second term:  126  Third term:  0\n",
      "^^^^^^^^^^^^^^^^^^^^^^^^^^^^^^^^^^^^^^^^^^^^^^^^^^^^^^^^^^^^^^^^^^^^^^^^^^^^^^^^^^^^^^^^^^^^^^^^^^^^\n",
      "##################################################   Day 2    ##################################################\n",
      "Changed value of parameter MIPFocus to 2\n",
      "   Prev: 0  Min: 0  Max: 3  Default: 0\n",
      "First term:  <gurobi.LinExpr: 7187.5 + -3.020833333333333 S1_D1_c1 + -3.020833333333333 S2_D1_c1 + -2.0833333333333335 S1_D2_c1 + -2.0833333333333335 S2_D2_c1 + -4.895833333333333 S1_D3_c1 + -4.895833333333333 S2_D3_c1>\n",
      "Gurobi Optimizer version 9.0.1 build v9.0.1rc0 (mac64)\n",
      "Optimize a model with 27 rows, 15 columns and 60 nonzeros\n",
      "Model fingerprint: 0xa3c3c9f3\n",
      "Variable types: 0 continuous, 15 integer (0 binary)\n",
      "Coefficient statistics:\n",
      "  Matrix range     [7e-03, 4e+00]\n",
      "  Objective range  [2e+00, 2e+01]\n",
      "  Bounds range     [0e+00, 0e+00]\n",
      "  RHS range        [1e+00, 1e+03]\n",
      "Presolve removed 3 rows and 0 columns\n",
      "Presolve time: 0.00s\n",
      "Presolved: 24 rows, 15 columns, 57 nonzeros\n",
      "Variable types: 0 continuous, 15 integer (0 binary)\n",
      "Found heuristic solution: objective 805.3343301\n",
      "Presolve removed 14 rows and 5 columns\n",
      "Presolved: 10 rows, 13 columns, 29 nonzeros\n",
      "\n",
      "\n",
      "Root relaxation: objective 4.382667e+02, 5 iterations, 0.00 seconds\n",
      "\n",
      "    Nodes    |    Current Node    |     Objective Bounds      |     Work\n",
      " Expl Unexpl |  Obj  Depth IntInf | Incumbent    BestBd   Gap | It/Node Time\n",
      "\n",
      "     0     0  438.26667    0    4  805.33433  438.26667  45.6%     -    0s\n",
      "H    0     0                     590.1666667  438.26667  25.7%     -    0s\n",
      "     0     0  449.61250    0    9  590.16667  449.61250  23.8%     -    0s\n",
      "     0     0  524.88365    0    8  590.16667  524.88365  11.1%     -    0s\n",
      "\n",
      "Cutting planes:\n",
      "  Gomory: 8\n",
      "  MIR: 7\n",
      "  StrongCG: 1\n",
      "\n",
      "Explored 1 nodes (17 simplex iterations) in 0.04 seconds\n",
      "Thread count was 12 (of 12 available processors)\n",
      "\n",
      "Solution count 2: 590.167 805.334 \n",
      "\n",
      "Optimal solution found (tolerance 1.00e-04)\n",
      "Best objective 5.901666666667e+02, best bound 5.901666666667e+02, gap 0.0000%\n",
      "Minimize\n",
      "   <gurobi.LinExpr: 7187.5 + 10.0 S1_D1_V + -3.020833333333333 S1_D1_c1 + 15.0 S1_D2_V + -2.0833333333333335 S1_D2_c1 + 20.0 S1_D3_V + -4.895833333333333 S1_D3_c1 + 18.0 S2_D1_V + -3.020833333333333 S2_D1_c1 + 13.0 S2_D2_V + -2.0833333333333335 S2_D2_c1 + 20.0 S2_D3_V + -4.895833333333333 S2_D3_c1 + 7.038538215041021 D1_c1_U + 7.038538215041021 D2_c1_U + 7.038538215041021 D3_c1_U>\n",
      "Subject To\n",
      "   R0 : <gurobi.LinExpr: S1_D1_c1 + S2_D1_c1> <= 580.0\n",
      "   R1 : <gurobi.LinExpr: S1_D2_c1 + S2_D2_c1> <= 400.0\n",
      "   R2 : <gurobi.LinExpr: S1_D3_c1 + S2_D3_c1> <= 940.0\n",
      "   R3 : <gurobi.LinExpr: S1_D1_c1 + S1_D2_c1 + S1_D3_c1> <= 750.0\n",
      "   R4 : <gurobi.LinExpr: S2_D1_c1 + S2_D2_c1 + S2_D3_c1> <= 1050.0\n",
      "   R5 : <gurobi.LinExpr: S1_D1_V + S1_D2_V + S1_D3_V> <= 5.0\n",
      "   R6 : <gurobi.LinExpr: S2_D1_V + S2_D2_V + S2_D3_V> <= 7.0\n",
      "   R7 : <gurobi.LinExpr: S1_D1_V + -0.006666666666666667 S1_D1_c1> >= 0.0\n",
      "   R8 : <gurobi.LinExpr: S1_D2_V + -0.006666666666666667 S1_D2_c1> >= 0.0\n",
      "   R9 : <gurobi.LinExpr: S1_D3_V + -0.006666666666666667 S1_D3_c1> >= 0.0\n",
      "   R10 : <gurobi.LinExpr: S2_D1_V + -0.006666666666666667 S2_D1_c1> >= 0.0\n",
      "   R11 : <gurobi.LinExpr: S2_D2_V + -0.006666666666666667 S2_D2_c1> >= 0.0\n",
      "   R12 : <gurobi.LinExpr: S2_D3_V + -0.006666666666666667 S2_D3_c1> >= 0.0\n",
      "   R13 : <gurobi.LinExpr: S1_D1_V + -0.006666666666666667 S1_D1_c1> <= 1.0\n",
      "   R14 : <gurobi.LinExpr: S1_D2_V + -0.006666666666666667 S1_D2_c1> <= 1.0\n",
      "   R15 : <gurobi.LinExpr: S1_D3_V + -0.006666666666666667 S1_D3_c1> <= 1.0\n",
      "   R16 : <gurobi.LinExpr: S2_D1_V + -0.006666666666666667 S2_D1_c1> <= 1.0\n",
      "   R17 : <gurobi.LinExpr: S2_D2_V + -0.006666666666666667 S2_D2_c1> <= 1.0\n",
      "   R18 : <gurobi.LinExpr: S2_D3_V + -0.006666666666666667 S2_D3_c1> <= 1.0\n",
      "   R19 : <gurobi.LinExpr: D1_c1_U> <= 25.0\n",
      "   R20 : <gurobi.LinExpr: D2_c1_U> <= 50.0\n",
      "   R21 : <gurobi.LinExpr: D3_c1_U> <= 30.0\n",
      "   R22 : <gurobi.LinExpr: S1_D1_c1 + S2_D1_c1 + 4.0 D1_c1_U> >= 100.0\n",
      "   R23 : <gurobi.LinExpr: S1_D2_c1 + S2_D2_c1 + 4.0 D2_c1_U> >= 200.0\n",
      "   R24 : <gurobi.LinExpr: S1_D3_c1 + S2_D3_c1 + 4.0 D3_c1_U> >= 120.0\n",
      "   R25 : <gurobi.LinExpr: S1_D1_c1 + S1_D2_c1 + S1_D3_c1> >= 600.0\n",
      "   R26 : <gurobi.LinExpr: S2_D1_c1 + S2_D2_c1 + S2_D3_c1> >= 1000.0\n",
      "General Integers\n",
      "   ['S1_D1_V', 'S1_D1_c1', 'S1_D2_V', 'S1_D2_c1', 'S1_D3_V', 'S1_D3_c1', 'S2_D1_V', 'S2_D1_c1', 'S2_D2_V', 'S2_D2_c1', 'S2_D3_V', 'S2_D3_c1', 'D1_c1_U', 'D2_c1_U', 'D3_c1_U']\n",
      "None\n",
      "^^^^^^^^^^^^^^^^^^^^^^^^^^^^^^^^^^^^^^^^^^^^^^^^^^^^^^^^^^^^^^^^^^^^^^^^^^^^^^^^^^^^^^^^^^^^^^^^^^^^\n",
      "First term:  40  Second term:  186  Third term:  0\n",
      "^^^^^^^^^^^^^^^^^^^^^^^^^^^^^^^^^^^^^^^^^^^^^^^^^^^^^^^^^^^^^^^^^^^^^^^^^^^^^^^^^^^^^^^^^^^^^^^^^^^^\n"
     ]
    }
   ],
   "source": [
    "cols=['Day','S_Node']+['D'+str(i+1)+'_c'+str(j+1) for i in demand_nodes_range for j in comm_range]\n",
    "cols+=['Total_S_c'+str(i+1) for i in comm_range]\n",
    "cols+=['Deliver_S_c'+str(i+1) for i in comm_range]\n",
    "cols+=['D'+str(i+1)+'_v' for i in demand_nodes_range]\n",
    "cols+=['Total_V']\n",
    "\n",
    "df=pd.DataFrame(columns=cols,index=None,dtype=int)\n",
    "\n",
    "cols2=['Day','D_Node']+['Total'+'_c'+str(i+1) for i in comm_range]+['Unserv'+'_c'+str(i+1) for i in comm_range]\n",
    "df2=pd.DataFrame(columns=cols2,index=None,dtype=int)\n",
    "df2\n",
    "\n",
    "unserved_people=[[[0,0],[0,0],[0,0]]]\n",
    "for day in days_range:\n",
    "    print ('#'*50,'  Day',day+1,'  ','#'*50)\n",
    "    # Create Model, Set MIP Focus, Add Variables, & Update Model\n",
    "    m = gbp.Model(' -- The Multi Commodity Vehicle Transportation Problem -- ')\n",
    "\n",
    "    # Set MIP Focus to 2 for optimality\n",
    "    m.setParam('MIPFocus', 2)\n",
    "    # m.setParam(gbp.GRB.Param.PoolSearchMode, 1)\n",
    "    # m.setParam(gbp.GRB.Param.PoolGap, 0.10)\n",
    "\n",
    "    decision_var = []\n",
    "    vehicles_var=[]\n",
    "    unserved_var=[]\n",
    "    for orig in supply_nodes_range:\n",
    "        decision_var.append([])\n",
    "        vehicles_var.append([])\n",
    "        for dest in demand_nodes_range:\n",
    "            decision_var[orig].append([])\n",
    "            vehicles_var[orig].append(m.addVar(vtype=gbp.GRB.INTEGER,\n",
    "                                              name='S'+str(orig+1)+'_D'+str(dest+1)+'_V'))\n",
    "            for comm in comm_range:\n",
    "    #             print (comm,decision_var)\n",
    "                decision_var[orig][dest].append(m.addVar(vtype=gbp.GRB.INTEGER, \n",
    "    #                                         obj=Cij[orig][dest],\n",
    "    #                                            obj=1,\n",
    "                                            name='S'+str(orig+1)+'_D'+str(dest+1)+'_c'+str(comm+1)))\n",
    "    for dest in demand_nodes_range:\n",
    "        unserved_var.append([])\n",
    "        for comm in comm_range:\n",
    "            unserved_var[dest].append(m.addVar(vtype=gbp.GRB.INTEGER,\n",
    "                                              name='D'+str(dest+1)+'_c'+str(comm+1)+'_U'))\n",
    "    # Update Model Variables\n",
    "    m.update()       \n",
    "    \n",
    "    #sum(sum[(Demand - net supplied)*priority for every demand node] for every commodity)\n",
    "    first_term=10*gbp.quicksum(gbp.quicksum((int(Dj[day][dest][comm])-gbp.quicksum(decision_var[orig][dest][comm] for orig in supply_nodes_range))*(Pc[day][dest][comm])\n",
    "                                for dest in demand_nodes_range) for comm in comm_range)\n",
    "    print ('First term: ',first_term)\n",
    "    \n",
    "    second_term=gbp.quicksum(gbp.quicksum(vehicles_var[orig][dest]*V_cost[orig][dest] for dest in demand_nodes_range) for orig in supply_nodes_range)\n",
    "    third_term=0.1*gbp.quicksum(gbp.quicksum(unserved_var[dest][comm]*dep_cost for comm in comm_range) for dest in demand_nodes_range)\n",
    "    \n",
    "    #objective function\n",
    "    m.setObjective(first_term+second_term+third_term,gbp.GRB.MINIMIZE)\n",
    "\n",
    "    m.update()\n",
    "\n",
    "    # Add Supply Constraints\n",
    "    for orig in supply_nodes_range:\n",
    "        for comm in comm_range:\n",
    "            m.addConstr(gbp.quicksum(decision_var[orig][dest][comm]\n",
    "                                     for dest in demand_nodes_range) - Si[day][orig][comm] - prev_inventory[day][orig][comm] <= 0)\n",
    "    # Add Demand Constraints\n",
    "    for dest in demand_nodes_range:  \n",
    "        for comm in comm_range:\n",
    "            m.addConstr(gbp.quicksum(decision_var[orig][dest][comm] \n",
    "                                     for orig in supply_nodes_range) - Dj[day][dest][comm] <= 0)\n",
    "    #Add vehicle constraints\n",
    "    for orig in supply_nodes_range:\n",
    "        m.addConstr(gbp.quicksum(decision_var[orig][dest][comm]\n",
    "                                 for dest in demand_nodes_range for comm in comm_range) - V_cap*V_num[orig] <=0)\n",
    "    for orig in supply_nodes_range:\n",
    "        m.addConstr(gbp.quicksum(vehicles_var[orig][dest] for dest in demand_nodes_range) - V_num[orig] <=0)\n",
    "\n",
    "    for orig in supply_nodes_range:\n",
    "        for dest in demand_nodes_range:\n",
    "            m.addConstr(-sum(decision_var[orig][dest][comm]\n",
    "                                for comm in comm_range)/V_cap + vehicles_var[orig][dest]>=0)\n",
    "    for orig in supply_nodes_range:\n",
    "        for dest in demand_nodes_range:\n",
    "            m.addConstr(-sum(decision_var[orig][dest][comm]\n",
    "                                for comm in comm_range)/V_cap + vehicles_var[orig][dest]<=1)\n",
    "\n",
    "    ######Add unserved people contstraints\n",
    "    #unserved people at t <= num of people at t + unserved people at t-1\n",
    "    for dest in demand_nodes_range:\n",
    "        for comm in comm_range:\n",
    "            m.addConstr(unserved_var[dest][comm]<=n_pep[day][dest][comm]+unserved_people[day][dest][comm])\n",
    "            \n",
    "    # supplied commodity at demand node > (no of people at t + unserved people at t-1 - unserved people at t)*consumption rate\n",
    "    for dest in demand_nodes_range:\n",
    "        for comm in comm_range:\n",
    "            m.addConstr(sum(decision_var[orig][dest][comm] for orig in supply_nodes_range)-\n",
    "                        ((n_pep[day][dest][comm]+unserved_people[day][dest][comm]-unserved_var[dest][comm])*mu[comm])>=0)\n",
    "            \n",
    "        \n",
    "# #      Adding 0 inventory for next day constraint: no supply left for t+1\n",
    "#     for orig in supply_nodes_range:\n",
    "#         for comm in comm_range:\n",
    "#             m.addConstr(gbp.quicksum(decision_var[orig][dest][comm]\n",
    "#                                      for dest in demand_nodes_range) - Si[day][orig][comm] >= 0)\n",
    "\n",
    "    #  Optimize and Print( Results)\n",
    "    m.optimize()\n",
    "    m.write('./path.lp')\n",
    "    print (m.display())\n",
    "\n",
    "#     m.display()\n",
    "    prev_inventory.append([])\n",
    "\n",
    "    for orig in supply_nodes_range:\n",
    "        prev_inventory[day+1].append([])\n",
    "        for comm in comm_range:\n",
    "            prev_inventory[day+1][orig].append(Si[day][orig][comm]-sum(decision_var[orig][dest][comm].x\n",
    "                                 for dest in demand_nodes_range))\n",
    "\n",
    "#     print (prev_inventory)\n",
    "    unserved_people.append([])\n",
    "    for dest in demand_nodes_range:\n",
    "        unserved_people[day+1].append([])\n",
    "        for comm in comm_range:\n",
    "            unserved_people[day+1][dest].append(unserved_var[dest][comm].x)\n",
    "\n",
    "            \n",
    "    \n",
    "    #Populate DataFrame\n",
    "    for ix in supply_nodes_range:\n",
    "        r_t=[]\n",
    "        r_t+=[decision_var[ix][iy][iz].x for iy in demand_nodes_range for iz in comm_range]\n",
    "        r_t+=[Si[day][ix][iy] for iy in comm_range]\n",
    "        r_t+=[sum(decision_var[ix][iy][iz].x for iy in demand_nodes_range) for iz in comm_range]\n",
    "        r_t+=[vehicles_var[ix][iy].x for iy in demand_nodes_range]\n",
    "        r_t+=[V_num[ix]]\n",
    "        df.loc[len(df)]=[day+1,ix+1]+r_t\n",
    "\n",
    "    for ix in demand_nodes_range:\n",
    "        r_t=[]\n",
    "        r_t+=[n_pep[0][ix][iy] for iy in comm_range]\n",
    "        r_t+=[unserved_var[ix][iy].x for iy in comm_range]\n",
    "        df2.loc[len(df2)]=[day+1,int(ix+1)]+r_t\n",
    "    \n",
    "    first_term_val=sum(sum((int(Dj[day][dest][comm])-sum(decision_var[orig][dest][comm].x for orig in supply_nodes_range))*(Pc[day][dest][comm])\n",
    "                                for dest in demand_nodes_range) for comm in comm_range)\n",
    "    second_term_val=sum(sum(vehicles_var[orig][dest].x*V_cost[orig][dest] for dest in demand_nodes_range) for orig in supply_nodes_range)\n",
    "    third_term_val=0.1*sum(sum(unserved_var[dest][comm].x*dep_cost for comm in comm_range) for dest in demand_nodes_range)\n",
    "    \n",
    "    print ('^'*100)\n",
    "    print (\"First term: \",int(first_term_val),\" Second term: \",int(second_term_val),\" Third term: \",int(third_term_val))\n",
    "    print ('^'*100)\n"
   ]
  },
  {
   "cell_type": "code",
   "execution_count": 85,
   "metadata": {},
   "outputs": [
    {
     "data": {
      "text/plain": [
       "[array([[0, 0],\n",
       "        [0, 0]]), [[0.0, 0.0], [0.0, 0.0]], [[0.0, 0.0], [0.0, 0.0]], [[]]]"
      ]
     },
     "execution_count": 85,
     "metadata": {},
     "output_type": "execute_result"
    }
   ],
   "source": [
    "prev_inventory"
   ]
  },
  {
   "cell_type": "code",
   "execution_count": 86,
   "metadata": {},
   "outputs": [
    {
     "data": {
      "text/plain": [
       "600"
      ]
     },
     "execution_count": 86,
     "metadata": {},
     "output_type": "execute_result"
    }
   ],
   "source": [
    "Si[2][0][0]"
   ]
  },
  {
   "cell_type": "code",
   "execution_count": 87,
   "metadata": {},
   "outputs": [
    {
     "data": {
      "text/html": [
       "<div>\n",
       "<style scoped>\n",
       "    .dataframe tbody tr th:only-of-type {\n",
       "        vertical-align: middle;\n",
       "    }\n",
       "\n",
       "    .dataframe tbody tr th {\n",
       "        vertical-align: top;\n",
       "    }\n",
       "\n",
       "    .dataframe thead th {\n",
       "        text-align: right;\n",
       "    }\n",
       "</style>\n",
       "<table border=\"1\" class=\"dataframe\">\n",
       "  <thead>\n",
       "    <tr style=\"text-align: right;\">\n",
       "      <th></th>\n",
       "      <th>Day</th>\n",
       "      <th>S_Node</th>\n",
       "      <th>D1_c1</th>\n",
       "      <th>D1_c2</th>\n",
       "      <th>D2_c1</th>\n",
       "      <th>D2_c2</th>\n",
       "      <th>D3_c1</th>\n",
       "      <th>D3_c2</th>\n",
       "      <th>Total_S_c1</th>\n",
       "      <th>Total_S_c2</th>\n",
       "      <th>Deliver_S_c1</th>\n",
       "      <th>Deliver_S_c2</th>\n",
       "      <th>D1_v</th>\n",
       "      <th>D2_v</th>\n",
       "      <th>D3_v</th>\n",
       "      <th>Total_V</th>\n",
       "    </tr>\n",
       "  </thead>\n",
       "  <tbody>\n",
       "    <tr>\n",
       "      <th>0</th>\n",
       "      <td>1.0</td>\n",
       "      <td>1.0</td>\n",
       "      <td>32.0</td>\n",
       "      <td>118.0</td>\n",
       "      <td>-0.0</td>\n",
       "      <td>-0.0</td>\n",
       "      <td>68.0</td>\n",
       "      <td>82.0</td>\n",
       "      <td>100.0</td>\n",
       "      <td>200.0</td>\n",
       "      <td>100.0</td>\n",
       "      <td>200.0</td>\n",
       "      <td>1.0</td>\n",
       "      <td>0.0</td>\n",
       "      <td>1.0</td>\n",
       "      <td>5.0</td>\n",
       "    </tr>\n",
       "    <tr>\n",
       "      <th>1</th>\n",
       "      <td>1.0</td>\n",
       "      <td>2.0</td>\n",
       "      <td>-0.0</td>\n",
       "      <td>62.0</td>\n",
       "      <td>148.0</td>\n",
       "      <td>420.0</td>\n",
       "      <td>52.0</td>\n",
       "      <td>218.0</td>\n",
       "      <td>200.0</td>\n",
       "      <td>700.0</td>\n",
       "      <td>200.0</td>\n",
       "      <td>700.0</td>\n",
       "      <td>1.0</td>\n",
       "      <td>4.0</td>\n",
       "      <td>2.0</td>\n",
       "      <td>7.0</td>\n",
       "    </tr>\n",
       "    <tr>\n",
       "      <th>2</th>\n",
       "      <td>2.0</td>\n",
       "      <td>1.0</td>\n",
       "      <td>168.0</td>\n",
       "      <td>-0.0</td>\n",
       "      <td>-0.0</td>\n",
       "      <td>100.0</td>\n",
       "      <td>132.0</td>\n",
       "      <td>-0.0</td>\n",
       "      <td>300.0</td>\n",
       "      <td>100.0</td>\n",
       "      <td>300.0</td>\n",
       "      <td>100.0</td>\n",
       "      <td>2.0</td>\n",
       "      <td>1.0</td>\n",
       "      <td>1.0</td>\n",
       "      <td>5.0</td>\n",
       "    </tr>\n",
       "    <tr>\n",
       "      <th>3</th>\n",
       "      <td>2.0</td>\n",
       "      <td>2.0</td>\n",
       "      <td>-0.0</td>\n",
       "      <td>-0.0</td>\n",
       "      <td>200.0</td>\n",
       "      <td>200.0</td>\n",
       "      <td>300.0</td>\n",
       "      <td>0.0</td>\n",
       "      <td>500.0</td>\n",
       "      <td>200.0</td>\n",
       "      <td>500.0</td>\n",
       "      <td>200.0</td>\n",
       "      <td>0.0</td>\n",
       "      <td>3.0</td>\n",
       "      <td>2.0</td>\n",
       "      <td>7.0</td>\n",
       "    </tr>\n",
       "  </tbody>\n",
       "</table>\n",
       "</div>"
      ],
      "text/plain": [
       "   Day  S_Node  D1_c1  D1_c2  D2_c1  D2_c2  D3_c1  D3_c2  Total_S_c1  \\\n",
       "0  1.0     1.0   32.0  118.0   -0.0   -0.0   68.0   82.0       100.0   \n",
       "1  1.0     2.0   -0.0   62.0  148.0  420.0   52.0  218.0       200.0   \n",
       "2  2.0     1.0  168.0   -0.0   -0.0  100.0  132.0   -0.0       300.0   \n",
       "3  2.0     2.0   -0.0   -0.0  200.0  200.0  300.0    0.0       500.0   \n",
       "\n",
       "   Total_S_c2  Deliver_S_c1  Deliver_S_c2  D1_v  D2_v  D3_v  Total_V  \n",
       "0       200.0         100.0         200.0   1.0   0.0   1.0      5.0  \n",
       "1       700.0         200.0         700.0   1.0   4.0   2.0      7.0  \n",
       "2       100.0         300.0         100.0   2.0   1.0   1.0      5.0  \n",
       "3       200.0         500.0         200.0   0.0   3.0   2.0      7.0  "
      ]
     },
     "execution_count": 87,
     "metadata": {},
     "output_type": "execute_result"
    }
   ],
   "source": [
    "df"
   ]
  },
  {
   "cell_type": "code",
   "execution_count": 49,
   "metadata": {},
   "outputs": [
    {
     "data": {
      "text/html": [
       "<div>\n",
       "<style scoped>\n",
       "    .dataframe tbody tr th:only-of-type {\n",
       "        vertical-align: middle;\n",
       "    }\n",
       "\n",
       "    .dataframe tbody tr th {\n",
       "        vertical-align: top;\n",
       "    }\n",
       "\n",
       "    .dataframe thead th {\n",
       "        text-align: right;\n",
       "    }\n",
       "</style>\n",
       "<table border=\"1\" class=\"dataframe\">\n",
       "  <thead>\n",
       "    <tr style=\"text-align: right;\">\n",
       "      <th></th>\n",
       "      <th>Day</th>\n",
       "      <th>D_Node</th>\n",
       "      <th>Total_c1</th>\n",
       "      <th>Total_c2</th>\n",
       "      <th>Unserv_c1</th>\n",
       "      <th>Unserv_c2</th>\n",
       "    </tr>\n",
       "  </thead>\n",
       "  <tbody>\n",
       "    <tr>\n",
       "      <th>0</th>\n",
       "      <td>1.0</td>\n",
       "      <td>1.0</td>\n",
       "      <td>25.0</td>\n",
       "      <td>25.0</td>\n",
       "      <td>17.0</td>\n",
       "      <td>7.0</td>\n",
       "    </tr>\n",
       "    <tr>\n",
       "      <th>1</th>\n",
       "      <td>1.0</td>\n",
       "      <td>2.0</td>\n",
       "      <td>50.0</td>\n",
       "      <td>50.0</td>\n",
       "      <td>13.0</td>\n",
       "      <td>8.0</td>\n",
       "    </tr>\n",
       "    <tr>\n",
       "      <th>2</th>\n",
       "      <td>1.0</td>\n",
       "      <td>3.0</td>\n",
       "      <td>30.0</td>\n",
       "      <td>30.0</td>\n",
       "      <td>-0.0</td>\n",
       "      <td>-0.0</td>\n",
       "    </tr>\n",
       "    <tr>\n",
       "      <th>3</th>\n",
       "      <td>2.0</td>\n",
       "      <td>1.0</td>\n",
       "      <td>25.0</td>\n",
       "      <td>25.0</td>\n",
       "      <td>-0.0</td>\n",
       "      <td>32.0</td>\n",
       "    </tr>\n",
       "    <tr>\n",
       "      <th>4</th>\n",
       "      <td>2.0</td>\n",
       "      <td>2.0</td>\n",
       "      <td>50.0</td>\n",
       "      <td>50.0</td>\n",
       "      <td>13.0</td>\n",
       "      <td>28.0</td>\n",
       "    </tr>\n",
       "    <tr>\n",
       "      <th>5</th>\n",
       "      <td>2.0</td>\n",
       "      <td>3.0</td>\n",
       "      <td>30.0</td>\n",
       "      <td>30.0</td>\n",
       "      <td>-0.0</td>\n",
       "      <td>30.0</td>\n",
       "    </tr>\n",
       "    <tr>\n",
       "      <th>6</th>\n",
       "      <td>3.0</td>\n",
       "      <td>1.0</td>\n",
       "      <td>25.0</td>\n",
       "      <td>25.0</td>\n",
       "      <td>-0.0</td>\n",
       "      <td>52.0</td>\n",
       "    </tr>\n",
       "    <tr>\n",
       "      <th>7</th>\n",
       "      <td>3.0</td>\n",
       "      <td>2.0</td>\n",
       "      <td>50.0</td>\n",
       "      <td>50.0</td>\n",
       "      <td>1.0</td>\n",
       "      <td>13.0</td>\n",
       "    </tr>\n",
       "    <tr>\n",
       "      <th>8</th>\n",
       "      <td>3.0</td>\n",
       "      <td>3.0</td>\n",
       "      <td>30.0</td>\n",
       "      <td>30.0</td>\n",
       "      <td>-0.0</td>\n",
       "      <td>-0.0</td>\n",
       "    </tr>\n",
       "  </tbody>\n",
       "</table>\n",
       "</div>"
      ],
      "text/plain": [
       "   Day  D_Node  Total_c1  Total_c2  Unserv_c1  Unserv_c2\n",
       "0  1.0     1.0      25.0      25.0       17.0        7.0\n",
       "1  1.0     2.0      50.0      50.0       13.0        8.0\n",
       "2  1.0     3.0      30.0      30.0       -0.0       -0.0\n",
       "3  2.0     1.0      25.0      25.0       -0.0       32.0\n",
       "4  2.0     2.0      50.0      50.0       13.0       28.0\n",
       "5  2.0     3.0      30.0      30.0       -0.0       30.0\n",
       "6  3.0     1.0      25.0      25.0       -0.0       52.0\n",
       "7  3.0     2.0      50.0      50.0        1.0       13.0\n",
       "8  3.0     3.0      30.0      30.0       -0.0       -0.0"
      ]
     },
     "execution_count": 49,
     "metadata": {},
     "output_type": "execute_result"
    }
   ],
   "source": [
    "df2"
   ]
  },
  {
   "cell_type": "code",
   "execution_count": 39,
   "metadata": {},
   "outputs": [
    {
     "data": {
      "text/plain": [
       "array([[[ 100,  200],\n",
       "        [ 200,  700]],\n",
       "\n",
       "       [[ 300,  100],\n",
       "        [ 500,  200]],\n",
       "\n",
       "       [[ 600, 1200],\n",
       "        [ 500, 1000]]])"
      ]
     },
     "execution_count": 39,
     "metadata": {},
     "output_type": "execute_result"
    }
   ],
   "source": [
    "Si"
   ]
  },
  {
   "cell_type": "code",
   "execution_count": 40,
   "metadata": {},
   "outputs": [
    {
     "data": {
      "text/plain": [
       "array([[[  75,  290],\n",
       "        [ 150,  420],\n",
       "        [ 200,  325]],\n",
       "\n",
       "       [[ 290,  150],\n",
       "        [ 200,  400],\n",
       "        [ 470,  250]],\n",
       "\n",
       "       [[ 300,  250],\n",
       "        [ 400,  900],\n",
       "        [ 600, 1500]]])"
      ]
     },
     "execution_count": 40,
     "metadata": {},
     "output_type": "execute_result"
    }
   ],
   "source": [
    "Dj"
   ]
  },
  {
   "cell_type": "code",
   "execution_count": null,
   "metadata": {},
   "outputs": [],
   "source": []
  }
 ],
 "metadata": {
  "kernelspec": {
   "display_name": "Python 3",
   "language": "python",
   "name": "python3"
  },
  "language_info": {
   "codemirror_mode": {
    "name": "ipython",
    "version": 3
   },
   "file_extension": ".py",
   "mimetype": "text/x-python",
   "name": "python",
   "nbconvert_exporter": "python",
   "pygments_lexer": "ipython3",
   "version": "3.7.7"
  }
 },
 "nbformat": 4,
 "nbformat_minor": 2
}
