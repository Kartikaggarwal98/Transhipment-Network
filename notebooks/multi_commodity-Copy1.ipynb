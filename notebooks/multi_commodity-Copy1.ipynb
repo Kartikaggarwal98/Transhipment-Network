{
 "cells": [
  {
   "cell_type": "code",
   "execution_count": 1,
   "metadata": {},
   "outputs": [],
   "source": [
    "import numpy as np\n",
    "import gurobipy as gbp\n",
    "import time\n",
    "np.random.seed(352)\n"
   ]
  },
  {
   "cell_type": "code",
   "execution_count": 2,
   "metadata": {},
   "outputs": [],
   "source": [
    "n_com=2\n",
    "n_sup=2\n",
    "n_dem=3"
   ]
  },
  {
   "cell_type": "code",
   "execution_count": 3,
   "metadata": {},
   "outputs": [
    {
     "data": {
      "text/plain": [
       "(array([[100, 200],\n",
       "        [200, 700]]), array([[ 75, 190],\n",
       "        [150, 320],\n",
       "        [200, 225]]))"
      ]
     },
     "execution_count": 3,
     "metadata": {},
     "output_type": "execute_result"
    }
   ],
   "source": [
    "Si=np.array([[100,200],[200,700]])\n",
    "Dj=np.array([[75,190],[150,320],[200,225]])\n",
    "Si,Dj"
   ]
  },
  {
   "cell_type": "code",
   "execution_count": 4,
   "metadata": {},
   "outputs": [
    {
     "data": {
      "text/plain": [
       "array([[ 75, 190],\n",
       "       [150, 320],\n",
       "       [200, 225]])"
      ]
     },
     "execution_count": 4,
     "metadata": {},
     "output_type": "execute_result"
    }
   ],
   "source": [
    "Dj"
   ]
  },
  {
   "cell_type": "code",
   "execution_count": 20,
   "metadata": {},
   "outputs": [],
   "source": [
    "pc=[0.7,0.3]"
   ]
  },
  {
   "cell_type": "code",
   "execution_count": 21,
   "metadata": {},
   "outputs": [
    {
     "data": {
      "text/plain": [
       "array([[0.17647059, 0.2585034 ],\n",
       "       [0.35294118, 0.43537415],\n",
       "       [0.47058824, 0.30612245]])"
      ]
     },
     "execution_count": 21,
     "metadata": {},
     "output_type": "execute_result"
    }
   ],
   "source": [
    "Pc=Dj/Dj.sum(axis=0)\n",
    "Pc"
   ]
  },
  {
   "cell_type": "code",
   "execution_count": 23,
   "metadata": {},
   "outputs": [
    {
     "data": {
      "text/plain": [
       "1.714285714285714"
      ]
     },
     "execution_count": 23,
     "metadata": {},
     "output_type": "execute_result"
    }
   ],
   "source": [
    ".12/0.07"
   ]
  },
  {
   "cell_type": "code",
   "execution_count": 22,
   "metadata": {},
   "outputs": [
    {
     "data": {
      "text/plain": [
       "array([[0.12352941, 0.07755102],\n",
       "       [0.24705882, 0.13061224],\n",
       "       [0.32941176, 0.09183673]])"
      ]
     },
     "execution_count": 22,
     "metadata": {},
     "output_type": "execute_result"
    }
   ],
   "source": [
    "pc*Pc"
   ]
  },
  {
   "cell_type": "code",
   "execution_count": 5,
   "metadata": {},
   "outputs": [
    {
     "name": "stdout",
     "output_type": "stream",
     "text": [
      "range(0, 2) range(0, 3) range(0, 2) 6\n"
     ]
    }
   ],
   "source": [
    "# Cij = Cij.reshape(matrix_rows,matrix_cols)\n",
    "# Si = Si.reshape(matrix_rows,1)\n",
    "# Dj = Dj.reshape(matrix_cols,1)\n",
    "\n",
    "# Indices & Variable Names\n",
    "supply_nodes = n_sup\n",
    "demand_nodes = n_dem\n",
    "supply_nodes_range = range(n_sup)\n",
    "demand_nodes_range = range(n_dem)\n",
    "comm_range=range(n_com)\n",
    "all_nodes_len = n_sup*n_dem\n",
    "ALL_nodes_range = range(all_nodes_len)\n",
    "\n",
    "print (supply_nodes_range, demand_nodes_range,comm_range, all_nodes_len)"
   ]
  },
  {
   "cell_type": "code",
   "execution_count": 30,
   "metadata": {},
   "outputs": [
    {
     "name": "stdout",
     "output_type": "stream",
     "text": [
      "Changed value of parameter MIPFocus to 1\n",
      "   Prev: 0  Min: 0  Max: 3  Default: 0\n",
      "Changed value of parameter PoolSearchMode to 1\n",
      "   Prev: 0  Min: 0  Max: 2  Default: 0\n",
      "Changed value of parameter PoolGap to 0.1\n",
      "   Prev: inf  Min: 0.0  Max: inf  Default: inf\n"
     ]
    }
   ],
   "source": [
    "# Create Model, Set MIP Focus, Add Variables, & Update Model\n",
    "m = gbp.Model(' -- The Transportation Problem -- ')\n",
    "# Set MIP Focus to 2 for optimality\n",
    "m.setParam('MIPFocus', 1)\n",
    "m.setParam(gbp.GRB.Param.PoolSearchMode, 1)\n",
    "m.setParam(gbp.GRB.Param.PoolGap, 0.10)\n",
    "decision_var = []\n",
    "for orig in supply_nodes_range:\n",
    "    decision_var.append([])\n",
    "    for dest in demand_nodes_range:\n",
    "        decision_var[orig].append([])\n",
    "        for comm in comm_range:\n",
    "#             print (comm,decision_var)\n",
    "            decision_var[orig][dest].append(m.addVar(vtype=gbp.GRB.INTEGER, \n",
    "#                                         obj=Cij[orig][dest],\n",
    "#                                            obj=1,\n",
    "                                        name='S'+str(orig+1)+'_D'+str(dest+1)+'_c'+str(comm+1)))\n",
    "# Update Model Variables\n",
    "m.update()       \n"
   ]
  },
  {
   "cell_type": "code",
   "execution_count": 29,
   "metadata": {},
   "outputs": [
    {
     "data": {
      "text/plain": [
       "[<gurobi.Var S1_D1_c1 (value 75.0)>,\n",
       " <gurobi.Var S1_D1_c2 (value 190.0)>,\n",
       " <gurobi.Var S1_D2_c1 (value 25.0)>,\n",
       " <gurobi.Var S1_D2_c2 (value 10.0)>,\n",
       " <gurobi.Var S1_D3_c1 (value -0.0)>,\n",
       " <gurobi.Var S1_D3_c2 (value -0.0)>,\n",
       " <gurobi.Var S2_D1_c1 (value -0.0)>,\n",
       " <gurobi.Var S2_D1_c2 (value -0.0)>,\n",
       " <gurobi.Var S2_D2_c1 (value 125.0)>,\n",
       " <gurobi.Var S2_D2_c2 (value 310.0)>,\n",
       " <gurobi.Var S2_D3_c1 (value 75.0)>,\n",
       " <gurobi.Var S2_D3_c2 (value 225.0)>]"
      ]
     },
     "execution_count": 29,
     "metadata": {},
     "output_type": "execute_result"
    }
   ],
   "source": [
    "[decision_var[orig][dest][comm] for orig in supply_nodes_range for dest in demand_nodes_range for comm in comm_range]"
   ]
  },
  {
   "cell_type": "code",
   "execution_count": 45,
   "metadata": {},
   "outputs": [
    {
     "data": {
      "text/plain": [
       "425"
      ]
     },
     "execution_count": 45,
     "metadata": {},
     "output_type": "execute_result"
    }
   ],
   "source": [
    "sum(Dj[dest])"
   ]
  },
  {
   "cell_type": "code",
   "execution_count": 68,
   "metadata": {},
   "outputs": [],
   "source": [
    "m.setObjective(gbp.quicksum(gbp.quicksum((int(Dj[dest][comm])-gbp.quicksum(decision_var[orig][dest][comm] for orig in supply_nodes_range))*(Pc[dest][comm])\n",
    "                            for dest in demand_nodes_range) for comm in comm_range), \n",
    "                        gbp.GRB.MINIMIZE)"
   ]
  },
  {
   "cell_type": "code",
   "execution_count": 69,
   "metadata": {},
   "outputs": [],
   "source": [
    "m.update()"
   ]
  },
  {
   "cell_type": "code",
   "execution_count": 70,
   "metadata": {},
   "outputs": [
    {
     "name": "stdout",
     "output_type": "stream",
     "text": [
      "Minimize\n",
      "   <gurobi.LinExpr: 417.60704281712685 + -0.17647058823529413 S1_D1_c1 + -0.2585034013605442 S1_D1_c2 + -0.35294117647058826 S1_D2_c1 + -0.43537414965986393 S1_D2_c2 + -0.47058823529411764 S1_D3_c1 + -0.30612244897959184 S1_D3_c2 + -0.17647058823529413 S2_D1_c1 + -0.2585034013605442 S2_D1_c2 + -0.35294117647058826 S2_D2_c1 + -0.43537414965986393 S2_D2_c2 + -0.47058823529411764 S2_D3_c1 + -0.30612244897959184 S2_D3_c2>\n",
      "Subject To\n",
      "   R0 : <gurobi.LinExpr: S1_D1_c1 + S1_D2_c1 + S1_D3_c1> <= 100.0\n",
      "   R1 : <gurobi.LinExpr: S1_D1_c2 + S1_D2_c2 + S1_D3_c2> <= 200.0\n",
      "   R2 : <gurobi.LinExpr: S2_D1_c1 + S2_D2_c1 + S2_D3_c1> <= 200.0\n",
      "   R3 : <gurobi.LinExpr: S2_D1_c2 + S2_D2_c2 + S2_D3_c2> <= 700.0\n",
      "   R4 : <gurobi.LinExpr: S1_D1_c1 + S2_D1_c1> <= 75.0\n",
      "   R5 : <gurobi.LinExpr: S1_D1_c2 + S2_D1_c2> <= 190.0\n",
      "   R6 : <gurobi.LinExpr: S1_D2_c1 + S2_D2_c1> <= 150.0\n",
      "   R7 : <gurobi.LinExpr: S1_D2_c2 + S2_D2_c2> <= 320.0\n",
      "   R8 : <gurobi.LinExpr: S1_D3_c1 + S2_D3_c1> <= 200.0\n",
      "   R9 : <gurobi.LinExpr: S1_D3_c2 + S2_D3_c2> <= 225.0\n",
      "General Integers\n",
      "   ['S1_D1_c1', 'S1_D1_c2', 'S1_D2_c1', 'S1_D2_c2', 'S1_D3_c1', 'S1_D3_c2', 'S2_D1_c1', 'S2_D1_c2', 'S2_D2_c1', 'S2_D2_c2', 'S2_D3_c1', 'S2_D3_c2']\n"
     ]
    }
   ],
   "source": [
    "m.display()"
   ]
  },
  {
   "cell_type": "code",
   "execution_count": 71,
   "metadata": {},
   "outputs": [
    {
     "name": "stdout",
     "output_type": "stream",
     "text": [
      "Gurobi Optimizer version 9.0.1 build v9.0.1rc0 (mac64)\n",
      "Optimize a model with 20 rows, 12 columns and 48 nonzeros\n",
      "Model fingerprint: 0xc28e4f97\n",
      "Variable types: 0 continuous, 12 integer (0 binary)\n",
      "Coefficient statistics:\n",
      "  Matrix range     [1e+00, 1e+00]\n",
      "  Objective range  [2e-01, 5e-01]\n",
      "  Bounds range     [0e+00, 0e+00]\n",
      "  RHS range        [8e+01, 7e+02]\n",
      "\n",
      "Loaded MIP start from previous solve with objective 30.8824\n",
      "\n",
      "Presolve removed 15 rows and 6 columns\n",
      "Presolve time: 0.00s\n",
      "Presolved: 5 rows, 6 columns, 12 nonzeros\n",
      "Variable types: 0 continuous, 6 integer (0 binary)\n",
      "\n",
      "Root relaxation: objective 3.088235e+01, 4 iterations, 0.00 seconds\n",
      "\n",
      "    Nodes    |    Current Node    |     Objective Bounds      |     Work\n",
      " Expl Unexpl |  Obj  Depth IntInf | Incumbent    BestBd   Gap | It/Node Time\n",
      "\n",
      "     0     0          -    0        30.88235   30.88235  0.00%     -    0s\n",
      "\n",
      "Optimal solution found at node 0 - now completing solution pool...\n",
      "\n",
      "    Nodes    |    Current Node    |      Pool Obj. Bounds     |     Work\n",
      "             |                    |   Worst                   |\n",
      " Expl Unexpl |  Obj  Depth IntInf | Incumbent    BestBd   Gap | It/Node Time\n",
      "\n",
      "     0     0          -    0               -   30.88235      -     -    0s\n",
      "     0     0          -    0               -   30.88235      -     -    0s\n",
      "     0     2          -    0               -   30.88235      -     -    0s\n",
      "\n",
      "Explored 19 nodes (4 simplex iterations) in 0.02 seconds\n",
      "Thread count was 12 (of 12 available processors)\n",
      "\n",
      "Solution count 10: 30.8824 30.8824 30.8824 ... 30.8824\n",
      "\n",
      "Optimal solution found (tolerance 1.00e-04)\n",
      "Best objective 3.088235294118e+01, best bound 3.088235294118e+01, gap 0.0000%\n"
     ]
    }
   ],
   "source": [
    "# Add Supply Constraints\n",
    "for orig in supply_nodes_range:\n",
    "    for comm in comm_range:\n",
    "        m.addConstr(gbp.quicksum(decision_var[orig][dest][comm]\n",
    "                                 for dest in demand_nodes_range) - Si[orig][comm] <= 0)\n",
    "# Add Demand Constraints\n",
    "for dest in demand_nodes_range:  \n",
    "    for comm in comm_range:\n",
    "        m.addConstr(gbp.quicksum(decision_var[orig][dest][comm] \n",
    "                                 for orig in supply_nodes_range) - Dj[dest][comm] <= 0)\n",
    "\n",
    "#  Optimize and Print( Results)\n",
    "m.optimize()\n",
    "m.write('path.lp')"
   ]
  },
  {
   "cell_type": "code",
   "execution_count": 72,
   "metadata": {},
   "outputs": [
    {
     "name": "stdout",
     "output_type": "stream",
     "text": [
      "10\n",
      "30.8824 [('S1_D1_c1', -0.0), ('S1_D1_c2', 190.0), ('S1_D2_c1', -0.0), ('S1_D2_c2', 10.0), ('S1_D3_c1', 100.0), ('S1_D3_c2', 0.0), ('S2_D1_c1', -0.0), ('S2_D1_c2', 0.0), ('S2_D2_c1', 100.0), ('S2_D2_c2', 310.0), ('S2_D3_c1', 100.0), ('S2_D3_c2', 225.0)]\n"
     ]
    }
   ],
   "source": [
    "nSolutions = m.SolCount\n",
    "print (nSolutions)\n",
    "for e in range(nSolutions):\n",
    "        m.setParam(gbp.GRB.Param.SolutionNumber, e)\n",
    "        print('%g ' % m.PoolObjVal, end='')\n",
    "        print ([(v.Varname,v.x) for v in m.getVars()])\n",
    "        break"
   ]
  },
  {
   "cell_type": "code",
   "execution_count": null,
   "metadata": {},
   "outputs": [],
   "source": [
    "if (nSolutions >= 4):\n",
    "    model.setParam(GRB.Param.SolutionNumber, 3)\n",
    "\n",
    "    print('Selected elements in fourth best solution:')\n",
    "    print('\\t', end='')\n",
    "    for e in range(2):\n",
    "        if Elem[e].Xn > .9:\n",
    "            print(' El%d' % e, end='')\n",
    "    print('')"
   ]
  },
  {
   "cell_type": "code",
   "execution_count": 159,
   "metadata": {},
   "outputs": [
    {
     "name": "stdout",
     "output_type": "stream",
     "text": [
      "<gurobi.Var S1_D1 (value 75.0)>\n",
      "<gurobi.Var S1_D2 (value 25.0)>\n",
      "<gurobi.Var S1_D3 (value -0.0)>\n",
      "<gurobi.Var S2_D1 (value -0.0)>\n",
      "<gurobi.Var S2_D2 (value 125.0)>\n",
      "<gurobi.Var S2_D3 (value 75.0)>\n"
     ]
    }
   ],
   "source": [
    "selected = {}\n",
    "Closed = []\n",
    "for v in m.getVars():\n",
    "    var = '%s' % v.VarName\n",
    "    print (v)\n",
    "#     print ('|  Supply Facility #', var[1:6], 'is shipping', units, \\\n",
    "#                                             'units to Demand Facility #', var[-5:])"
   ]
  },
  {
   "cell_type": "code",
   "execution_count": null,
   "metadata": {},
   "outputs": [],
   "source": [
    "selected = {}\n",
    "Closed = []\n",
    "for v in m.getVars():\n",
    "    var = '%s' % v.VarName\n",
    "    if v.x > 0:\n",
    "        units = '%i' % v.x\n",
    "        selected[var] = units\n",
    "        print( '|  Supply Facility #', var[1:6], 'is shipping', units, \\\n",
    "                                            'units to Demand Facility #', var[-5:])\n",
    "    else:\n",
    "        Closed.append([var[1:6], var[-5:]])\n",
    "print( '******************************************************************************')\n",
    "print( '    | Objective Value --------------------- ', int(m.objVal))\n",
    "print( '    | Supply Facilities ------------------- ', len(Si))\n",
    "print( '    | Total Supply Units ------------------ ', Si.sum())\n",
    "print( '    | Demand Facilites -------------------- ', len(Dj))\n",
    "print( '    | Total Demand Units ------------------ ', Dj.sum())\n",
    "print( '    | Total Potential Combinations -------- ', len(Si)*len(Dj))\n",
    "print( '    | Actual Combinations  ---------------- ', len(selected))\n",
    "# print( '    | Real Time to Optimize (sec.) -------- ', t2)\n",
    "print( '******************************************************************************')\n",
    "print( '  --  The Transportation Simplex with Gurobi --')\n"
   ]
  }
 ],
 "metadata": {
  "kernelspec": {
   "display_name": "Python 3",
   "language": "python",
   "name": "python3"
  },
  "language_info": {
   "codemirror_mode": {
    "name": "ipython",
    "version": 3
   },
   "file_extension": ".py",
   "mimetype": "text/x-python",
   "name": "python",
   "nbconvert_exporter": "python",
   "pygments_lexer": "ipython3",
   "version": "3.7.7"
  }
 },
 "nbformat": 4,
 "nbformat_minor": 2
}
