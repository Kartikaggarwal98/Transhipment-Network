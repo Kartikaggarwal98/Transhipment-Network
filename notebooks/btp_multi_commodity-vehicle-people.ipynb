{
 "cells": [
  {
   "cell_type": "code",
   "execution_count": 49,
   "metadata": {},
   "outputs": [],
   "source": [
    "import numpy as np\n",
    "import gurobipy as gbp\n",
    "import time\n",
    "np.random.seed(352)\n"
   ]
  },
  {
   "cell_type": "code",
   "execution_count": 50,
   "metadata": {},
   "outputs": [],
   "source": [
    "n_com=2\n",
    "n_sup=2\n",
    "n_dem=3"
   ]
  },
  {
   "cell_type": "code",
   "execution_count": 51,
   "metadata": {},
   "outputs": [
    {
     "data": {
      "text/plain": [
       "(array([[100, 200],\n",
       "        [200, 700]]), array([[ 75, 190],\n",
       "        [150, 320],\n",
       "        [200, 225]]))"
      ]
     },
     "execution_count": 51,
     "metadata": {},
     "output_type": "execute_result"
    }
   ],
   "source": [
    "#Supply Demand of all commodities\n",
    "Si=np.array([[100,200],[200,700]])\n",
    "Dj=np.array([[75,190],[150,320],[200,225]])\n",
    "Si,Dj"
   ]
  },
  {
   "cell_type": "code",
   "execution_count": 52,
   "metadata": {},
   "outputs": [],
   "source": [
    "#Vehicle capacity, number of vehicles, cost of transportation from supply nodes to demand nodes\n",
    "V_cap=150\n",
    "V_num=np.array([5,7])\n",
    "V_cost=np.array([[10,15,20],[18,13,20]])"
   ]
  },
  {
   "cell_type": "code",
   "execution_count": 53,
   "metadata": {},
   "outputs": [],
   "source": [
    "#People Variables\n",
    "n_pep=[25,50,30] #no of people on each demand node,\n",
    "mu=[4,10] # consumption rate (comm req per day)"
   ]
  },
  {
   "cell_type": "code",
   "execution_count": 54,
   "metadata": {},
   "outputs": [
    {
     "name": "stdout",
     "output_type": "stream",
     "text": [
      "range(0, 2) range(0, 3) range(0, 2) 6\n"
     ]
    }
   ],
   "source": [
    "# Indices & Variable Names\n",
    "supply_nodes = n_sup\n",
    "demand_nodes = n_dem\n",
    "supply_nodes_range = range(n_sup)\n",
    "demand_nodes_range = range(n_dem)\n",
    "comm_range=range(n_com)\n",
    "all_nodes_len = n_sup*n_dem\n",
    "ALL_nodes_range = range(all_nodes_len)\n",
    "\n",
    "print (supply_nodes_range, demand_nodes_range,comm_range, all_nodes_len)"
   ]
  },
  {
   "cell_type": "code",
   "execution_count": 55,
   "metadata": {},
   "outputs": [
    {
     "data": {
      "text/plain": [
       "array([[0.17647059, 0.2585034 ],\n",
       "       [0.35294118, 0.43537415],\n",
       "       [0.47058824, 0.30612245]])"
      ]
     },
     "execution_count": 55,
     "metadata": {},
     "output_type": "execute_result"
    }
   ],
   "source": [
    "Pc=Dj/Dj.sum(axis=0)\n",
    "Pc"
   ]
  },
  {
   "cell_type": "code",
   "execution_count": 67,
   "metadata": {},
   "outputs": [
    {
     "name": "stdout",
     "output_type": "stream",
     "text": [
      "Changed value of parameter MIPFocus to 2\n",
      "   Prev: 0  Min: 0  Max: 3  Default: 0\n"
     ]
    }
   ],
   "source": [
    "# Create Model, Set MIP Focus, Add Variables, & Update Model\n",
    "m = gbp.Model(' -- The Multi Commodity Vehicle Transportation Problem -- ')\n",
    "\n",
    "# Set MIP Focus to 2 for optimality\n",
    "m.setParam('MIPFocus', 2)\n",
    "# m.setParam(gbp.GRB.Param.PoolSearchMode, 1)\n",
    "# m.setParam(gbp.GRB.Param.PoolGap, 0.10)\n",
    "\n",
    "decision_var = []\n",
    "vehicles_var=[]\n",
    "unserved_var=[]\n",
    "for orig in supply_nodes_range:\n",
    "    decision_var.append([])\n",
    "    vehicles_var.append([])\n",
    "    for dest in demand_nodes_range:\n",
    "        decision_var[orig].append([])\n",
    "        vehicles_var[orig].append(m.addVar(vtype=gbp.GRB.INTEGER,\n",
    "                                          name='S'+str(orig+1)+'_D'+str(dest+1)+'_V'))\n",
    "        for comm in comm_range:\n",
    "#             print (comm,decision_var)\n",
    "            decision_var[orig][dest].append(m.addVar(vtype=gbp.GRB.INTEGER, \n",
    "#                                         obj=Cij[orig][dest],\n",
    "#                                            obj=1,\n",
    "                                        name='S'+str(orig+1)+'_D'+str(dest+1)+'_c'+str(comm+1)))\n",
    "for dest in demand_nodes_range:\n",
    "    unserved_var.append([])\n",
    "    for comm in comm_range:\n",
    "        unserved_var[dest].append(m.addVar(vtype=gbp.GRB.INTEGER,\n",
    "                                          name='D'+str(dest+1)+'_c'+str(comm+1)+'_U'))\n",
    "# Update Model Variables\n",
    "m.update()       \n"
   ]
  },
  {
   "cell_type": "code",
   "execution_count": 68,
   "metadata": {},
   "outputs": [],
   "source": [
    "#objective function\n",
    "m.setObjective(\n",
    "    gbp.quicksum(gbp.quicksum((int(Dj[dest][comm])-gbp.quicksum(decision_var[orig][dest][comm] for orig in supply_nodes_range))*(Pc[dest][comm])\n",
    "                            for dest in demand_nodes_range) for comm in comm_range)+\n",
    "    gbp.quicksum(gbp.quicksum(vehicles_var[orig][dest]*V_cost[orig][dest] for dest in demand_nodes_range) for orig in supply_nodes_range)+\n",
    "    gbp.quicksum(gbp.quicksum(unserved_var[dest][comm] for comm in comm_range) for dest in demand_nodes_range),\n",
    "                        gbp.GRB.MINIMIZE)"
   ]
  },
  {
   "cell_type": "code",
   "execution_count": 69,
   "metadata": {},
   "outputs": [],
   "source": [
    "m.update()"
   ]
  },
  {
   "cell_type": "code",
   "execution_count": 70,
   "metadata": {},
   "outputs": [
    {
     "name": "stdout",
     "output_type": "stream",
     "text": [
      "Gurobi Optimizer version 9.0.1 build v9.0.1rc0 (mac64)\n",
      "Optimize a model with 38 rows, 24 columns and 102 nonzeros\n",
      "Model fingerprint: 0xa7bb449a\n",
      "Variable types: 0 continuous, 24 integer (0 binary)\n",
      "Coefficient statistics:\n",
      "  Matrix range     [7e-03, 1e+01]\n",
      "  Objective range  [2e-01, 7e+01]\n",
      "  Bounds range     [0e+00, 0e+00]\n",
      "  RHS range        [1e+00, 1e+03]\n",
      "Found heuristic solution: objective 15198.537294\n",
      "Presolve removed 7 rows and 0 columns\n",
      "Presolve time: 0.01s\n",
      "Presolved: 31 rows, 24 columns, 90 nonzeros\n",
      "Variable types: 0 continuous, 24 integer (0 binary)\n",
      "Presolve removed 15 rows and 6 columns\n",
      "Presolved: 16 rows, 18 columns, 42 nonzeros\n",
      "\n",
      "\n",
      "Root relaxation: objective 4.511195e+03, 6 iterations, 0.01 seconds\n",
      "\n",
      "    Nodes    |    Current Node    |     Objective Bounds      |     Work\n",
      " Expl Unexpl |  Obj  Depth IntInf | Incumbent    BestBd   Gap | It/Node Time\n",
      "\n",
      "     0     0 4511.19487    0    4 15198.5373 4511.19487  70.3%     -    0s\n",
      "H    0     0                    4541.8348698 4511.19487  0.67%     -    0s\n",
      "     0     0 4513.19008    0   14 4541.83487 4513.19008  0.63%     -    0s\n",
      "H    0     0                    4537.1301879 4513.19008  0.53%     -    0s\n",
      "     0     0 4523.15685    0    3 4537.13019 4523.15685  0.31%     -    0s\n",
      "     0     0 4523.43487    0    4 4537.13019 4523.43487  0.30%     -    0s\n",
      "H    0     0                    4532.3642816 4531.15685  0.03%     -    0s\n",
      "     0     0 4532.36428    0   13 4532.36428 4532.36428  0.00%     -    0s\n",
      "\n",
      "Cutting planes:\n",
      "  Gomory: 4\n",
      "  MIR: 8\n",
      "\n",
      "Explored 1 nodes (21 simplex iterations) in 0.06 seconds\n",
      "Thread count was 12 (of 12 available processors)\n",
      "\n",
      "Solution count 4: 4532.36 4537.13 4541.83 15198.5 \n",
      "\n",
      "Optimal solution found (tolerance 1.00e-04)\n",
      "Best objective 4.532364281561e+03, best bound 4.532364281561e+03, gap 0.0000%\n"
     ]
    }
   ],
   "source": [
    "# Add Supply Constraints\n",
    "for orig in supply_nodes_range:\n",
    "    for comm in comm_range:\n",
    "        m.addConstr(gbp.quicksum(decision_var[orig][dest][comm]\n",
    "                                 for dest in demand_nodes_range) - Si[orig][comm] <= 0)\n",
    "# Add Demand Constraints\n",
    "for dest in demand_nodes_range:  \n",
    "    for comm in comm_range:\n",
    "        m.addConstr(gbp.quicksum(decision_var[orig][dest][comm] \n",
    "                                 for orig in supply_nodes_range) - Dj[dest][comm] <= 0)\n",
    "#Add vehicle constraints\n",
    "for orig in supply_nodes_range:\n",
    "    m.addConstr(gbp.quicksum(decision_var[orig][dest][comm]\n",
    "                             for dest in demand_nodes_range for comm in comm_range) - V_cap*V_num[orig] <=0)\n",
    "for orig in supply_nodes_range:\n",
    "    m.addConstr(gbp.quicksum(vehicles_var[orig][dest] for dest in demand_nodes_range) - V_num[orig] <=0)\n",
    "    \n",
    "for orig in supply_nodes_range:\n",
    "    for dest in demand_nodes_range:\n",
    "        m.addConstr(-sum(decision_var[orig][dest][comm]\n",
    "                            for comm in comm_range)/V_cap + vehicles_var[orig][dest]>=0)\n",
    "for orig in supply_nodes_range:\n",
    "    for dest in demand_nodes_range:\n",
    "        m.addConstr(-sum(decision_var[orig][dest][comm]\n",
    "                            for comm in comm_range)/V_cap + vehicles_var[orig][dest]<=1)\n",
    "        \n",
    "#Add unserved people contstraints\n",
    "for dest in demand_nodes_range:\n",
    "    for comm in comm_range:\n",
    "        m.addConstr(unserved_var[dest][comm]<=n_pep[dest])\n",
    "\n",
    "for dest in demand_nodes_range:\n",
    "    for comm in comm_range:\n",
    "        m.addConstr(sum(decision_var[orig][dest][comm] for orig in supply_nodes_range)-\n",
    "                    ((n_pep[dest]-unserved_var[dest][comm])*mu[comm])>=0)\n",
    "#  Optimize and Print( Results)\n",
    "m.optimize()\n",
    "m.write('path.lp')"
   ]
  },
  {
   "cell_type": "code",
   "execution_count": 46,
   "metadata": {},
   "outputs": [
    {
     "name": "stdout",
     "output_type": "stream",
     "text": [
      "Minimize\n",
      "   <gurobi.LinExpr: 417.60704281712685 + 10.0 S1_D1_V + -0.17647058823529413 S1_D1_c1 + -0.2585034013605442 S1_D1_c2 + 15.0 S1_D2_V + -0.35294117647058826 S1_D2_c1 + -0.43537414965986393 S1_D2_c2 + 20.0 S1_D3_V + -0.47058823529411764 S1_D3_c1 + -0.30612244897959184 S1_D3_c2 + 18.0 S2_D1_V + -0.17647058823529413 S2_D1_c1 + -0.2585034013605442 S2_D1_c2 + 13.0 S2_D2_V + -0.35294117647058826 S2_D2_c1 + -0.43537414965986393 S2_D2_c2 + 20.0 S2_D3_V + -0.47058823529411764 S2_D3_c1 + -0.30612244897959184 S2_D3_c2 + D1_c1_U + D1_c2_U + D2_c1_U + D2_c2_U + D3_c1_U + D3_c2_U>\n",
      "Subject To\n",
      "   R0 : <gurobi.LinExpr: S1_D1_c1 + S1_D2_c1 + S1_D3_c1> <= 100.0\n",
      "   R1 : <gurobi.LinExpr: S1_D1_c2 + S1_D2_c2 + S1_D3_c2> <= 200.0\n",
      "   R2 : <gurobi.LinExpr: S2_D1_c1 + S2_D2_c1 + S2_D3_c1> <= 200.0\n",
      "   R3 : <gurobi.LinExpr: S2_D1_c2 + S2_D2_c2 + S2_D3_c2> <= 700.0\n",
      "   R4 : <gurobi.LinExpr: S1_D1_c1 + S2_D1_c1> <= 75.0\n",
      "   R5 : <gurobi.LinExpr: S1_D1_c2 + S2_D1_c2> <= 190.0\n",
      "   R6 : <gurobi.LinExpr: S1_D2_c1 + S2_D2_c1> <= 150.0\n",
      "   R7 : <gurobi.LinExpr: S1_D2_c2 + S2_D2_c2> <= 320.0\n",
      "   R8 : <gurobi.LinExpr: S1_D3_c1 + S2_D3_c1> <= 200.0\n",
      "   R9 : <gurobi.LinExpr: S1_D3_c2 + S2_D3_c2> <= 225.0\n",
      "   R10 : <gurobi.LinExpr: S1_D1_c1 + S1_D1_c2 + S1_D2_c1 + S1_D2_c2 + S1_D3_c1 + S1_D3_c2> <= 750.0\n",
      "   R11 : <gurobi.LinExpr: S2_D1_c1 + S2_D1_c2 + S2_D2_c1 + S2_D2_c2 + S2_D3_c1 + S2_D3_c2> <= 1050.0\n",
      "   R12 : <gurobi.LinExpr: S1_D1_V + S1_D2_V + S1_D3_V> <= 5.0\n",
      "   R13 : <gurobi.LinExpr: S2_D1_V + S2_D2_V + S2_D3_V> <= 7.0\n",
      "   R14 : <gurobi.LinExpr: S1_D1_V + -0.006666666666666667 S1_D1_c1 + -0.006666666666666667 S1_D1_c2> >= 0.0\n",
      "   R15 : <gurobi.LinExpr: S1_D2_V + -0.006666666666666667 S1_D2_c1 + -0.006666666666666667 S1_D2_c2> >= 0.0\n",
      "   R16 : <gurobi.LinExpr: S1_D3_V + -0.006666666666666667 S1_D3_c1 + -0.006666666666666667 S1_D3_c2> >= 0.0\n",
      "   R17 : <gurobi.LinExpr: S2_D1_V + -0.006666666666666667 S2_D1_c1 + -0.006666666666666667 S2_D1_c2> >= 0.0\n",
      "   R18 : <gurobi.LinExpr: S2_D2_V + -0.006666666666666667 S2_D2_c1 + -0.006666666666666667 S2_D2_c2> >= 0.0\n",
      "   R19 : <gurobi.LinExpr: S2_D3_V + -0.006666666666666667 S2_D3_c1 + -0.006666666666666667 S2_D3_c2> >= 0.0\n",
      "   R20 : <gurobi.LinExpr: S1_D1_V + -0.006666666666666667 S1_D1_c1 + -0.006666666666666667 S1_D1_c2> <= 1.0\n",
      "   R21 : <gurobi.LinExpr: S1_D2_V + -0.006666666666666667 S1_D2_c1 + -0.006666666666666667 S1_D2_c2> <= 1.0\n",
      "   R22 : <gurobi.LinExpr: S1_D3_V + -0.006666666666666667 S1_D3_c1 + -0.006666666666666667 S1_D3_c2> <= 1.0\n",
      "   R23 : <gurobi.LinExpr: S2_D1_V + -0.006666666666666667 S2_D1_c1 + -0.006666666666666667 S2_D1_c2> <= 1.0\n",
      "   R24 : <gurobi.LinExpr: S2_D2_V + -0.006666666666666667 S2_D2_c1 + -0.006666666666666667 S2_D2_c2> <= 1.0\n",
      "   R25 : <gurobi.LinExpr: S2_D3_V + -0.006666666666666667 S2_D3_c1 + -0.006666666666666667 S2_D3_c2> <= 1.0\n",
      "   R26 : <gurobi.LinExpr: D1_c1_U> <= 25.0\n",
      "   R27 : <gurobi.LinExpr: D1_c2_U> <= 25.0\n",
      "   R28 : <gurobi.LinExpr: D2_c1_U> <= 50.0\n",
      "   R29 : <gurobi.LinExpr: D2_c2_U> <= 50.0\n",
      "   R30 : <gurobi.LinExpr: D3_c1_U> <= 30.0\n",
      "   R31 : <gurobi.LinExpr: D3_c2_U> <= 30.0\n",
      "   R32 : <gurobi.LinExpr: S1_D1_c1 + S2_D1_c1 + 4.0 D1_c1_U> >= 100.0\n",
      "   R33 : <gurobi.LinExpr: S1_D1_c2 + S2_D1_c2 + 10.0 D1_c2_U> >= 250.0\n",
      "   R34 : <gurobi.LinExpr: S1_D2_c1 + S2_D2_c1 + 4.0 D2_c1_U> >= 200.0\n",
      "   R35 : <gurobi.LinExpr: S1_D2_c2 + S2_D2_c2 + 10.0 D2_c2_U> >= 500.0\n",
      "   R36 : <gurobi.LinExpr: S1_D3_c1 + S2_D3_c1 + 4.0 D3_c1_U> >= 120.0\n",
      "   R37 : <gurobi.LinExpr: S1_D3_c2 + S2_D3_c2 + 10.0 D3_c2_U> >= 300.0\n",
      "General Integers\n",
      "   ['S1_D1_V', 'S1_D1_c1', 'S1_D1_c2', 'S1_D2_V', 'S1_D2_c1', 'S1_D2_c2', 'S1_D3_V', 'S1_D3_c1', 'S1_D3_c2', 'S2_D1_V', 'S2_D1_c1', 'S2_D1_c2', 'S2_D2_V', 'S2_D2_c1', 'S2_D2_c2', 'S2_D3_V', 'S2_D3_c1', 'S2_D3_c2', 'D1_c1_U', 'D1_c2_U', 'D2_c1_U', 'D2_c2_U', 'D3_c1_U', 'D3_c2_U']\n"
     ]
    }
   ],
   "source": [
    "m.display()"
   ]
  },
  {
   "cell_type": "code",
   "execution_count": 62,
   "metadata": {},
   "outputs": [
    {
     "data": {
      "text/plain": [
       "float"
      ]
     },
     "execution_count": 62,
     "metadata": {},
     "output_type": "execute_result"
    }
   ],
   "source": [
    "type(decision_var[orig][dest][comm].x)"
   ]
  },
  {
   "cell_type": "code",
   "execution_count": 48,
   "metadata": {},
   "outputs": [
    {
     "name": "stdout",
     "output_type": "stream",
     "text": [
      "----------------------------------------------------------------------------------------------------\n",
      "|  Supply Facility # S1 is sending 2 vehicles to Demand Facility # D1\n",
      "|  Supply Facility # S1 is shipping 0 units of commodity c1 to Demand Facility # D1\n",
      "|  Supply Facility # S1 is shipping 190 units of commodity c2 to Demand Facility # D1\n",
      "----------------------------------------------------------------------------------------------------\n",
      "|  Supply Facility # S1 is sending 0 vehicles to Demand Facility # D2\n",
      "|  Supply Facility # S1 is shipping 0 units of commodity c1 to Demand Facility # D2\n",
      "|  Supply Facility # S1 is shipping 0 units of commodity c2 to Demand Facility # D2\n",
      "----------------------------------------------------------------------------------------------------\n",
      "|  Supply Facility # S1 is sending 1 vehicles to Demand Facility # D3\n",
      "|  Supply Facility # S1 is shipping 100 units of commodity c1 to Demand Facility # D3\n",
      "|  Supply Facility # S1 is shipping 10 units of commodity c2 to Demand Facility # D3\n",
      "----------------------------------------------------------------------------------------------------\n",
      "|  Supply Facility # S2 is sending 0 vehicles to Demand Facility # D1\n",
      "|  Supply Facility # S2 is shipping 0 units of commodity c1 to Demand Facility # D1\n",
      "|  Supply Facility # S2 is shipping 0 units of commodity c2 to Demand Facility # D1\n",
      "----------------------------------------------------------------------------------------------------\n",
      "|  Supply Facility # S2 is sending 3 vehicles to Demand Facility # D2\n",
      "|  Supply Facility # S2 is shipping 128 units of commodity c1 to Demand Facility # D2\n",
      "|  Supply Facility # S2 is shipping 320 units of commodity c2 to Demand Facility # D2\n",
      "----------------------------------------------------------------------------------------------------\n",
      "|  Supply Facility # S2 is sending 2 vehicles to Demand Facility # D3\n",
      "|  Supply Facility # S2 is shipping 72 units of commodity c1 to Demand Facility # D3\n",
      "|  Supply Facility # S2 is shipping 215 units of commodity c2 to Demand Facility # D3\n",
      "----------------------------------------------------------------------------------------------------\n",
      "|  Demand Facility # D1 is not serving 25 people with commondity# c1\n",
      "----------------------------------------------------------------------------------------------------\n",
      "|  Demand Facility # D1 is not serving 6 people with commondity# c2\n",
      "----------------------------------------------------------------------------------------------------\n",
      "|  Demand Facility # D2 is not serving 18 people with commondity# c1\n",
      "----------------------------------------------------------------------------------------------------\n",
      "|  Demand Facility # D2 is not serving 18 people with commondity# c2\n",
      "----------------------------------------------------------------------------------------------------\n",
      "|  Demand Facility # D3 is not serving 0 people with commondity# c1\n",
      "----------------------------------------------------------------------------------------------------\n",
      "|  Demand Facility # D3 is not serving 8 people with commondity# c2\n",
      "******************************************************************************\n",
      "    | Objective Value ---------------------  228\n",
      "    | Supply Facilities -------------------  2\n",
      "    | Total Supply Units ------------------  1200\n",
      "    | Demand Facilites --------------------  3\n",
      "    | Total Demand Units ------------------  1160\n",
      "    | Total Potential Combinations --------  6\n",
      "    | Actual Combinations  ----------------  24\n",
      "******************************************************************************\n",
      "  --  The Transportation Simplex with Gurobi --\n"
     ]
    }
   ],
   "source": [
    "selected = {}\n",
    "Closed = []\n",
    "for v in m.getVars():\n",
    "    var = '%s' % v.VarName\n",
    "    units=int(v.x)\n",
    "    selected[var] = units\n",
    "#     print (var,units)\n",
    "    if (v.Varname[-1]=='V'):\n",
    "        print ('-'*100)\n",
    "        print( '|  Supply Facility #', var[:2], 'is sending', units, \\\n",
    "              'vehicles to Demand Facility #', var[3:5]) \n",
    "        \n",
    "    elif v.Varname[-2]=='c':\n",
    "        print( '|  Supply Facility #', var[:2], 'is shipping', units, \\\n",
    "                                            'units of commodity',var[-2:], 'to Demand Facility #', var[3:5])\n",
    "    elif v.Varname[-1]=='U':\n",
    "        print ('-'*100)\n",
    "        print( '|  Demand Facility #', var[:2], 'is not serving', units, \\\n",
    "                                            'people with commondity#', var[3:5])\n",
    "    else:\n",
    "        print ('Hiiiiiiii')\n",
    "        \n",
    "print( '******************************************************************************')\n",
    "print( '    | Objective Value --------------------- ', int(m.objVal))\n",
    "print( '    | Supply Facilities ------------------- ', len(Si))\n",
    "print( '    | Total Supply Units ------------------ ', Si.sum())\n",
    "print( '    | Demand Facilites -------------------- ', len(Dj))\n",
    "print( '    | Total Demand Units ------------------ ', Dj.sum())\n",
    "print( '    | Total Potential Combinations -------- ', len(Si)*len(Dj))\n",
    "print( '    | Actual Combinations  ---------------- ', len(selected))\n",
    "# print( '    | Real Time to Optimize (sec.) -------- ', t2)\n",
    "print( '******************************************************************************')\n",
    "print( '  --  The Transportation Simplex with Gurobi --')\n"
   ]
  },
  {
   "cell_type": "code",
   "execution_count": null,
   "metadata": {},
   "outputs": [],
   "source": []
  }
 ],
 "metadata": {
  "kernelspec": {
   "display_name": "Python 3",
   "language": "python",
   "name": "python3"
  },
  "language_info": {
   "codemirror_mode": {
    "name": "ipython",
    "version": 3
   },
   "file_extension": ".py",
   "mimetype": "text/x-python",
   "name": "python",
   "nbconvert_exporter": "python",
   "pygments_lexer": "ipython3",
   "version": "3.7.3"
  }
 },
 "nbformat": 4,
 "nbformat_minor": 2
}
