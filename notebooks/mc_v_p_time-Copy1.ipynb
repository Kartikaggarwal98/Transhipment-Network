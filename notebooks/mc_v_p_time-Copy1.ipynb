{
 "cells": [
  {
   "cell_type": "code",
   "execution_count": 1,
   "metadata": {},
   "outputs": [],
   "source": [
    "import numpy as np\n",
    "import gurobipy as gbp\n",
    "import time\n",
    "import pandas as pd\n",
    "np.random.seed(352)\n"
   ]
  },
  {
   "cell_type": "code",
   "execution_count": 2,
   "metadata": {},
   "outputs": [],
   "source": [
    "n_com=2 #no of commodities\n",
    "n_sup=2 #no of supply nodes\n",
    "n_dem=3 #no of demands nodes"
   ]
  },
  {
   "cell_type": "code",
   "execution_count": 3,
   "metadata": {},
   "outputs": [
    {
     "data": {
      "text/plain": [
       "((3, 2, 2), (3, 3, 2))"
      ]
     },
     "execution_count": 3,
     "metadata": {},
     "output_type": "execute_result"
    }
   ],
   "source": [
    "#Supply Demand of all commodities \n",
    "\"\"\"[\n",
    "[Day1:[Supplier_1:comm1,Supplier_1:comm2],[s2c1,s2c2]],\n",
    "Day2:[],\n",
    "Day3:[]\n",
    "    ]\"\"\"\n",
    "\n",
    "Si=np.array([[[100,200],[200,700]],\n",
    "             [[300,100],[500,200]],\n",
    "             [[400,300],[500,400]]])\n",
    "Dj=np.array([[[75,190],[150,320],[200,225]],\n",
    "             [[120,150],[100,400],[300,250]],\n",
    "             [[300,250],[400,900],[600,1500]]])\n",
    "Si.shape,Dj.shape #days X nodes X commodities"
   ]
  },
  {
   "cell_type": "code",
   "execution_count": 4,
   "metadata": {},
   "outputs": [
    {
     "data": {
      "text/plain": [
       "array([[ True, False],\n",
       "       [False,  True],\n",
       "       [ True,  True]])"
      ]
     },
     "execution_count": 4,
     "metadata": {},
     "output_type": "execute_result"
    }
   ],
   "source": [
    "# check assumption that demand is always higher than supply\n",
    "np.sum(Si,axis=1)<np.sum(Dj,axis=1)"
   ]
  },
  {
   "cell_type": "code",
   "execution_count": 5,
   "metadata": {},
   "outputs": [],
   "source": [
    "#Vehicle capacity, number of vehicles with each supplier, cost of transportation from supply nodes to demand nodes\n",
    "V_cap=150\n",
    "V_num=np.array([5,7])\n",
    "V_cost=np.array([[10,15,20],[18,13,20]])"
   ]
  },
  {
   "cell_type": "code",
   "execution_count": 6,
   "metadata": {},
   "outputs": [
    {
     "data": {
      "text/plain": [
       "array([[[ True,  True],\n",
       "        [ True,  True],\n",
       "        [ True,  True]]])"
      ]
     },
     "execution_count": 6,
     "metadata": {},
     "output_type": "execute_result"
    }
   ],
   "source": [
    "np.sum(Si,axis=2)<[[V_cap*V_num]*3]"
   ]
  },
  {
   "cell_type": "code",
   "execution_count": 7,
   "metadata": {},
   "outputs": [],
   "source": [
    "#People Variables\n",
    "n_pep=np.array([[[15,15],[25,25],[30,30]],\n",
    "                [[25,25],[50,50],[60,60]],\n",
    "                [[35,35],[55,55],[90,90]]])\n",
    "# n_pep=np.array([[[25,25],[50,50],[30,30]],\n",
    "#                 [[25,25],[50,50],[30,30]],\n",
    "#                 [[25,25],[50,50],[30,30]]]) #no of people on each demand node,\n",
    "mu=[4,8] #consumption rate (comm req per person per day)\n",
    "pc=[0.8,0.4]"
   ]
  },
  {
   "cell_type": "code",
   "execution_count": 8,
   "metadata": {},
   "outputs": [
    {
     "data": {
      "text/plain": [
       "range(0, 3)"
      ]
     },
     "execution_count": 8,
     "metadata": {},
     "output_type": "execute_result"
    }
   ],
   "source": [
    "n_days=len(Si)\n",
    "days_range=range(n_days)\n",
    "days_range"
   ]
  },
  {
   "cell_type": "code",
   "execution_count": 9,
   "metadata": {},
   "outputs": [
    {
     "name": "stdout",
     "output_type": "stream",
     "text": [
      "range(0, 2) range(0, 3) range(0, 2) 6\n"
     ]
    }
   ],
   "source": [
    "# Indices & Variable Names\n",
    "supply_nodes = n_sup\n",
    "demand_nodes = n_dem\n",
    "supply_nodes_range = range(n_sup)\n",
    "demand_nodes_range = range(n_dem)\n",
    "comm_range=range(n_com)\n",
    "all_nodes_len = n_sup*n_dem\n",
    "ALL_nodes_range = range(all_nodes_len)\n",
    "\n",
    "print (supply_nodes_range, demand_nodes_range,comm_range, all_nodes_len)"
   ]
  },
  {
   "cell_type": "code",
   "execution_count": 10,
   "metadata": {},
   "outputs": [
    {
     "data": {
      "text/plain": [
       "array([[[0.14117647, 0.10340136],\n",
       "        [0.28235294, 0.17414966],\n",
       "        [0.37647059, 0.12244898]],\n",
       "\n",
       "       [[0.18461538, 0.075     ],\n",
       "        [0.15384615, 0.2       ],\n",
       "        [0.46153846, 0.125     ]],\n",
       "\n",
       "       [[0.18461538, 0.03773585],\n",
       "        [0.24615385, 0.13584906],\n",
       "        [0.36923077, 0.22641509]]])"
      ]
     },
     "execution_count": 10,
     "metadata": {},
     "output_type": "execute_result"
    }
   ],
   "source": [
    "Pc=np.array([Dj[ix]/Dj[ix].sum(axis=0) for ix in range(len(Dj))])\n",
    "Pc=Pc*pc\n",
    "Pc"
   ]
  },
  {
   "cell_type": "code",
   "execution_count": 11,
   "metadata": {},
   "outputs": [
    {
     "data": {
      "text/plain": [
       "70.38538215041021"
      ]
     },
     "execution_count": 11,
     "metadata": {},
     "output_type": "execute_result"
    }
   ],
   "source": [
    "dep_time=24\n",
    "dep_cost=np.exp(1.5031+0.1172*dep_time)-np.exp(1.5031)\n",
    "dep_cost"
   ]
  },
  {
   "cell_type": "code",
   "execution_count": 16,
   "metadata": {},
   "outputs": [
    {
     "name": "stdout",
     "output_type": "stream",
     "text": [
      "##################################################   Day 1    ##################################################\n",
      "\n",
      "--------------------------------------------\n",
      "Warning: your license will expire in 7 days\n",
      "--------------------------------------------\n",
      "\n",
      "Using license file /Users/apple/gurobi.lic\n",
      "Academic license - for non-commercial use only\n",
      "Changed value of parameter MIPFocus to 2\n",
      "   Prev: 0  Min: 0  Max: 3  Default: 0\n",
      "First term:  <gurobi.LinExpr: 2311.604641856743 + -1.4117647058823533 S1_D1_c1 + -1.4117647058823533 S2_D1_c1 + -2.8235294117647065 S1_D2_c1 + -2.8235294117647065 S2_D2_c1 + -3.764705882352941 S1_D3_c1 + -3.764705882352941 S2_D3_c1 + -1.034013605442177 S1_D1_c2 + -1.034013605442177 S2_D1_c2 + -1.741496598639456 S1_D2_c2 + -1.741496598639456 S2_D2_c2 + -1.2244897959183674 S1_D3_c2 + -1.2244897959183674 S2_D3_c2>\n",
      "Gurobi Optimizer version 9.0.1 build v9.0.1rc0 (mac64)\n",
      "Optimize a model with 36 rows, 24 columns and 90 nonzeros\n",
      "Model fingerprint: 0x0a7718a1\n",
      "Variable types: 0 continuous, 24 integer (0 binary)\n",
      "Coefficient statistics:\n",
      "  Matrix range     [7e-03, 8e+00]\n",
      "  Objective range  [1e+00, 2e+01]\n",
      "  Bounds range     [0e+00, 0e+00]\n",
      "  RHS range        [1e+00, 7e+02]\n",
      "Found heuristic solution: objective 2985.7175774\n",
      "Presolve removed 6 rows and 0 columns\n",
      "Presolve time: 0.01s\n",
      "Presolved: 30 rows, 24 columns, 84 nonzeros\n",
      "Variable types: 0 continuous, 24 integer (0 binary)\n",
      "Presolve removed 14 rows and 6 columns\n",
      "Presolved: 16 rows, 18 columns, 42 nonzeros\n",
      "\n",
      "\n",
      "Root relaxation: objective 4.724473e+02, 6 iterations, 0.01 seconds\n",
      "\n",
      "    Nodes    |    Current Node    |     Objective Bounds      |     Work\n",
      " Expl Unexpl |  Obj  Depth IntInf | Incumbent    BestBd   Gap | It/Node Time\n",
      "\n",
      "     0     0  472.44731    0    4 2985.71758  472.44731  84.2%     -    0s\n",
      "H    0     0                     505.7139732  472.44731  6.58%     -    0s\n",
      "H    0     0                     493.7139732  472.44731  4.31%     -    0s\n",
      "     0     0  476.18064    0    4  493.71397  476.18064  3.55%     -    0s\n",
      "     0     0  485.78064    0    3  493.71397  485.78064  1.61%     -    0s\n",
      "     0     0  492.98064    0   15  493.71397  492.98064  0.15%     -    0s\n",
      "\n",
      "Cutting planes:\n",
      "  Gomory: 11\n",
      "  MIR: 5\n",
      "  StrongCG: 1\n",
      "  Mod-K: 1\n",
      "\n",
      "Explored 1 nodes (13 simplex iterations) in 0.08 seconds\n",
      "Thread count was 12 (of 12 available processors)\n",
      "\n",
      "Solution count 3: 493.714 505.714 2985.72 \n",
      "\n",
      "Optimal solution found (tolerance 1.00e-04)\n",
      "Best objective 4.937139731851e+02, best bound 4.937139731851e+02, gap 0.0000%\n",
      "^^^^^^^^^^^^^^^^^^^^^^^^^^^^^^^^^^^^^^^^^^^^^^^^^^^^^^^^^^^^^^^^^^^^^^^^^^^^^^^^^^^^^^^^^^^^^^^^^^^^\n",
      "First term:  24  Second term:  127  Third term:  119\n",
      "^^^^^^^^^^^^^^^^^^^^^^^^^^^^^^^^^^^^^^^^^^^^^^^^^^^^^^^^^^^^^^^^^^^^^^^^^^^^^^^^^^^^^^^^^^^^^^^^^^^^\n",
      "##################################################   Day 2    ##################################################\n",
      "Changed value of parameter MIPFocus to 2\n",
      "   Prev: 0  Min: 0  Max: 3  Default: 0\n",
      "First term:  <gurobi.LinExpr: 2985.0 + -1.8461538461538463 S1_D1_c1 + -1.8461538461538463 S2_D1_c1 + -1.5384615384615385 S1_D2_c1 + -1.5384615384615385 S2_D2_c1 + -4.615384615384615 S1_D3_c1 + -4.615384615384615 S2_D3_c1 + -0.7500000000000001 S1_D1_c2 + -0.7500000000000001 S2_D1_c2 + -2.0 S1_D2_c2 + -2.0 S2_D2_c2 + -1.25 S1_D3_c2 + -1.25 S2_D3_c2>\n",
      "Gurobi Optimizer version 9.0.1 build v9.0.1rc0 (mac64)\n",
      "Optimize a model with 36 rows, 24 columns and 90 nonzeros\n",
      "Model fingerprint: 0xf4e6587b\n",
      "Variable types: 0 continuous, 24 integer (0 binary)\n",
      "Coefficient statistics:\n",
      "  Matrix range     [7e-03, 8e+00]\n",
      "  Objective range  [8e-01, 2e+01]\n",
      "  Bounds range     [0e+00, 0e+00]\n",
      "  RHS range        [1e+00, 5e+02]\n",
      "Found heuristic solution: objective 5005.0604677\n",
      "Presolve removed 6 rows and 0 columns\n",
      "Presolve time: 0.00s\n",
      "Presolved: 30 rows, 24 columns, 84 nonzeros\n",
      "Variable types: 0 continuous, 24 integer (0 binary)\n",
      "Presolve removed 14 rows and 6 columns\n",
      "Presolved: 16 rows, 18 columns, 42 nonzeros\n",
      "\n",
      "\n",
      "Root relaxation: objective 1.245730e+03, 8 iterations, 0.00 seconds\n",
      "\n",
      "    Nodes    |    Current Node    |     Objective Bounds      |     Work\n",
      " Expl Unexpl |  Obj  Depth IntInf | Incumbent    BestBd   Gap | It/Node Time\n",
      "\n",
      "     0     0 1245.73021    0    5 5005.06047 1245.73021  75.1%     -    0s\n",
      "H    0     0                    1283.1433565 1245.73021  2.92%     -    0s\n",
      "     0     0 1249.63021    0    6 1283.14336 1249.63021  2.61%     -    0s\n",
      "H    0     0                    1270.1433565 1249.63021  1.62%     -    0s\n",
      "     0     0 1257.06354    0    5 1270.14336 1257.06354  1.03%     -    0s\n",
      "\n",
      "Cutting planes:\n",
      "  Gomory: 15\n",
      "  MIR: 7\n",
      "  StrongCG: 3\n",
      "  Zero half: 3\n",
      "\n",
      "Explored 1 nodes (19 simplex iterations) in 0.05 seconds\n",
      "Thread count was 12 (of 12 available processors)\n",
      "\n",
      "Solution count 3: 1270.14 1283.14 5005.06 \n",
      "\n",
      "Optimal solution found (tolerance 1.00e-04)\n",
      "Best objective 1.270143356515e+03, best bound 1.270143356515e+03, gap 0.0000%\n",
      "^^^^^^^^^^^^^^^^^^^^^^^^^^^^^^^^^^^^^^^^^^^^^^^^^^^^^^^^^^^^^^^^^^^^^^^^^^^^^^^^^^^^^^^^^^^^^^^^^^^^\n",
      "First term:  34  Second term:  124  Third term:  802\n",
      "^^^^^^^^^^^^^^^^^^^^^^^^^^^^^^^^^^^^^^^^^^^^^^^^^^^^^^^^^^^^^^^^^^^^^^^^^^^^^^^^^^^^^^^^^^^^^^^^^^^^\n",
      "##################################################   Day 3    ##################################################\n",
      "Changed value of parameter MIPFocus to 2\n",
      "   Prev: 0  Min: 0  Max: 3  Default: 0\n",
      "First term:  <gurobi.LinExpr: 8467.053701015966 + -1.8461538461538463 S1_D1_c1 + -1.8461538461538463 S2_D1_c1 + -2.4615384615384617 S1_D2_c1 + -2.4615384615384617 S2_D2_c1 + -3.6923076923076925 S1_D3_c1 + -3.6923076923076925 S2_D3_c1 + -0.37735849056603776 S1_D1_c2 + -0.37735849056603776 S2_D1_c2 + -1.3584905660377358 S1_D2_c2 + -1.3584905660377358 S2_D2_c2 + -2.2641509433962264 S1_D3_c2 + -2.2641509433962264 S2_D3_c2>\n",
      "Gurobi Optimizer version 9.0.1 build v9.0.1rc0 (mac64)\n",
      "Optimize a model with 36 rows, 24 columns and 90 nonzeros\n",
      "Model fingerprint: 0xc5877db0\n",
      "Variable types: 0 continuous, 24 integer (0 binary)\n",
      "Coefficient statistics:\n",
      "  Matrix range     [7e-03, 8e+00]\n",
      "  Objective range  [4e-01, 2e+01]\n",
      "  Bounds range     [0e+00, 0e+00]\n",
      "  RHS range        [1e+00, 2e+03]\n",
      "Found heuristic solution: objective 11803.320815\n",
      "Presolve removed 8 rows and 0 columns\n",
      "Presolve time: 0.00s\n",
      "Presolved: 28 rows, 24 columns, 80 nonzeros\n",
      "Variable types: 0 continuous, 24 integer (0 binary)\n",
      "Presolve removed 12 rows and 6 columns\n",
      "Presolved: 16 rows, 18 columns, 50 nonzeros\n",
      "\n",
      "\n",
      "Root relaxation: objective 5.069301e+03, 8 iterations, 0.00 seconds\n",
      "\n",
      "    Nodes    |    Current Node    |     Objective Bounds      |     Work\n",
      " Expl Unexpl |  Obj  Depth IntInf | Incumbent    BestBd   Gap | It/Node Time\n",
      "\n",
      "     0     0 5069.30098    0    5 11803.3208 5069.30098  57.1%     -    0s\n",
      "H    0     0                    5215.2835693 5069.30098  2.80%     -    0s\n",
      "H    0     0                    5169.5083797 5069.30098  1.94%     -    0s\n",
      "     0     0 5076.73251    0    4 5169.50838 5076.73251  1.79%     -    0s\n",
      "H    0     0                    5159.2017964 5114.40801  0.87%     -    0s\n",
      "     0     0 5118.67468    0    5 5159.20180 5118.67468  0.79%     -    0s\n",
      "H    0     0                    5158.2264699 5118.67468  0.77%     -    0s\n",
      "\n",
      "Cutting planes:\n",
      "  Gomory: 9\n",
      "  MIR: 8\n",
      "  StrongCG: 3\n",
      "\n",
      "Explored 1 nodes (23 simplex iterations) in 0.05 seconds\n",
      "Thread count was 12 (of 12 available processors)\n",
      "\n",
      "Solution count 5: 5158.23 5159.2 5169.51 ... 11803.3\n",
      "\n",
      "Optimal solution found (tolerance 1.00e-04)\n",
      "Best objective 5.158226469856e+03, best bound 5.158226469856e+03, gap 0.0000%\n",
      "^^^^^^^^^^^^^^^^^^^^^^^^^^^^^^^^^^^^^^^^^^^^^^^^^^^^^^^^^^^^^^^^^^^^^^^^^^^^^^^^^^^^^^^^^^^^^^^^^^^^\n",
      "First term:  360  Second term:  211  Third term:  1337\n",
      "^^^^^^^^^^^^^^^^^^^^^^^^^^^^^^^^^^^^^^^^^^^^^^^^^^^^^^^^^^^^^^^^^^^^^^^^^^^^^^^^^^^^^^^^^^^^^^^^^^^^\n"
     ]
    }
   ],
   "source": [
    "unserved_people=[[[0,0],[0,0],[0,0]]]\n",
    "prev_inventory=[Si[0]*0]\n",
    "unserved_people,prev_inventory\n",
    "cols=['Day','S_Node']+['D'+str(i+1)+'_c'+str(j+1) for i in demand_nodes_range for j in comm_range]\n",
    "cols+=['Total_S_c'+str(i+1) for i in comm_range]\n",
    "cols+=['Deliver_S_c'+str(i+1) for i in comm_range]\n",
    "cols+=['D'+str(i+1)+'_v' for i in demand_nodes_range]\n",
    "cols+=['Total_V']\n",
    "\n",
    "df=pd.DataFrame(columns=cols,index=None,dtype=int)\n",
    "\n",
    "cols2=['Day','D_Node']+['Total'+'_c'+str(i+1) for i in comm_range]+['Unserv'+'_c'+str(i+1) for i in comm_range]\n",
    "df2=pd.DataFrame(columns=cols2,index=None,dtype=int)\n",
    "df2\n",
    "\n",
    "unserved_people=[[[0,0],[0,0],[0,0]]]\n",
    "for day in days_range:\n",
    "    print ('#'*50,'  Day',day+1,'  ','#'*50)\n",
    "    # Create Model, Set MIP Focus, Add Variables, & Update Model\n",
    "    m = gbp.Model(' -- The Multi Commodity Vehicle Transportation Problem -- ')\n",
    "\n",
    "    # Set MIP Focus to 2 for optimality\n",
    "    m.setParam('MIPFocus', 2)\n",
    "    # m.setParam(gbp.GRB.Param.PoolSearchMode, 1)\n",
    "    # m.setParam(gbp.GRB.Param.PoolGap, 0.10)\n",
    "\n",
    "    decision_var = []\n",
    "    vehicles_var=[]\n",
    "    unserved_var=[]\n",
    "    for orig in supply_nodes_range:\n",
    "        decision_var.append([])\n",
    "        vehicles_var.append([])\n",
    "        for dest in demand_nodes_range:\n",
    "            decision_var[orig].append([])\n",
    "            vehicles_var[orig].append(m.addVar(vtype=gbp.GRB.INTEGER,\n",
    "                                              name='S'+str(orig+1)+'_D'+str(dest+1)+'_V'))\n",
    "            for comm in comm_range:\n",
    "    #             print (comm,decision_var)\n",
    "                decision_var[orig][dest].append(m.addVar(vtype=gbp.GRB.INTEGER, \n",
    "    #                                         obj=Cij[orig][dest],\n",
    "    #                                            obj=1,\n",
    "                                            name='S'+str(orig+1)+'_D'+str(dest+1)+'_c'+str(comm+1)))\n",
    "    for dest in demand_nodes_range:\n",
    "        unserved_var.append([])\n",
    "        for comm in comm_range:\n",
    "            unserved_var[dest].append(m.addVar(vtype=gbp.GRB.INTEGER,\n",
    "                                              name='D'+str(dest+1)+'_c'+str(comm+1)+'_U'))\n",
    "            \n",
    "########     Update Model Variables\n",
    "    m.update() \n",
    "    \n",
    "    #sum(sum[(Demand - net supplied)*priority for every demand node] for every commodity)\n",
    "    first_term=10*gbp.quicksum(gbp.quicksum((int(Dj[day][dest][comm])-gbp.quicksum(decision_var[orig][dest][comm] for orig in supply_nodes_range))*(Pc[day][dest][comm])\n",
    "                                for dest in demand_nodes_range) for comm in comm_range)\n",
    "    print ('First term: ',first_term)\n",
    "    \n",
    "    second_term=gbp.quicksum(gbp.quicksum(vehicles_var[orig][dest]*V_cost[orig][dest] for dest in demand_nodes_range) for orig in supply_nodes_range)\n",
    "    third_term=0.1*gbp.quicksum(gbp.quicksum(unserved_people[dest][comm]*dep_cost for comm in comm_range) for dest in demand_nodes_range)\n",
    "    \n",
    "    #objective function\n",
    "    m.setObjective(first_term+second_term+third_term,gbp.GRB.MINIMIZE)\n",
    "\n",
    "    m.update()\n",
    "\n",
    "##########     Add Supply Constraints\n",
    "\n",
    "    #sum(net supplied) <= available supply + previous inventory\n",
    "    for orig in supply_nodes_range:\n",
    "        for comm in comm_range:\n",
    "            m.addConstr(gbp.quicksum(decision_var[orig][dest][comm]\n",
    "                                     for dest in demand_nodes_range) - Si[day][orig][comm] - prev_inventory[day][orig][comm] <= 0)\n",
    "            \n",
    "########     Add Demand Constraints\n",
    "    #sum(supplied commodity at demand node) <= demand that day\n",
    "    for dest in demand_nodes_range:  \n",
    "        for comm in comm_range:\n",
    "            m.addConstr(gbp.quicksum(decision_var[orig][dest][comm] \n",
    "                                     for orig in supply_nodes_range) - Dj[day][dest][comm] <= 0)\n",
    "            \n",
    "###########     Add vehicle constraints\n",
    "\n",
    "#     for orig in supply_nodes_range:\n",
    "#         m.addConstr(gbp.quicksum(decision_var[orig][dest][comm]\n",
    "#                                  for dest in demand_nodes_range for comm in comm_range) - V_cap*V_num[orig] <=0)\n",
    "\n",
    "    #total sent vehicles at demand nodes <= available vehicles\n",
    "    for orig in supply_nodes_range:\n",
    "        m.addConstr(gbp.quicksum(vehicles_var[orig][dest] for dest in demand_nodes_range) - V_num[orig] <=0)\n",
    "    \n",
    "    #vehicles sent to a demand node >= (total supplied items to that node / vehicle capacity) \n",
    "    for orig in supply_nodes_range:\n",
    "        for dest in demand_nodes_range:\n",
    "            m.addConstr(-sum(decision_var[orig][dest][comm]\n",
    "                                for comm in comm_range)/V_cap + vehicles_var[orig][dest]>=0)\n",
    "            \n",
    "    # vehicles sent to a demand node-1 <= (total supplied items to that node / vehicle capacity)\n",
    "    for orig in supply_nodes_range:\n",
    "        for dest in demand_nodes_range:\n",
    "            m.addConstr(-sum(decision_var[orig][dest][comm]\n",
    "                                for comm in comm_range)/V_cap + vehicles_var[orig][dest]<=1)\n",
    "\n",
    "            \n",
    "######     Add unserved people contstraints\n",
    "    #unserved people at t <= num of people at t + unserved people at t-1\n",
    "    for dest in demand_nodes_range:\n",
    "        for comm in comm_range:\n",
    "            m.addConstr(unserved_var[dest][comm]<=n_pep[day][dest][comm]+unserved_people[day][dest][comm])\n",
    "            \n",
    "    # supplied commodity at demand node > (no of people at t + unserved people at t-1 - unserved people at t)*consumption rate\n",
    "    for dest in demand_nodes_range:\n",
    "        for comm in comm_range:\n",
    "            m.addConstr(sum(decision_var[orig][dest][comm] for orig in supply_nodes_range)-\n",
    "                        ((n_pep[day][dest][comm]+unserved_people[day][dest][comm]-unserved_var[dest][comm])*mu[comm])>=0)\n",
    "            \n",
    "        \n",
    "#      Adding 0 inventory for next day constraint: no supply left for t+1\n",
    "#     for orig in supply_nodes_range:\n",
    "#         for comm in comm_range:\n",
    "#             m.addConstr(gbp.quicksum(decision_var[orig][dest][comm]\n",
    "#                                      for dest in demand_nodes_range) - Si[day][orig][comm] >= 0)\n",
    "\n",
    "    #  Optimize and Print( Results)\n",
    "    m.optimize()\n",
    "    m.write('./path.lp')\n",
    "#     print (m.display())\n",
    "\n",
    "#     m.display()\n",
    "    prev_inventory.append([])\n",
    "\n",
    "    #todays supply + previous inventory - net supplied = todays inventory\n",
    "    for orig in supply_nodes_range:\n",
    "        prev_inventory[day+1].append([])\n",
    "        for comm in comm_range:\n",
    "            prev_inventory[day+1][orig].append(Si[day][orig][comm]+prev_inventory[day][orig][comm]-sum(decision_var[orig][dest][comm].x\n",
    "                                 for dest in demand_nodes_range))\n",
    "\n",
    "#     print (prev_inventory)\n",
    "    unserved_people.append([])\n",
    "    for dest in demand_nodes_range:\n",
    "        unserved_people[day+1].append([])\n",
    "        for comm in comm_range:\n",
    "            unserved_people[day+1][dest].append(unserved_var[dest][comm].x)\n",
    "\n",
    "            \n",
    "    \n",
    "    #Populate DataFrame\n",
    "    for ix in supply_nodes_range:\n",
    "        r_t=[]\n",
    "        r_t+=[decision_var[ix][iy][iz].x for iy in demand_nodes_range for iz in comm_range]\n",
    "        r_t+=[Si[day][ix][iy] for iy in comm_range]\n",
    "        r_t+=[sum(decision_var[ix][iy][iz].x for iy in demand_nodes_range) for iz in comm_range]\n",
    "        r_t+=[vehicles_var[ix][iy].x for iy in demand_nodes_range]\n",
    "        r_t+=[V_num[ix]]\n",
    "        df.loc[len(df)]=[day+1,ix+1]+r_t\n",
    "\n",
    "    for ix in demand_nodes_range:\n",
    "        r_t=[]\n",
    "        r_t+=[n_pep[day][ix][iy]+unserved_people[day][ix][iy] for iy in comm_range]\n",
    "        r_t+=[unserved_var[ix][iy].x for iy in comm_range]\n",
    "        df2.loc[len(df2)]=[day+1,int(ix+1)]+r_t\n",
    "    \n",
    "    first_term_val=sum(sum((int(Dj[day][dest][comm])-sum(decision_var[orig][dest][comm].x for orig in supply_nodes_range))*(Pc[day][dest][comm])\n",
    "                                for dest in demand_nodes_range) for comm in comm_range)\n",
    "    second_term_val=sum(sum(vehicles_var[orig][dest].x*V_cost[orig][dest] for dest in demand_nodes_range) for orig in supply_nodes_range)\n",
    "    third_term_val=0.1*sum(sum(unserved_var[dest][comm].x*dep_cost for comm in comm_range) for dest in demand_nodes_range)\n",
    "    \n",
    "    print ('^'*100)\n",
    "    print (\"First term: \",int(first_term_val),\" Second term: \",int(second_term_val),\" Third term: \",int(third_term_val))\n",
    "    print ('^'*100)\n"
   ]
  },
  {
   "cell_type": "code",
   "execution_count": 17,
   "metadata": {
    "scrolled": true
   },
   "outputs": [
    {
     "data": {
      "text/plain": [
       "[array([[0, 0],\n",
       "        [0, 0]]),\n",
       " [[0.0, 0.0], [0.0, 165.0]],\n",
       " [[16.0, 0.0], [264.0, 0.0]],\n",
       " [[0.0, 0.0], [30.0, 84.0]]]"
      ]
     },
     "execution_count": 17,
     "metadata": {},
     "output_type": "execute_result"
    }
   ],
   "source": [
    "prev_inventory"
   ]
  },
  {
   "cell_type": "code",
   "execution_count": 18,
   "metadata": {},
   "outputs": [
    {
     "data": {
      "text/plain": [
       "[[[0, 0], [0, 0], [0, 0]],\n",
       " [[15.0, -0.0], [-0.0, -0.0], [-0.0, 2.0]],\n",
       " [[10.0, 25.0], [25.0, -0.0], [-0.0, 54.0]],\n",
       " [[8.0, 60.0], [-0.0, 53.0], [-0.0, 69.0]]]"
      ]
     },
     "execution_count": 18,
     "metadata": {},
     "output_type": "execute_result"
    }
   ],
   "source": [
    "unserved_people"
   ]
  },
  {
   "cell_type": "code",
   "execution_count": 19,
   "metadata": {},
   "outputs": [
    {
     "data": {
      "text/plain": [
       "2.0"
      ]
     },
     "execution_count": 19,
     "metadata": {},
     "output_type": "execute_result"
    }
   ],
   "source": [
    "unserved_people[1][2][1]"
   ]
  },
  {
   "cell_type": "code",
   "execution_count": 20,
   "metadata": {},
   "outputs": [
    {
     "data": {
      "text/html": [
       "<div>\n",
       "<style scoped>\n",
       "    .dataframe tbody tr th:only-of-type {\n",
       "        vertical-align: middle;\n",
       "    }\n",
       "\n",
       "    .dataframe tbody tr th {\n",
       "        vertical-align: top;\n",
       "    }\n",
       "\n",
       "    .dataframe thead th {\n",
       "        text-align: right;\n",
       "    }\n",
       "</style>\n",
       "<table border=\"1\" class=\"dataframe\">\n",
       "  <thead>\n",
       "    <tr style=\"text-align: right;\">\n",
       "      <th></th>\n",
       "      <th>Day</th>\n",
       "      <th>S_Node</th>\n",
       "      <th>D1_c1</th>\n",
       "      <th>D1_c2</th>\n",
       "      <th>D2_c1</th>\n",
       "      <th>D2_c2</th>\n",
       "      <th>D3_c1</th>\n",
       "      <th>D3_c2</th>\n",
       "      <th>Total_S_c1</th>\n",
       "      <th>Total_S_c2</th>\n",
       "      <th>Deliver_S_c1</th>\n",
       "      <th>Deliver_S_c2</th>\n",
       "      <th>D1_v</th>\n",
       "      <th>D2_v</th>\n",
       "      <th>D3_v</th>\n",
       "      <th>Total_V</th>\n",
       "    </tr>\n",
       "  </thead>\n",
       "  <tbody>\n",
       "    <tr>\n",
       "      <th>0</th>\n",
       "      <td>1.0</td>\n",
       "      <td>1.0</td>\n",
       "      <td>-0.0</td>\n",
       "      <td>150.0</td>\n",
       "      <td>0.0</td>\n",
       "      <td>-0.0</td>\n",
       "      <td>100.0</td>\n",
       "      <td>50.0</td>\n",
       "      <td>100.0</td>\n",
       "      <td>200.0</td>\n",
       "      <td>100.0</td>\n",
       "      <td>200.0</td>\n",
       "      <td>1.0</td>\n",
       "      <td>-0.0</td>\n",
       "      <td>1.0</td>\n",
       "      <td>5.0</td>\n",
       "    </tr>\n",
       "    <tr>\n",
       "      <th>1</th>\n",
       "      <td>1.0</td>\n",
       "      <td>2.0</td>\n",
       "      <td>-0.0</td>\n",
       "      <td>40.0</td>\n",
       "      <td>100.0</td>\n",
       "      <td>320.0</td>\n",
       "      <td>100.0</td>\n",
       "      <td>175.0</td>\n",
       "      <td>200.0</td>\n",
       "      <td>700.0</td>\n",
       "      <td>200.0</td>\n",
       "      <td>535.0</td>\n",
       "      <td>1.0</td>\n",
       "      <td>3.0</td>\n",
       "      <td>2.0</td>\n",
       "      <td>7.0</td>\n",
       "    </tr>\n",
       "    <tr>\n",
       "      <th>2</th>\n",
       "      <td>2.0</td>\n",
       "      <td>1.0</td>\n",
       "      <td>120.0</td>\n",
       "      <td>0.0</td>\n",
       "      <td>100.0</td>\n",
       "      <td>50.0</td>\n",
       "      <td>64.0</td>\n",
       "      <td>50.0</td>\n",
       "      <td>300.0</td>\n",
       "      <td>100.0</td>\n",
       "      <td>284.0</td>\n",
       "      <td>100.0</td>\n",
       "      <td>1.0</td>\n",
       "      <td>1.0</td>\n",
       "      <td>1.0</td>\n",
       "      <td>5.0</td>\n",
       "    </tr>\n",
       "    <tr>\n",
       "      <th>3</th>\n",
       "      <td>2.0</td>\n",
       "      <td>2.0</td>\n",
       "      <td>0.0</td>\n",
       "      <td>0.0</td>\n",
       "      <td>0.0</td>\n",
       "      <td>350.0</td>\n",
       "      <td>236.0</td>\n",
       "      <td>15.0</td>\n",
       "      <td>500.0</td>\n",
       "      <td>200.0</td>\n",
       "      <td>236.0</td>\n",
       "      <td>365.0</td>\n",
       "      <td>0.0</td>\n",
       "      <td>3.0</td>\n",
       "      <td>2.0</td>\n",
       "      <td>7.0</td>\n",
       "    </tr>\n",
       "    <tr>\n",
       "      <th>4</th>\n",
       "      <td>3.0</td>\n",
       "      <td>1.0</td>\n",
       "      <td>150.0</td>\n",
       "      <td>-0.0</td>\n",
       "      <td>100.0</td>\n",
       "      <td>16.0</td>\n",
       "      <td>166.0</td>\n",
       "      <td>284.0</td>\n",
       "      <td>400.0</td>\n",
       "      <td>300.0</td>\n",
       "      <td>416.0</td>\n",
       "      <td>300.0</td>\n",
       "      <td>1.0</td>\n",
       "      <td>1.0</td>\n",
       "      <td>3.0</td>\n",
       "      <td>5.0</td>\n",
       "    </tr>\n",
       "    <tr>\n",
       "      <th>5</th>\n",
       "      <td>3.0</td>\n",
       "      <td>2.0</td>\n",
       "      <td>-0.0</td>\n",
       "      <td>-0.0</td>\n",
       "      <td>300.0</td>\n",
       "      <td>-0.0</td>\n",
       "      <td>434.0</td>\n",
       "      <td>316.0</td>\n",
       "      <td>500.0</td>\n",
       "      <td>400.0</td>\n",
       "      <td>734.0</td>\n",
       "      <td>316.0</td>\n",
       "      <td>0.0</td>\n",
       "      <td>2.0</td>\n",
       "      <td>5.0</td>\n",
       "      <td>7.0</td>\n",
       "    </tr>\n",
       "  </tbody>\n",
       "</table>\n",
       "</div>"
      ],
      "text/plain": [
       "   Day  S_Node  D1_c1  D1_c2  D2_c1  D2_c2  D3_c1  D3_c2  Total_S_c1  \\\n",
       "0  1.0     1.0   -0.0  150.0    0.0   -0.0  100.0   50.0       100.0   \n",
       "1  1.0     2.0   -0.0   40.0  100.0  320.0  100.0  175.0       200.0   \n",
       "2  2.0     1.0  120.0    0.0  100.0   50.0   64.0   50.0       300.0   \n",
       "3  2.0     2.0    0.0    0.0    0.0  350.0  236.0   15.0       500.0   \n",
       "4  3.0     1.0  150.0   -0.0  100.0   16.0  166.0  284.0       400.0   \n",
       "5  3.0     2.0   -0.0   -0.0  300.0   -0.0  434.0  316.0       500.0   \n",
       "\n",
       "   Total_S_c2  Deliver_S_c1  Deliver_S_c2  D1_v  D2_v  D3_v  Total_V  \n",
       "0       200.0         100.0         200.0   1.0  -0.0   1.0      5.0  \n",
       "1       700.0         200.0         535.0   1.0   3.0   2.0      7.0  \n",
       "2       100.0         284.0         100.0   1.0   1.0   1.0      5.0  \n",
       "3       200.0         236.0         365.0   0.0   3.0   2.0      7.0  \n",
       "4       300.0         416.0         300.0   1.0   1.0   3.0      5.0  \n",
       "5       400.0         734.0         316.0   0.0   2.0   5.0      7.0  "
      ]
     },
     "execution_count": 20,
     "metadata": {},
     "output_type": "execute_result"
    }
   ],
   "source": [
    "df"
   ]
  },
  {
   "cell_type": "code",
   "execution_count": 21,
   "metadata": {},
   "outputs": [
    {
     "data": {
      "text/html": [
       "<div>\n",
       "<style scoped>\n",
       "    .dataframe tbody tr th:only-of-type {\n",
       "        vertical-align: middle;\n",
       "    }\n",
       "\n",
       "    .dataframe tbody tr th {\n",
       "        vertical-align: top;\n",
       "    }\n",
       "\n",
       "    .dataframe thead th {\n",
       "        text-align: right;\n",
       "    }\n",
       "</style>\n",
       "<table border=\"1\" class=\"dataframe\">\n",
       "  <thead>\n",
       "    <tr style=\"text-align: right;\">\n",
       "      <th></th>\n",
       "      <th>Day</th>\n",
       "      <th>D_Node</th>\n",
       "      <th>Total_c1</th>\n",
       "      <th>Total_c2</th>\n",
       "      <th>Unserv_c1</th>\n",
       "      <th>Unserv_c2</th>\n",
       "    </tr>\n",
       "  </thead>\n",
       "  <tbody>\n",
       "    <tr>\n",
       "      <th>0</th>\n",
       "      <td>1.0</td>\n",
       "      <td>1.0</td>\n",
       "      <td>15.0</td>\n",
       "      <td>15.0</td>\n",
       "      <td>15.0</td>\n",
       "      <td>-0.0</td>\n",
       "    </tr>\n",
       "    <tr>\n",
       "      <th>1</th>\n",
       "      <td>1.0</td>\n",
       "      <td>2.0</td>\n",
       "      <td>25.0</td>\n",
       "      <td>25.0</td>\n",
       "      <td>-0.0</td>\n",
       "      <td>-0.0</td>\n",
       "    </tr>\n",
       "    <tr>\n",
       "      <th>2</th>\n",
       "      <td>1.0</td>\n",
       "      <td>3.0</td>\n",
       "      <td>30.0</td>\n",
       "      <td>30.0</td>\n",
       "      <td>-0.0</td>\n",
       "      <td>2.0</td>\n",
       "    </tr>\n",
       "    <tr>\n",
       "      <th>3</th>\n",
       "      <td>2.0</td>\n",
       "      <td>1.0</td>\n",
       "      <td>40.0</td>\n",
       "      <td>25.0</td>\n",
       "      <td>10.0</td>\n",
       "      <td>25.0</td>\n",
       "    </tr>\n",
       "    <tr>\n",
       "      <th>4</th>\n",
       "      <td>2.0</td>\n",
       "      <td>2.0</td>\n",
       "      <td>50.0</td>\n",
       "      <td>50.0</td>\n",
       "      <td>25.0</td>\n",
       "      <td>-0.0</td>\n",
       "    </tr>\n",
       "    <tr>\n",
       "      <th>5</th>\n",
       "      <td>2.0</td>\n",
       "      <td>3.0</td>\n",
       "      <td>60.0</td>\n",
       "      <td>62.0</td>\n",
       "      <td>-0.0</td>\n",
       "      <td>54.0</td>\n",
       "    </tr>\n",
       "    <tr>\n",
       "      <th>6</th>\n",
       "      <td>3.0</td>\n",
       "      <td>1.0</td>\n",
       "      <td>45.0</td>\n",
       "      <td>60.0</td>\n",
       "      <td>8.0</td>\n",
       "      <td>60.0</td>\n",
       "    </tr>\n",
       "    <tr>\n",
       "      <th>7</th>\n",
       "      <td>3.0</td>\n",
       "      <td>2.0</td>\n",
       "      <td>80.0</td>\n",
       "      <td>55.0</td>\n",
       "      <td>-0.0</td>\n",
       "      <td>53.0</td>\n",
       "    </tr>\n",
       "    <tr>\n",
       "      <th>8</th>\n",
       "      <td>3.0</td>\n",
       "      <td>3.0</td>\n",
       "      <td>90.0</td>\n",
       "      <td>144.0</td>\n",
       "      <td>-0.0</td>\n",
       "      <td>69.0</td>\n",
       "    </tr>\n",
       "  </tbody>\n",
       "</table>\n",
       "</div>"
      ],
      "text/plain": [
       "   Day  D_Node  Total_c1  Total_c2  Unserv_c1  Unserv_c2\n",
       "0  1.0     1.0      15.0      15.0       15.0       -0.0\n",
       "1  1.0     2.0      25.0      25.0       -0.0       -0.0\n",
       "2  1.0     3.0      30.0      30.0       -0.0        2.0\n",
       "3  2.0     1.0      40.0      25.0       10.0       25.0\n",
       "4  2.0     2.0      50.0      50.0       25.0       -0.0\n",
       "5  2.0     3.0      60.0      62.0       -0.0       54.0\n",
       "6  3.0     1.0      45.0      60.0        8.0       60.0\n",
       "7  3.0     2.0      80.0      55.0       -0.0       53.0\n",
       "8  3.0     3.0      90.0     144.0       -0.0       69.0"
      ]
     },
     "execution_count": 21,
     "metadata": {},
     "output_type": "execute_result"
    }
   ],
   "source": [
    "df2"
   ]
  },
  {
   "cell_type": "code",
   "execution_count": 22,
   "metadata": {},
   "outputs": [
    {
     "data": {
      "text/plain": [
       "array([[[15, 15],\n",
       "        [25, 25],\n",
       "        [30, 30]],\n",
       "\n",
       "       [[25, 25],\n",
       "        [50, 50],\n",
       "        [60, 60]],\n",
       "\n",
       "       [[35, 35],\n",
       "        [55, 55],\n",
       "        [90, 90]]])"
      ]
     },
     "execution_count": 22,
     "metadata": {},
     "output_type": "execute_result"
    }
   ],
   "source": [
    "n_pep"
   ]
  },
  {
   "cell_type": "code",
   "execution_count": 23,
   "metadata": {},
   "outputs": [
    {
     "data": {
      "text/plain": [
       "array([[[  75,  190],\n",
       "        [ 150,  320],\n",
       "        [ 200,  225]],\n",
       "\n",
       "       [[ 120,  150],\n",
       "        [ 100,  400],\n",
       "        [ 300,  250]],\n",
       "\n",
       "       [[ 300,  250],\n",
       "        [ 400,  900],\n",
       "        [ 600, 1500]]])"
      ]
     },
     "execution_count": 23,
     "metadata": {},
     "output_type": "execute_result"
    }
   ],
   "source": [
    "Dj"
   ]
  },
  {
   "cell_type": "code",
   "execution_count": null,
   "metadata": {},
   "outputs": [],
   "source": []
  }
 ],
 "metadata": {
  "kernelspec": {
   "display_name": "Python 3",
   "language": "python",
   "name": "python3"
  },
  "language_info": {
   "codemirror_mode": {
    "name": "ipython",
    "version": 3
   },
   "file_extension": ".py",
   "mimetype": "text/x-python",
   "name": "python",
   "nbconvert_exporter": "python",
   "pygments_lexer": "ipython3",
   "version": "3.7.3"
  }
 },
 "nbformat": 4,
 "nbformat_minor": 2
}
