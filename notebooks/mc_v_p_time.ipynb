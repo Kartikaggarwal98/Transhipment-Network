{
 "cells": [
  {
   "cell_type": "code",
   "execution_count": 1,
   "metadata": {},
   "outputs": [],
   "source": [
    "import numpy as np\n",
    "import gurobipy as gbp\n",
    "import time\n",
    "import pandas as pd\n",
    "np.random.seed(352)\n"
   ]
  },
  {
   "cell_type": "code",
   "execution_count": 58,
   "metadata": {},
   "outputs": [],
   "source": [
    "n_com=2 #no of commodities\n",
    "n_sup=2 #no of supply nodes\n",
    "n_dem=3 #no of demands nodes"
   ]
  },
  {
   "cell_type": "code",
   "execution_count": 59,
   "metadata": {},
   "outputs": [
    {
     "data": {
      "text/plain": [
       "((3, 2, 2), (3, 3, 2))"
      ]
     },
     "execution_count": 59,
     "metadata": {},
     "output_type": "execute_result"
    }
   ],
   "source": [
    "#Supply Demand of all commodities \n",
    "\"\"\"[\n",
    "[Day1:[Supplier_1:comm1,Supplier_1:comm2],[s2c1,s2c2]],\n",
    "Day2:[],\n",
    "Day3:[]\n",
    "    ]\"\"\"\n",
    "# Si=np.array([[[100,200],[200,700]],\n",
    "#              [[300,100],[500,200]],\n",
    "#              [[600,200],[1000,400]]])\n",
    "# Dj=np.array([[[75,290],[150,420],[200,325]],\n",
    "#              [[290,150],[200,400],[470,250]],\n",
    "#              [[580,300],[400,800],[940,500]]])\n",
    "\n",
    "Si=np.array([[[100,200],[200,700]],\n",
    "             [[300,100],[500,200]],\n",
    "             [[400,300],[500,400]]])\n",
    "Dj=np.array([[[75,190],[150,320],[200,225]],\n",
    "             [[120,150],[100,400],[300,250]],\n",
    "             [[300,250],[400,900],[600,1500]]])\n",
    "Si.shape,Dj.shape #days X nodes X commodities"
   ]
  },
  {
   "cell_type": "code",
   "execution_count": 60,
   "metadata": {},
   "outputs": [
    {
     "data": {
      "text/plain": [
       "array([[ True, False],\n",
       "       [False,  True],\n",
       "       [ True,  True]])"
      ]
     },
     "execution_count": 60,
     "metadata": {},
     "output_type": "execute_result"
    }
   ],
   "source": [
    "# check assumption that demand is always higher than supply\n",
    "np.sum(Si,axis=1)<np.sum(Dj,axis=1)"
   ]
  },
  {
   "cell_type": "code",
   "execution_count": 61,
   "metadata": {},
   "outputs": [],
   "source": [
    "#Vehicle capacity, number of vehicles with each supplier, cost of transportation from supply nodes to demand nodes\n",
    "V_cap=150\n",
    "V_num=np.array([5,7])\n",
    "V_cost=np.array([[10,15,20],[18,13,20]])"
   ]
  },
  {
   "cell_type": "code",
   "execution_count": 62,
   "metadata": {},
   "outputs": [
    {
     "data": {
      "text/plain": [
       "array([[[ True,  True],\n",
       "        [ True,  True],\n",
       "        [ True,  True]]])"
      ]
     },
     "execution_count": 62,
     "metadata": {},
     "output_type": "execute_result"
    }
   ],
   "source": [
    "np.sum(Si,axis=2)<[[V_cap*V_num]*3]"
   ]
  },
  {
   "cell_type": "code",
   "execution_count": 63,
   "metadata": {},
   "outputs": [],
   "source": [
    "#People Variables\n",
    "n_pep=np.array([[[25,25],[50,50],[30,30]],\n",
    "                [[25,25],[50,50],[30,30]],\n",
    "                [[25,25],[50,50],[30,30]]]) #no of people on each demand node,\n",
    "mu=[4,10] #consumption rate (comm req per person per day)\n",
    "pc=[0.1,0.9]"
   ]
  },
  {
   "cell_type": "code",
   "execution_count": 64,
   "metadata": {},
   "outputs": [
    {
     "data": {
      "text/plain": [
       "range(0, 3)"
      ]
     },
     "execution_count": 64,
     "metadata": {},
     "output_type": "execute_result"
    }
   ],
   "source": [
    "n_days=len(Si)\n",
    "days_range=range(n_days)\n",
    "days_range"
   ]
  },
  {
   "cell_type": "code",
   "execution_count": 65,
   "metadata": {},
   "outputs": [
    {
     "name": "stdout",
     "output_type": "stream",
     "text": [
      "range(0, 2) range(0, 3) range(0, 2) 6\n"
     ]
    }
   ],
   "source": [
    "# Indices & Variable Names\n",
    "supply_nodes = n_sup\n",
    "demand_nodes = n_dem\n",
    "supply_nodes_range = range(n_sup)\n",
    "demand_nodes_range = range(n_dem)\n",
    "comm_range=range(n_com)\n",
    "all_nodes_len = n_sup*n_dem\n",
    "ALL_nodes_range = range(all_nodes_len)\n",
    "\n",
    "print (supply_nodes_range, demand_nodes_range,comm_range, all_nodes_len)"
   ]
  },
  {
   "cell_type": "code",
   "execution_count": 66,
   "metadata": {},
   "outputs": [],
   "source": [
    "pc=[0.7,0.3]"
   ]
  },
  {
   "cell_type": "code",
   "execution_count": 74,
   "metadata": {},
   "outputs": [
    {
     "data": {
      "text/plain": [
       "array([[[0.12352941, 0.07755102],\n",
       "        [0.24705882, 0.13061224],\n",
       "        [0.32941176, 0.09183673]],\n",
       "\n",
       "       [[0.16153846, 0.05625   ],\n",
       "        [0.13461538, 0.15      ],\n",
       "        [0.40384615, 0.09375   ]],\n",
       "\n",
       "       [[0.16153846, 0.02830189],\n",
       "        [0.21538462, 0.10188679],\n",
       "        [0.32307692, 0.16981132]]])"
      ]
     },
     "execution_count": 74,
     "metadata": {},
     "output_type": "execute_result"
    }
   ],
   "source": [
    "Pc=np.array([Dj[ix]/Dj[ix].sum(axis=0) for ix in range(len(Dj))])\n",
    "Pc*pc"
   ]
  },
  {
   "cell_type": "code",
   "execution_count": 76,
   "metadata": {},
   "outputs": [
    {
     "data": {
      "text/plain": [
       "70.38538215041021"
      ]
     },
     "execution_count": 76,
     "metadata": {},
     "output_type": "execute_result"
    }
   ],
   "source": [
    "dep_time=24\n",
    "dep_cost=np.exp(1.5031+0.1172*dep_time)-np.exp(1.5031)\n",
    "dep_cost"
   ]
  },
  {
   "cell_type": "code",
   "execution_count": 77,
   "metadata": {},
   "outputs": [
    {
     "data": {
      "text/plain": [
       "1242.7588778369152"
      ]
     },
     "execution_count": 77,
     "metadata": {},
     "output_type": "execute_result"
    }
   ],
   "source": [
    "np.exp(1.5031+0.1172*48)-np.exp(1.5031)"
   ]
  },
  {
   "cell_type": "code",
   "execution_count": 104,
   "metadata": {},
   "outputs": [
    {
     "data": {
      "text/plain": [
       "([[[0, 0], [0, 0], [0, 0]]], [array([[0, 0],\n",
       "         [0, 0]])])"
      ]
     },
     "execution_count": 104,
     "metadata": {},
     "output_type": "execute_result"
    }
   ],
   "source": []
  },
  {
   "cell_type": "code",
   "execution_count": 120,
   "metadata": {},
   "outputs": [
    {
     "name": "stdout",
     "output_type": "stream",
     "text": [
      "##################################################   Day 1    ##################################################\n",
      "Changed value of parameter MIPFocus to 2\n",
      "   Prev: 0  Min: 0  Max: 3  Default: 0\n",
      "First term:  <gurobi.LinExpr: 4176.070428171269 + -1.7647058823529413 S1_D1_c1 + -1.7647058823529413 S2_D1_c1 + -3.5294117647058827 S1_D2_c1 + -3.5294117647058827 S2_D2_c1 + -4.705882352941177 S1_D3_c1 + -4.705882352941177 S2_D3_c1 + -2.5850340136054424 S1_D1_c2 + -2.5850340136054424 S2_D1_c2 + -4.353741496598639 S1_D2_c2 + -4.353741496598639 S2_D2_c2 + -3.0612244897959187 S1_D3_c2 + -3.0612244897959187 S2_D3_c2>\n",
      "Gurobi Optimizer version 9.0.1 build v9.0.1rc0 (mac64)\n",
      "Optimize a model with 36 rows, 24 columns and 90 nonzeros\n",
      "Model fingerprint: 0xab9d43e2\n",
      "Variable types: 0 continuous, 24 integer (0 binary)\n",
      "Coefficient statistics:\n",
      "  Matrix range     [7e-03, 1e+01]\n",
      "  Objective range  [2e+00, 2e+01]\n",
      "  Bounds range     [0e+00, 0e+00]\n",
      "  RHS range        [1e+00, 7e+02]\n",
      "Found heuristic solution: objective 5654.1634533\n",
      "Presolve removed 6 rows and 0 columns\n",
      "Presolve time: 0.00s\n",
      "Presolved: 30 rows, 24 columns, 84 nonzeros\n",
      "Variable types: 0 continuous, 24 integer (0 binary)\n",
      "Presolve removed 14 rows and 6 columns\n",
      "Presolved: 16 rows, 18 columns, 42 nonzeros\n",
      "\n",
      "\n",
      "Root relaxation: objective 9.614851e+02, 6 iterations, 0.00 seconds\n",
      "\n",
      "    Nodes    |    Current Node    |     Objective Bounds      |     Work\n",
      " Expl Unexpl |  Obj  Depth IntInf | Incumbent    BestBd   Gap | It/Node Time\n",
      "\n",
      "     0     0  961.48513    0    4 5654.16345  961.48513  83.0%     -    0s\n",
      "H    0     0                     989.9917927  961.48513  2.88%     -    0s\n",
      "     0     0  963.85846    0    4  989.99179  963.85846  2.64%     -    0s\n",
      "     0     0  979.21846    0   14  989.99179  979.21846  1.09%     -    0s\n",
      "     0     0  983.35179    0    4  989.99179  983.35179  0.67%     -    0s\n",
      "H    0     0                     988.6550720  983.35179  0.54%     -    0s\n",
      "\n",
      "Cutting planes:\n",
      "  Gomory: 10\n",
      "  MIR: 5\n",
      "  StrongCG: 1\n",
      "  Zero half: 1\n",
      "\n",
      "Explored 1 nodes (16 simplex iterations) in 0.03 seconds\n",
      "Thread count was 12 (of 12 available processors)\n",
      "\n",
      "Solution count 3: 988.655 989.992 5654.16 \n",
      "\n",
      "Optimal solution found (tolerance 1.00e-04)\n",
      "Best objective 9.886550720104e+02, best bound 9.886550720104e+02, gap 0.0000%\n",
      "Minimize\n",
      "   <gurobi.LinExpr: 4176.070428171269 + 10.0 S1_D1_V + -1.7647058823529413 S1_D1_c1 + -2.5850340136054424 S1_D1_c2 + 15.0 S1_D2_V + -3.5294117647058827 S1_D2_c1 + -4.353741496598639 S1_D2_c2 + 20.0 S1_D3_V + -4.705882352941177 S1_D3_c1 + -3.0612244897959187 S1_D3_c2 + 18.0 S2_D1_V + -1.7647058823529413 S2_D1_c1 + -2.5850340136054424 S2_D1_c2 + 13.0 S2_D2_V + -3.5294117647058827 S2_D2_c1 + -4.353741496598639 S2_D2_c2 + 20.0 S2_D3_V + -4.705882352941177 S2_D3_c1 + -3.0612244897959187 S2_D3_c2 + 7.038538215041021 D1_c1_U + 7.038538215041021 D1_c2_U + 7.038538215041021 D2_c1_U + 7.038538215041021 D2_c2_U + 7.038538215041021 D3_c1_U + 7.038538215041021 D3_c2_U>\n",
      "Subject To\n",
      "   R0 : <gurobi.LinExpr: S1_D1_c1 + S1_D2_c1 + S1_D3_c1> <= 100.0\n",
      "   R1 : <gurobi.LinExpr: S1_D1_c2 + S1_D2_c2 + S1_D3_c2> <= 200.0\n",
      "   R2 : <gurobi.LinExpr: S2_D1_c1 + S2_D2_c1 + S2_D3_c1> <= 200.0\n",
      "   R3 : <gurobi.LinExpr: S2_D1_c2 + S2_D2_c2 + S2_D3_c2> <= 700.0\n",
      "   R4 : <gurobi.LinExpr: S1_D1_c1 + S2_D1_c1> <= 75.0\n",
      "   R5 : <gurobi.LinExpr: S1_D1_c2 + S2_D1_c2> <= 190.0\n",
      "   R6 : <gurobi.LinExpr: S1_D2_c1 + S2_D2_c1> <= 150.0\n",
      "   R7 : <gurobi.LinExpr: S1_D2_c2 + S2_D2_c2> <= 320.0\n",
      "   R8 : <gurobi.LinExpr: S1_D3_c1 + S2_D3_c1> <= 200.0\n",
      "   R9 : <gurobi.LinExpr: S1_D3_c2 + S2_D3_c2> <= 225.0\n",
      "   R10 : <gurobi.LinExpr: S1_D1_V + S1_D2_V + S1_D3_V> <= 5.0\n",
      "   R11 : <gurobi.LinExpr: S2_D1_V + S2_D2_V + S2_D3_V> <= 7.0\n",
      "   R12 : <gurobi.LinExpr: S1_D1_V + -0.006666666666666667 S1_D1_c1 + -0.006666666666666667 S1_D1_c2> >= 0.0\n",
      "   R13 : <gurobi.LinExpr: S1_D2_V + -0.006666666666666667 S1_D2_c1 + -0.006666666666666667 S1_D2_c2> >= 0.0\n",
      "   R14 : <gurobi.LinExpr: S1_D3_V + -0.006666666666666667 S1_D3_c1 + -0.006666666666666667 S1_D3_c2> >= 0.0\n",
      "   R15 : <gurobi.LinExpr: S2_D1_V + -0.006666666666666667 S2_D1_c1 + -0.006666666666666667 S2_D1_c2> >= 0.0\n",
      "   R16 : <gurobi.LinExpr: S2_D2_V + -0.006666666666666667 S2_D2_c1 + -0.006666666666666667 S2_D2_c2> >= 0.0\n",
      "   R17 : <gurobi.LinExpr: S2_D3_V + -0.006666666666666667 S2_D3_c1 + -0.006666666666666667 S2_D3_c2> >= 0.0\n",
      "   R18 : <gurobi.LinExpr: S1_D1_V + -0.006666666666666667 S1_D1_c1 + -0.006666666666666667 S1_D1_c2> <= 1.0\n",
      "   R19 : <gurobi.LinExpr: S1_D2_V + -0.006666666666666667 S1_D2_c1 + -0.006666666666666667 S1_D2_c2> <= 1.0\n",
      "   R20 : <gurobi.LinExpr: S1_D3_V + -0.006666666666666667 S1_D3_c1 + -0.006666666666666667 S1_D3_c2> <= 1.0\n",
      "   R21 : <gurobi.LinExpr: S2_D1_V + -0.006666666666666667 S2_D1_c1 + -0.006666666666666667 S2_D1_c2> <= 1.0\n",
      "   R22 : <gurobi.LinExpr: S2_D2_V + -0.006666666666666667 S2_D2_c1 + -0.006666666666666667 S2_D2_c2> <= 1.0\n",
      "   R23 : <gurobi.LinExpr: S2_D3_V + -0.006666666666666667 S2_D3_c1 + -0.006666666666666667 S2_D3_c2> <= 1.0\n",
      "   R24 : <gurobi.LinExpr: D1_c1_U> <= 25.0\n",
      "   R25 : <gurobi.LinExpr: D1_c2_U> <= 25.0\n",
      "   R26 : <gurobi.LinExpr: D2_c1_U> <= 50.0\n",
      "   R27 : <gurobi.LinExpr: D2_c2_U> <= 50.0\n",
      "   R28 : <gurobi.LinExpr: D3_c1_U> <= 30.0\n",
      "   R29 : <gurobi.LinExpr: D3_c2_U> <= 30.0\n",
      "   R30 : <gurobi.LinExpr: S1_D1_c1 + S2_D1_c1 + 4.0 D1_c1_U> >= 100.0\n",
      "   R31 : <gurobi.LinExpr: S1_D1_c2 + S2_D1_c2 + 10.0 D1_c2_U> >= 250.0\n",
      "   R32 : <gurobi.LinExpr: S1_D2_c1 + S2_D2_c1 + 4.0 D2_c1_U> >= 200.0\n",
      "   R33 : <gurobi.LinExpr: S1_D2_c2 + S2_D2_c2 + 10.0 D2_c2_U> >= 500.0\n",
      "   R34 : <gurobi.LinExpr: S1_D3_c1 + S2_D3_c1 + 4.0 D3_c1_U> >= 120.0\n",
      "   R35 : <gurobi.LinExpr: S1_D3_c2 + S2_D3_c2 + 10.0 D3_c2_U> >= 300.0\n",
      "General Integers\n",
      "   ['S1_D1_V', 'S1_D1_c1', 'S1_D1_c2', 'S1_D2_V', 'S1_D2_c1', 'S1_D2_c2', 'S1_D3_V', 'S1_D3_c1', 'S1_D3_c2', 'S2_D1_V', 'S2_D1_c1', 'S2_D1_c2', 'S2_D2_V', 'S2_D2_c1', 'S2_D2_c2', 'S2_D3_V', 'S2_D3_c1', 'S2_D3_c2', 'D1_c1_U', 'D1_c2_U', 'D2_c1_U', 'D2_c2_U', 'D3_c1_U', 'D3_c2_U']\n",
      "None\n",
      "^^^^^^^^^^^^^^^^^^^^^^^^^^^^^^^^^^^^^^^^^^^^^^^^^^^^^^^^^^^^^^^^^^^^^^^^^^^^^^^^^^^^^^^^^^^^^^^^^^^^\n",
      "First term:  34  Second term:  119  Third term:  527\n",
      "^^^^^^^^^^^^^^^^^^^^^^^^^^^^^^^^^^^^^^^^^^^^^^^^^^^^^^^^^^^^^^^^^^^^^^^^^^^^^^^^^^^^^^^^^^^^^^^^^^^^\n",
      "##################################################   Day 2    ##################################################\n",
      "Changed value of parameter MIPFocus to 2\n",
      "   Prev: 0  Min: 0  Max: 3  Default: 0\n",
      "First term:  <gurobi.LinExpr: 5262.5 + -2.307692307692308 S1_D1_c1 + -2.307692307692308 S2_D1_c1 + -1.9230769230769231 S1_D2_c1 + -1.9230769230769231 S2_D2_c1 + -5.769230769230768 S1_D3_c1 + -5.769230769230768 S2_D3_c1 + -1.875 S1_D1_c2 + -1.875 S2_D1_c2 + -5.0 S1_D2_c2 + -5.0 S2_D2_c2 + -3.125 S1_D3_c2 + -3.125 S2_D3_c2>\n",
      "Gurobi Optimizer version 9.0.1 build v9.0.1rc0 (mac64)\n",
      "Optimize a model with 36 rows, 24 columns and 90 nonzeros\n",
      "Model fingerprint: 0x97804ee6\n",
      "Variable types: 0 continuous, 24 integer (0 binary)\n",
      "Coefficient statistics:\n",
      "  Matrix range     [7e-03, 1e+01]\n",
      "  Objective range  [2e+00, 2e+01]\n",
      "  Bounds range     [0e+00, 0e+00]\n",
      "  RHS range        [1e+00, 7e+02]\n",
      "Found heuristic solution: objective 7268.4833913\n",
      "Presolve removed 6 rows and 0 columns\n",
      "Presolve time: 0.00s\n",
      "Presolved: 30 rows, 24 columns, 84 nonzeros\n",
      "Variable types: 0 continuous, 24 integer (0 binary)\n",
      "Presolve removed 14 rows and 6 columns\n",
      "Presolved: 16 rows, 18 columns, 42 nonzeros\n",
      "\n",
      "\n",
      "Root relaxation: objective 2.040391e+03, 5 iterations, 0.00 seconds\n",
      "\n",
      "    Nodes    |    Current Node    |     Objective Bounds      |     Work\n",
      " Expl Unexpl |  Obj  Depth IntInf | Incumbent    BestBd   Gap | It/Node Time\n",
      "\n",
      "     0     0 2040.39062    0    5 7268.48339 2040.39062  71.9%     -    0s\n",
      "H    0     0                    2080.3098851 2040.39062  1.92%     -    0s\n",
      "     0     0 2047.30989    0    2 2080.30989 2047.30989  1.59%     -    0s\n",
      "H    0     0                    2067.3098851 2047.30989  0.97%     -    0s\n",
      "     0     0 2055.97655    0    9 2067.30989 2055.97655  0.55%     -    0s\n",
      "\n",
      "Cutting planes:\n",
      "  Gomory: 9\n",
      "  MIR: 2\n",
      "  StrongCG: 1\n",
      "  Mod-K: 1\n",
      "\n",
      "Explored 1 nodes (11 simplex iterations) in 0.04 seconds\n",
      "Thread count was 12 (of 12 available processors)\n",
      "\n",
      "Solution count 3: 2067.31 2080.31 7268.48 \n",
      "\n",
      "Optimal solution found (tolerance 1.00e-04)\n"
     ]
    },
    {
     "name": "stdout",
     "output_type": "stream",
     "text": [
      "Best objective 2.067309885116e+03, best bound 2.067309885116e+03, gap 0.0000%\n",
      "Minimize\n",
      "   <gurobi.LinExpr: 5262.5 + 10.0 S1_D1_V + -2.307692307692308 S1_D1_c1 + -1.875 S1_D1_c2 + 15.0 S1_D2_V + -1.9230769230769231 S1_D2_c1 + -5.0 S1_D2_c2 + 20.0 S1_D3_V + -5.769230769230768 S1_D3_c1 + -3.125 S1_D3_c2 + 18.0 S2_D1_V + -2.307692307692308 S2_D1_c1 + -1.875 S2_D1_c2 + 13.0 S2_D2_V + -1.9230769230769231 S2_D2_c1 + -5.0 S2_D2_c2 + 20.0 S2_D3_V + -5.769230769230768 S2_D3_c1 + -3.125 S2_D3_c2 + 7.038538215041021 D1_c1_U + 7.038538215041021 D1_c2_U + 7.038538215041021 D2_c1_U + 7.038538215041021 D2_c2_U + 7.038538215041021 D3_c1_U + 7.038538215041021 D3_c2_U>\n",
      "Subject To\n",
      "   R0 : <gurobi.LinExpr: S1_D1_c1 + S1_D2_c1 + S1_D3_c1> <= 300.0\n",
      "   R1 : <gurobi.LinExpr: S1_D1_c2 + S1_D2_c2 + S1_D3_c2> <= 110.0\n",
      "   R2 : <gurobi.LinExpr: S2_D1_c1 + S2_D2_c1 + S2_D3_c1> <= 500.0\n",
      "   R3 : <gurobi.LinExpr: S2_D1_c2 + S2_D2_c2 + S2_D3_c2> <= 355.0\n",
      "   R4 : <gurobi.LinExpr: S1_D1_c1 + S2_D1_c1> <= 120.0\n",
      "   R5 : <gurobi.LinExpr: S1_D1_c2 + S2_D1_c2> <= 150.0\n",
      "   R6 : <gurobi.LinExpr: S1_D2_c1 + S2_D2_c1> <= 100.0\n",
      "   R7 : <gurobi.LinExpr: S1_D2_c2 + S2_D2_c2> <= 400.0\n",
      "   R8 : <gurobi.LinExpr: S1_D3_c1 + S2_D3_c1> <= 300.0\n",
      "   R9 : <gurobi.LinExpr: S1_D3_c2 + S2_D3_c2> <= 250.0\n",
      "   R10 : <gurobi.LinExpr: S1_D1_V + S1_D2_V + S1_D3_V> <= 5.0\n",
      "   R11 : <gurobi.LinExpr: S2_D1_V + S2_D2_V + S2_D3_V> <= 7.0\n",
      "   R12 : <gurobi.LinExpr: S1_D1_V + -0.006666666666666667 S1_D1_c1 + -0.006666666666666667 S1_D1_c2> >= 0.0\n",
      "   R13 : <gurobi.LinExpr: S1_D2_V + -0.006666666666666667 S1_D2_c1 + -0.006666666666666667 S1_D2_c2> >= 0.0\n",
      "   R14 : <gurobi.LinExpr: S1_D3_V + -0.006666666666666667 S1_D3_c1 + -0.006666666666666667 S1_D3_c2> >= 0.0\n",
      "   R15 : <gurobi.LinExpr: S2_D1_V + -0.006666666666666667 S2_D1_c1 + -0.006666666666666667 S2_D1_c2> >= 0.0\n",
      "   R16 : <gurobi.LinExpr: S2_D2_V + -0.006666666666666667 S2_D2_c1 + -0.006666666666666667 S2_D2_c2> >= 0.0\n",
      "   R17 : <gurobi.LinExpr: S2_D3_V + -0.006666666666666667 S2_D3_c1 + -0.006666666666666667 S2_D3_c2> >= 0.0\n",
      "   R18 : <gurobi.LinExpr: S1_D1_V + -0.006666666666666667 S1_D1_c1 + -0.006666666666666667 S1_D1_c2> <= 1.0\n",
      "   R19 : <gurobi.LinExpr: S1_D2_V + -0.006666666666666667 S1_D2_c1 + -0.006666666666666667 S1_D2_c2> <= 1.0\n",
      "   R20 : <gurobi.LinExpr: S1_D3_V + -0.006666666666666667 S1_D3_c1 + -0.006666666666666667 S1_D3_c2> <= 1.0\n",
      "   R21 : <gurobi.LinExpr: S2_D1_V + -0.006666666666666667 S2_D1_c1 + -0.006666666666666667 S2_D1_c2> <= 1.0\n",
      "   R22 : <gurobi.LinExpr: S2_D2_V + -0.006666666666666667 S2_D2_c1 + -0.006666666666666667 S2_D2_c2> <= 1.0\n",
      "   R23 : <gurobi.LinExpr: S2_D3_V + -0.006666666666666667 S2_D3_c1 + -0.006666666666666667 S2_D3_c2> <= 1.0\n",
      "   R24 : <gurobi.LinExpr: D1_c1_U> <= 50.0\n",
      "   R25 : <gurobi.LinExpr: D1_c2_U> <= 31.0\n",
      "   R26 : <gurobi.LinExpr: D2_c1_U> <= 68.0\n",
      "   R27 : <gurobi.LinExpr: D2_c2_U> <= 68.0\n",
      "   R28 : <gurobi.LinExpr: D3_c1_U> <= 30.0\n",
      "   R29 : <gurobi.LinExpr: D3_c2_U> <= 38.0\n",
      "   R30 : <gurobi.LinExpr: S1_D1_c1 + S2_D1_c1 + 4.0 D1_c1_U> >= 200.0\n",
      "   R31 : <gurobi.LinExpr: S1_D1_c2 + S2_D1_c2 + 10.0 D1_c2_U> >= 310.0\n",
      "   R32 : <gurobi.LinExpr: S1_D2_c1 + S2_D2_c1 + 4.0 D2_c1_U> >= 272.0\n",
      "   R33 : <gurobi.LinExpr: S1_D2_c2 + S2_D2_c2 + 10.0 D2_c2_U> >= 680.0\n",
      "   R34 : <gurobi.LinExpr: S1_D3_c1 + S2_D3_c1 + 4.0 D3_c1_U> >= 120.0\n",
      "   R35 : <gurobi.LinExpr: S1_D3_c2 + S2_D3_c2 + 10.0 D3_c2_U> >= 380.0\n",
      "General Integers\n",
      "   ['S1_D1_V', 'S1_D1_c1', 'S1_D1_c2', 'S1_D2_V', 'S1_D2_c1', 'S1_D2_c2', 'S1_D3_V', 'S1_D3_c1', 'S1_D3_c2', 'S2_D1_V', 'S2_D1_c1', 'S2_D1_c2', 'S2_D2_V', 'S2_D2_c1', 'S2_D2_c2', 'S2_D3_V', 'S2_D3_c1', 'S2_D3_c2', 'D1_c1_U', 'D1_c2_U', 'D2_c1_U', 'D2_c2_U', 'D3_c1_U', 'D3_c2_U']\n",
      "None\n",
      "^^^^^^^^^^^^^^^^^^^^^^^^^^^^^^^^^^^^^^^^^^^^^^^^^^^^^^^^^^^^^^^^^^^^^^^^^^^^^^^^^^^^^^^^^^^^^^^^^^^^\n",
      "First term:  85  Second term:  124  Third term:  1083\n",
      "^^^^^^^^^^^^^^^^^^^^^^^^^^^^^^^^^^^^^^^^^^^^^^^^^^^^^^^^^^^^^^^^^^^^^^^^^^^^^^^^^^^^^^^^^^^^^^^^^^^^\n",
      "##################################################   Day 3    ##################################################\n",
      "Changed value of parameter MIPFocus to 2\n",
      "   Prev: 0  Min: 0  Max: 3  Default: 0\n",
      "First term:  <gurobi.LinExpr: 16475.32656023222 + -2.307692307692308 S1_D1_c1 + -2.307692307692308 S2_D1_c1 + -3.076923076923077 S1_D2_c1 + -3.076923076923077 S2_D2_c1 + -4.615384615384616 S1_D3_c1 + -4.615384615384616 S2_D3_c1 + -0.9433962264150944 S1_D1_c2 + -0.9433962264150944 S2_D1_c2 + -3.3962264150943393 S1_D2_c2 + -3.3962264150943393 S2_D2_c2 + -5.660377358490566 S1_D3_c2 + -5.660377358490566 S2_D3_c2>\n",
      "Gurobi Optimizer version 9.0.1 build v9.0.1rc0 (mac64)\n",
      "Optimize a model with 36 rows, 24 columns and 90 nonzeros\n",
      "Model fingerprint: 0xd8920a6e\n",
      "Variable types: 0 continuous, 24 integer (0 binary)\n",
      "Coefficient statistics:\n",
      "  Matrix range     [7e-03, 1e+01]\n",
      "  Objective range  [9e-01, 2e+01]\n",
      "  Bounds range     [0e+00, 0e+00]\n",
      "  RHS range        [1e+00, 2e+03]\n",
      "Found heuristic solution: objective 19037.354471\n",
      "Presolve removed 8 rows and 0 columns\n",
      "Presolve time: 0.00s\n",
      "Presolved: 28 rows, 24 columns, 80 nonzeros\n",
      "Variable types: 0 continuous, 24 integer (0 binary)\n",
      "Presolve removed 13 rows and 7 columns\n",
      "Presolved: 15 rows, 17 columns, 47 nonzeros\n",
      "\n",
      "\n",
      "Root relaxation: objective 9.592610e+03, 5 iterations, 0.00 seconds\n",
      "\n",
      "    Nodes    |    Current Node    |     Objective Bounds      |     Work\n",
      " Expl Unexpl |  Obj  Depth IntInf | Incumbent    BestBd   Gap | It/Node Time\n",
      "\n",
      "     0     0 9592.61003    0    5 19037.3545 9592.61003  49.6%     -    0s\n",
      "H    0     0                    9767.4300298 9592.61003  1.79%     -    0s\n",
      "     0     0 9651.63233    0   12 9767.43003 9651.63233  1.19%     -    0s\n",
      "H    0     0                    9716.7159515 9651.63233  0.67%     -    0s\n",
      "     0     0 9655.44191    0    3 9716.71595 9655.44191  0.63%     -    0s\n",
      "H    0     0                    9714.7159515 9655.44191  0.61%     -    0s\n",
      "\n",
      "Cutting planes:\n",
      "  Gomory: 5\n",
      "  MIR: 4\n",
      "  StrongCG: 1\n",
      "  Zero half: 1\n",
      "\n",
      "Explored 1 nodes (13 simplex iterations) in 0.04 seconds\n",
      "Thread count was 12 (of 12 available processors)\n",
      "\n",
      "Solution count 4: 9714.72 9716.72 9767.43 19037.4 \n",
      "\n",
      "Optimal solution found (tolerance 1.00e-04)\n",
      "Best objective 9.714715951470e+03, best bound 9.714715951470e+03, gap 0.0000%\n",
      "Minimize\n",
      "   <gurobi.LinExpr: 16475.32656023222 + 10.0 S1_D1_V + -2.307692307692308 S1_D1_c1 + -0.9433962264150944 S1_D1_c2 + 15.0 S1_D2_V + -3.076923076923077 S1_D2_c1 + -3.3962264150943393 S1_D2_c2 + 20.0 S1_D3_V + -4.615384615384616 S1_D3_c1 + -5.660377358490566 S1_D3_c2 + 18.0 S2_D1_V + -2.307692307692308 S2_D1_c1 + -0.9433962264150944 S2_D1_c2 + 13.0 S2_D2_V + -3.076923076923077 S2_D2_c1 + -3.3962264150943393 S2_D2_c2 + 20.0 S2_D3_V + -4.615384615384616 S2_D3_c1 + -5.660377358490566 S2_D3_c2 + 7.038538215041021 D1_c1_U + 7.038538215041021 D1_c2_U + 7.038538215041021 D2_c1_U + 7.038538215041021 D2_c2_U + 7.038538215041021 D3_c1_U + 7.038538215041021 D3_c2_U>\n",
      "Subject To\n",
      "   R0 : <gurobi.LinExpr: S1_D1_c1 + S1_D2_c1 + S1_D3_c1> <= 540.0\n",
      "   R1 : <gurobi.LinExpr: S1_D1_c2 + S1_D2_c2 + S1_D3_c2> <= 300.0\n",
      "   R2 : <gurobi.LinExpr: S2_D1_c1 + S2_D2_c1 + S2_D3_c1> <= 640.0\n",
      "   R3 : <gurobi.LinExpr: S2_D1_c2 + S2_D2_c2 + S2_D3_c2> <= 400.0\n",
      "   R4 : <gurobi.LinExpr: S1_D1_c1 + S2_D1_c1> <= 300.0\n",
      "   R5 : <gurobi.LinExpr: S1_D1_c2 + S2_D1_c2> <= 250.0\n",
      "   R6 : <gurobi.LinExpr: S1_D2_c1 + S2_D2_c1> <= 400.0\n",
      "   R7 : <gurobi.LinExpr: S1_D2_c2 + S2_D2_c2> <= 900.0\n",
      "   R8 : <gurobi.LinExpr: S1_D3_c1 + S2_D3_c1> <= 600.0\n",
      "   R9 : <gurobi.LinExpr: S1_D3_c2 + S2_D3_c2> <= 1500.0\n",
      "   R10 : <gurobi.LinExpr: S1_D1_V + S1_D2_V + S1_D3_V> <= 5.0\n",
      "   R11 : <gurobi.LinExpr: S2_D1_V + S2_D2_V + S2_D3_V> <= 7.0\n",
      "   R12 : <gurobi.LinExpr: S1_D1_V + -0.006666666666666667 S1_D1_c1 + -0.006666666666666667 S1_D1_c2> >= 0.0\n",
      "   R13 : <gurobi.LinExpr: S1_D2_V + -0.006666666666666667 S1_D2_c1 + -0.006666666666666667 S1_D2_c2> >= 0.0\n",
      "   R14 : <gurobi.LinExpr: S1_D3_V + -0.006666666666666667 S1_D3_c1 + -0.006666666666666667 S1_D3_c2> >= 0.0\n",
      "   R15 : <gurobi.LinExpr: S2_D1_V + -0.006666666666666667 S2_D1_c1 + -0.006666666666666667 S2_D1_c2> >= 0.0\n",
      "   R16 : <gurobi.LinExpr: S2_D2_V + -0.006666666666666667 S2_D2_c1 + -0.006666666666666667 S2_D2_c2> >= 0.0\n",
      "   R17 : <gurobi.LinExpr: S2_D3_V + -0.006666666666666667 S2_D3_c1 + -0.006666666666666667 S2_D3_c2> >= 0.0\n"
     ]
    },
    {
     "name": "stdout",
     "output_type": "stream",
     "text": [
      "   R18 : <gurobi.LinExpr: S1_D1_V + -0.006666666666666667 S1_D1_c1 + -0.006666666666666667 S1_D1_c2> <= 1.0\n",
      "   R19 : <gurobi.LinExpr: S1_D2_V + -0.006666666666666667 S1_D2_c1 + -0.006666666666666667 S1_D2_c2> <= 1.0\n",
      "   R20 : <gurobi.LinExpr: S1_D3_V + -0.006666666666666667 S1_D3_c1 + -0.006666666666666667 S1_D3_c2> <= 1.0\n",
      "   R21 : <gurobi.LinExpr: S2_D1_V + -0.006666666666666667 S2_D1_c1 + -0.006666666666666667 S2_D1_c2> <= 1.0\n",
      "   R22 : <gurobi.LinExpr: S2_D2_V + -0.006666666666666667 S2_D2_c1 + -0.006666666666666667 S2_D2_c2> <= 1.0\n",
      "   R23 : <gurobi.LinExpr: S2_D3_V + -0.006666666666666667 S2_D3_c1 + -0.006666666666666667 S2_D3_c2> <= 1.0\n",
      "   R24 : <gurobi.LinExpr: D1_c1_U> <= 45.0\n",
      "   R25 : <gurobi.LinExpr: D1_c2_U> <= 56.0\n",
      "   R26 : <gurobi.LinExpr: D2_c1_U> <= 93.0\n",
      "   R27 : <gurobi.LinExpr: D2_c2_U> <= 78.0\n",
      "   R28 : <gurobi.LinExpr: D3_c1_U> <= 30.0\n",
      "   R29 : <gurobi.LinExpr: D3_c2_U> <= 62.0\n",
      "   R30 : <gurobi.LinExpr: S1_D1_c1 + S2_D1_c1 + 4.0 D1_c1_U> >= 180.0\n",
      "   R31 : <gurobi.LinExpr: S1_D1_c2 + S2_D1_c2 + 10.0 D1_c2_U> >= 560.0\n",
      "   R32 : <gurobi.LinExpr: S1_D2_c1 + S2_D2_c1 + 4.0 D2_c1_U> >= 372.0\n",
      "   R33 : <gurobi.LinExpr: S1_D2_c2 + S2_D2_c2 + 10.0 D2_c2_U> >= 780.0\n",
      "   R34 : <gurobi.LinExpr: S1_D3_c1 + S2_D3_c1 + 4.0 D3_c1_U> >= 120.0\n",
      "   R35 : <gurobi.LinExpr: S1_D3_c2 + S2_D3_c2 + 10.0 D3_c2_U> >= 620.0\n",
      "General Integers\n",
      "   ['S1_D1_V', 'S1_D1_c1', 'S1_D1_c2', 'S1_D2_V', 'S1_D2_c1', 'S1_D2_c2', 'S1_D3_V', 'S1_D3_c1', 'S1_D3_c2', 'S2_D1_V', 'S2_D1_c1', 'S2_D1_c2', 'S2_D2_V', 'S2_D2_c1', 'S2_D2_c2', 'S2_D3_V', 'S2_D3_c1', 'S2_D3_c2', 'D1_c1_U', 'D1_c2_U', 'D2_c1_U', 'D2_c2_U', 'D3_c1_U', 'D3_c2_U']\n",
      "None\n",
      "^^^^^^^^^^^^^^^^^^^^^^^^^^^^^^^^^^^^^^^^^^^^^^^^^^^^^^^^^^^^^^^^^^^^^^^^^^^^^^^^^^^^^^^^^^^^^^^^^^^^\n",
      "First term:  853  Second term:  209  Third term:  971\n",
      "^^^^^^^^^^^^^^^^^^^^^^^^^^^^^^^^^^^^^^^^^^^^^^^^^^^^^^^^^^^^^^^^^^^^^^^^^^^^^^^^^^^^^^^^^^^^^^^^^^^^\n"
     ]
    }
   ],
   "source": [
    "unserved_people=[[[0,0],[0,0],[0,0]]]\n",
    "prev_inventory=[Si[0]*0]\n",
    "unserved_people,prev_inventory\n",
    "cols=['Day','S_Node']+['D'+str(i+1)+'_c'+str(j+1) for i in demand_nodes_range for j in comm_range]\n",
    "cols+=['Total_S_c'+str(i+1) for i in comm_range]\n",
    "cols+=['Deliver_S_c'+str(i+1) for i in comm_range]\n",
    "cols+=['D'+str(i+1)+'_v' for i in demand_nodes_range]\n",
    "cols+=['Total_V']\n",
    "\n",
    "df=pd.DataFrame(columns=cols,index=None,dtype=int)\n",
    "\n",
    "cols2=['Day','D_Node']+['Total'+'_c'+str(i+1) for i in comm_range]+['Unserv'+'_c'+str(i+1) for i in comm_range]\n",
    "df2=pd.DataFrame(columns=cols2,index=None,dtype=int)\n",
    "df2\n",
    "\n",
    "unserved_people=[[[0,0],[0,0],[0,0]]]\n",
    "for day in days_range:\n",
    "    print ('#'*50,'  Day',day+1,'  ','#'*50)\n",
    "    # Create Model, Set MIP Focus, Add Variables, & Update Model\n",
    "    m = gbp.Model(' -- The Multi Commodity Vehicle Transportation Problem -- ')\n",
    "\n",
    "    # Set MIP Focus to 2 for optimality\n",
    "    m.setParam('MIPFocus', 2)\n",
    "    # m.setParam(gbp.GRB.Param.PoolSearchMode, 1)\n",
    "    # m.setParam(gbp.GRB.Param.PoolGap, 0.10)\n",
    "\n",
    "    decision_var = []\n",
    "    vehicles_var=[]\n",
    "    unserved_var=[]\n",
    "    for orig in supply_nodes_range:\n",
    "        decision_var.append([])\n",
    "        vehicles_var.append([])\n",
    "        for dest in demand_nodes_range:\n",
    "            decision_var[orig].append([])\n",
    "            vehicles_var[orig].append(m.addVar(vtype=gbp.GRB.INTEGER,\n",
    "                                              name='S'+str(orig+1)+'_D'+str(dest+1)+'_V'))\n",
    "            for comm in comm_range:\n",
    "    #             print (comm,decision_var)\n",
    "                decision_var[orig][dest].append(m.addVar(vtype=gbp.GRB.INTEGER, \n",
    "    #                                         obj=Cij[orig][dest],\n",
    "    #                                            obj=1,\n",
    "                                            name='S'+str(orig+1)+'_D'+str(dest+1)+'_c'+str(comm+1)))\n",
    "    for dest in demand_nodes_range:\n",
    "        unserved_var.append([])\n",
    "        for comm in comm_range:\n",
    "            unserved_var[dest].append(m.addVar(vtype=gbp.GRB.INTEGER,\n",
    "                                              name='D'+str(dest+1)+'_c'+str(comm+1)+'_U'))\n",
    "    # Update Model Variables\n",
    "    m.update() \n",
    "    \n",
    "    #sum(sum[(Demand - net supplied)*priority for every demand node] for every commodity)\n",
    "    first_term=10*gbp.quicksum(gbp.quicksum((int(Dj[day][dest][comm])-gbp.quicksum(decision_var[orig][dest][comm] for orig in supply_nodes_range))*(Pc[day][dest][comm])\n",
    "                                for dest in demand_nodes_range) for comm in comm_range)\n",
    "    print ('First term: ',first_term)\n",
    "    \n",
    "    second_term=gbp.quicksum(gbp.quicksum(vehicles_var[orig][dest]*V_cost[orig][dest] for dest in demand_nodes_range) for orig in supply_nodes_range)\n",
    "    third_term=0.1*gbp.quicksum(gbp.quicksum(unserved_var[dest][comm]*dep_cost for comm in comm_range) for dest in demand_nodes_range)\n",
    "    \n",
    "    #objective function\n",
    "    m.setObjective(first_term+second_term+third_term,gbp.GRB.MINIMIZE)\n",
    "\n",
    "    m.update()\n",
    "\n",
    "#     Add Supply Constraints\n",
    "    for orig in supply_nodes_range:\n",
    "        for comm in comm_range:\n",
    "            m.addConstr(gbp.quicksum(decision_var[orig][dest][comm]\n",
    "                                     for dest in demand_nodes_range) - Si[day][orig][comm] - prev_inventory[day][orig][comm] <= 0)\n",
    "    # Add Demand Constraints\n",
    "    for dest in demand_nodes_range:  \n",
    "        for comm in comm_range:\n",
    "            m.addConstr(gbp.quicksum(decision_var[orig][dest][comm] \n",
    "                                     for orig in supply_nodes_range) - Dj[day][dest][comm] <= 0)\n",
    "    #Add vehicle constraints\n",
    "#     for orig in supply_nodes_range:\n",
    "#         m.addConstr(gbp.quicksum(decision_var[orig][dest][comm]\n",
    "#                                  for dest in demand_nodes_range for comm in comm_range) - V_cap*V_num[orig] <=0)\n",
    "\n",
    "    for orig in supply_nodes_range:\n",
    "        m.addConstr(gbp.quicksum(vehicles_var[orig][dest] for dest in demand_nodes_range) - V_num[orig] <=0)\n",
    "\n",
    "    for orig in supply_nodes_range:\n",
    "        for dest in demand_nodes_range:\n",
    "            m.addConstr(-sum(decision_var[orig][dest][comm]\n",
    "                                for comm in comm_range)/V_cap + vehicles_var[orig][dest]>=0)\n",
    "    for orig in supply_nodes_range:\n",
    "        for dest in demand_nodes_range:\n",
    "            m.addConstr(-sum(decision_var[orig][dest][comm]\n",
    "                                for comm in comm_range)/V_cap + vehicles_var[orig][dest]<=1)\n",
    "\n",
    "    ######Add unserved people contstraints\n",
    "    #unserved people at t <= num of people at t + unserved people at t-1\n",
    "    for dest in demand_nodes_range:\n",
    "        for comm in comm_range:\n",
    "            m.addConstr(unserved_var[dest][comm]<=n_pep[day][dest][comm]+unserved_people[day][dest][comm])\n",
    "            \n",
    "    # supplied commodity at demand node > (no of people at t + unserved people at t-1 - unserved people at t)*consumption rate\n",
    "    for dest in demand_nodes_range:\n",
    "        for comm in comm_range:\n",
    "            m.addConstr(sum(decision_var[orig][dest][comm] for orig in supply_nodes_range)-\n",
    "                        ((n_pep[day][dest][comm]+unserved_people[day][dest][comm]-unserved_var[dest][comm])*mu[comm])>=0)\n",
    "            \n",
    "        \n",
    "#      Adding 0 inventory for next day constraint: no supply left for t+1\n",
    "#     for orig in supply_nodes_range:\n",
    "#         for comm in comm_range:\n",
    "#             m.addConstr(gbp.quicksum(decision_var[orig][dest][comm]\n",
    "#                                      for dest in demand_nodes_range) - Si[day][orig][comm] >= 0)\n",
    "\n",
    "    #  Optimize and Print( Results)\n",
    "    m.optimize()\n",
    "    m.write('./path.lp')\n",
    "    print (m.display())\n",
    "\n",
    "#     m.display()\n",
    "    prev_inventory.append([])\n",
    "\n",
    "    for orig in supply_nodes_range:\n",
    "        prev_inventory[day+1].append([])\n",
    "        for comm in comm_range:\n",
    "            prev_inventory[day+1][orig].append(Si[day][orig][comm]+prev_inventory[day][orig][comm]-sum(decision_var[orig][dest][comm].x\n",
    "                                 for dest in demand_nodes_range))\n",
    "\n",
    "#     print (prev_inventory)\n",
    "    unserved_people.append([])\n",
    "    for dest in demand_nodes_range:\n",
    "        unserved_people[day+1].append([])\n",
    "        for comm in comm_range:\n",
    "            unserved_people[day+1][dest].append(unserved_var[dest][comm].x)\n",
    "\n",
    "            \n",
    "    \n",
    "    #Populate DataFrame\n",
    "    for ix in supply_nodes_range:\n",
    "        r_t=[]\n",
    "        r_t+=[decision_var[ix][iy][iz].x for iy in demand_nodes_range for iz in comm_range]\n",
    "        r_t+=[Si[day][ix][iy] for iy in comm_range]\n",
    "        r_t+=[sum(decision_var[ix][iy][iz].x for iy in demand_nodes_range) for iz in comm_range]\n",
    "        r_t+=[vehicles_var[ix][iy].x for iy in demand_nodes_range]\n",
    "        r_t+=[V_num[ix]]\n",
    "        df.loc[len(df)]=[day+1,ix+1]+r_t\n",
    "\n",
    "    for ix in demand_nodes_range:\n",
    "        r_t=[]\n",
    "        r_t+=[n_pep[day][ix][iy]+unserved_people[day][ix][iy] for iy in comm_range]\n",
    "        r_t+=[unserved_var[ix][iy].x for iy in comm_range]\n",
    "        df2.loc[len(df2)]=[day+1,int(ix+1)]+r_t\n",
    "    \n",
    "    first_term_val=sum(sum((int(Dj[day][dest][comm])-sum(decision_var[orig][dest][comm].x for orig in supply_nodes_range))*(Pc[day][dest][comm])\n",
    "                                for dest in demand_nodes_range) for comm in comm_range)\n",
    "    second_term_val=sum(sum(vehicles_var[orig][dest].x*V_cost[orig][dest] for dest in demand_nodes_range) for orig in supply_nodes_range)\n",
    "    third_term_val=0.1*sum(sum(unserved_var[dest][comm].x*dep_cost for comm in comm_range) for dest in demand_nodes_range)\n",
    "    \n",
    "    print ('^'*100)\n",
    "    print (\"First term: \",int(first_term_val),\" Second term: \",int(second_term_val),\" Third term: \",int(third_term_val))\n",
    "    print ('^'*100)\n"
   ]
  },
  {
   "cell_type": "code",
   "execution_count": 121,
   "metadata": {
    "scrolled": true
   },
   "outputs": [
    {
     "data": {
      "text/plain": [
       "[array([[0, 0],\n",
       "        [0, 0]]),\n",
       " [[0.0, 10.0], [0.0, 155.0]],\n",
       " [[140.0, 0.0], [140.0, 0.0]],\n",
       " [[90.0, 0.0], [0.0, 0.0]]]"
      ]
     },
     "execution_count": 121,
     "metadata": {},
     "output_type": "execute_result"
    }
   ],
   "source": [
    "prev_inventory"
   ]
  },
  {
   "cell_type": "code",
   "execution_count": 122,
   "metadata": {},
   "outputs": [
    {
     "data": {
      "text/plain": [
       "[[[0, 0], [0, 0], [0, 0]],\n",
       " [[25.0, 6.0], [18.0, 18.0], [-0.0, 8.0]],\n",
       " [[20.0, 31.0], [43.0, 28.0], [-0.0, 32.0]],\n",
       " [[8.0, 56.0], [-0.0, 74.0], [-0.0, -0.0]]]"
      ]
     },
     "execution_count": 122,
     "metadata": {},
     "output_type": "execute_result"
    }
   ],
   "source": [
    "unserved_people"
   ]
  },
  {
   "cell_type": "code",
   "execution_count": 123,
   "metadata": {},
   "outputs": [
    {
     "data": {
      "text/plain": [
       "8.0"
      ]
     },
     "execution_count": 123,
     "metadata": {},
     "output_type": "execute_result"
    }
   ],
   "source": [
    "unserved_people[1][2][1]"
   ]
  },
  {
   "cell_type": "code",
   "execution_count": 124,
   "metadata": {},
   "outputs": [
    {
     "data": {
      "text/html": [
       "<div>\n",
       "<style scoped>\n",
       "    .dataframe tbody tr th:only-of-type {\n",
       "        vertical-align: middle;\n",
       "    }\n",
       "\n",
       "    .dataframe tbody tr th {\n",
       "        vertical-align: top;\n",
       "    }\n",
       "\n",
       "    .dataframe thead th {\n",
       "        text-align: right;\n",
       "    }\n",
       "</style>\n",
       "<table border=\"1\" class=\"dataframe\">\n",
       "  <thead>\n",
       "    <tr style=\"text-align: right;\">\n",
       "      <th></th>\n",
       "      <th>Day</th>\n",
       "      <th>S_Node</th>\n",
       "      <th>D1_c1</th>\n",
       "      <th>D1_c2</th>\n",
       "      <th>D2_c1</th>\n",
       "      <th>D2_c2</th>\n",
       "      <th>D3_c1</th>\n",
       "      <th>D3_c2</th>\n",
       "      <th>Total_S_c1</th>\n",
       "      <th>Total_S_c2</th>\n",
       "      <th>Deliver_S_c1</th>\n",
       "      <th>Deliver_S_c2</th>\n",
       "      <th>D1_v</th>\n",
       "      <th>D2_v</th>\n",
       "      <th>D3_v</th>\n",
       "      <th>Total_V</th>\n",
       "    </tr>\n",
       "  </thead>\n",
       "  <tbody>\n",
       "    <tr>\n",
       "      <th>0</th>\n",
       "      <td>1.0</td>\n",
       "      <td>1.0</td>\n",
       "      <td>-0.0</td>\n",
       "      <td>190.0</td>\n",
       "      <td>-0.0</td>\n",
       "      <td>-0.0</td>\n",
       "      <td>100.0</td>\n",
       "      <td>-0.0</td>\n",
       "      <td>100.0</td>\n",
       "      <td>200.0</td>\n",
       "      <td>100.0</td>\n",
       "      <td>190.0</td>\n",
       "      <td>2.0</td>\n",
       "      <td>-0.0</td>\n",
       "      <td>1.0</td>\n",
       "      <td>5.0</td>\n",
       "    </tr>\n",
       "    <tr>\n",
       "      <th>1</th>\n",
       "      <td>1.0</td>\n",
       "      <td>2.0</td>\n",
       "      <td>-0.0</td>\n",
       "      <td>0.0</td>\n",
       "      <td>128.0</td>\n",
       "      <td>320.0</td>\n",
       "      <td>72.0</td>\n",
       "      <td>225.0</td>\n",
       "      <td>200.0</td>\n",
       "      <td>700.0</td>\n",
       "      <td>200.0</td>\n",
       "      <td>545.0</td>\n",
       "      <td>0.0</td>\n",
       "      <td>3.0</td>\n",
       "      <td>2.0</td>\n",
       "      <td>7.0</td>\n",
       "    </tr>\n",
       "    <tr>\n",
       "      <th>2</th>\n",
       "      <td>2.0</td>\n",
       "      <td>1.0</td>\n",
       "      <td>120.0</td>\n",
       "      <td>-0.0</td>\n",
       "      <td>40.0</td>\n",
       "      <td>110.0</td>\n",
       "      <td>0.0</td>\n",
       "      <td>0.0</td>\n",
       "      <td>300.0</td>\n",
       "      <td>100.0</td>\n",
       "      <td>160.0</td>\n",
       "      <td>110.0</td>\n",
       "      <td>1.0</td>\n",
       "      <td>1.0</td>\n",
       "      <td>0.0</td>\n",
       "      <td>5.0</td>\n",
       "    </tr>\n",
       "    <tr>\n",
       "      <th>3</th>\n",
       "      <td>2.0</td>\n",
       "      <td>2.0</td>\n",
       "      <td>0.0</td>\n",
       "      <td>-0.0</td>\n",
       "      <td>60.0</td>\n",
       "      <td>290.0</td>\n",
       "      <td>300.0</td>\n",
       "      <td>65.0</td>\n",
       "      <td>500.0</td>\n",
       "      <td>200.0</td>\n",
       "      <td>360.0</td>\n",
       "      <td>355.0</td>\n",
       "      <td>0.0</td>\n",
       "      <td>3.0</td>\n",
       "      <td>3.0</td>\n",
       "      <td>7.0</td>\n",
       "    </tr>\n",
       "    <tr>\n",
       "      <th>4</th>\n",
       "      <td>3.0</td>\n",
       "      <td>1.0</td>\n",
       "      <td>150.0</td>\n",
       "      <td>-0.0</td>\n",
       "      <td>-0.0</td>\n",
       "      <td>-0.0</td>\n",
       "      <td>300.0</td>\n",
       "      <td>300.0</td>\n",
       "      <td>400.0</td>\n",
       "      <td>300.0</td>\n",
       "      <td>450.0</td>\n",
       "      <td>300.0</td>\n",
       "      <td>1.0</td>\n",
       "      <td>0.0</td>\n",
       "      <td>4.0</td>\n",
       "      <td>5.0</td>\n",
       "    </tr>\n",
       "    <tr>\n",
       "      <th>5</th>\n",
       "      <td>3.0</td>\n",
       "      <td>2.0</td>\n",
       "      <td>-0.0</td>\n",
       "      <td>-0.0</td>\n",
       "      <td>400.0</td>\n",
       "      <td>40.0</td>\n",
       "      <td>240.0</td>\n",
       "      <td>360.0</td>\n",
       "      <td>500.0</td>\n",
       "      <td>400.0</td>\n",
       "      <td>640.0</td>\n",
       "      <td>400.0</td>\n",
       "      <td>0.0</td>\n",
       "      <td>3.0</td>\n",
       "      <td>4.0</td>\n",
       "      <td>7.0</td>\n",
       "    </tr>\n",
       "  </tbody>\n",
       "</table>\n",
       "</div>"
      ],
      "text/plain": [
       "   Day  S_Node  D1_c1  D1_c2  D2_c1  D2_c2  D3_c1  D3_c2  Total_S_c1  \\\n",
       "0  1.0     1.0   -0.0  190.0   -0.0   -0.0  100.0   -0.0       100.0   \n",
       "1  1.0     2.0   -0.0    0.0  128.0  320.0   72.0  225.0       200.0   \n",
       "2  2.0     1.0  120.0   -0.0   40.0  110.0    0.0    0.0       300.0   \n",
       "3  2.0     2.0    0.0   -0.0   60.0  290.0  300.0   65.0       500.0   \n",
       "4  3.0     1.0  150.0   -0.0   -0.0   -0.0  300.0  300.0       400.0   \n",
       "5  3.0     2.0   -0.0   -0.0  400.0   40.0  240.0  360.0       500.0   \n",
       "\n",
       "   Total_S_c2  Deliver_S_c1  Deliver_S_c2  D1_v  D2_v  D3_v  Total_V  \n",
       "0       200.0         100.0         190.0   2.0  -0.0   1.0      5.0  \n",
       "1       700.0         200.0         545.0   0.0   3.0   2.0      7.0  \n",
       "2       100.0         160.0         110.0   1.0   1.0   0.0      5.0  \n",
       "3       200.0         360.0         355.0   0.0   3.0   3.0      7.0  \n",
       "4       300.0         450.0         300.0   1.0   0.0   4.0      5.0  \n",
       "5       400.0         640.0         400.0   0.0   3.0   4.0      7.0  "
      ]
     },
     "execution_count": 124,
     "metadata": {},
     "output_type": "execute_result"
    }
   ],
   "source": [
    "df"
   ]
  },
  {
   "cell_type": "code",
   "execution_count": 125,
   "metadata": {},
   "outputs": [
    {
     "data": {
      "text/html": [
       "<div>\n",
       "<style scoped>\n",
       "    .dataframe tbody tr th:only-of-type {\n",
       "        vertical-align: middle;\n",
       "    }\n",
       "\n",
       "    .dataframe tbody tr th {\n",
       "        vertical-align: top;\n",
       "    }\n",
       "\n",
       "    .dataframe thead th {\n",
       "        text-align: right;\n",
       "    }\n",
       "</style>\n",
       "<table border=\"1\" class=\"dataframe\">\n",
       "  <thead>\n",
       "    <tr style=\"text-align: right;\">\n",
       "      <th></th>\n",
       "      <th>Day</th>\n",
       "      <th>D_Node</th>\n",
       "      <th>Total_c1</th>\n",
       "      <th>Total_c2</th>\n",
       "      <th>Unserv_c1</th>\n",
       "      <th>Unserv_c2</th>\n",
       "    </tr>\n",
       "  </thead>\n",
       "  <tbody>\n",
       "    <tr>\n",
       "      <th>0</th>\n",
       "      <td>1.0</td>\n",
       "      <td>1.0</td>\n",
       "      <td>25.0</td>\n",
       "      <td>25.0</td>\n",
       "      <td>25.0</td>\n",
       "      <td>6.0</td>\n",
       "    </tr>\n",
       "    <tr>\n",
       "      <th>1</th>\n",
       "      <td>1.0</td>\n",
       "      <td>2.0</td>\n",
       "      <td>50.0</td>\n",
       "      <td>50.0</td>\n",
       "      <td>18.0</td>\n",
       "      <td>18.0</td>\n",
       "    </tr>\n",
       "    <tr>\n",
       "      <th>2</th>\n",
       "      <td>1.0</td>\n",
       "      <td>3.0</td>\n",
       "      <td>30.0</td>\n",
       "      <td>30.0</td>\n",
       "      <td>-0.0</td>\n",
       "      <td>8.0</td>\n",
       "    </tr>\n",
       "    <tr>\n",
       "      <th>3</th>\n",
       "      <td>2.0</td>\n",
       "      <td>1.0</td>\n",
       "      <td>50.0</td>\n",
       "      <td>31.0</td>\n",
       "      <td>20.0</td>\n",
       "      <td>31.0</td>\n",
       "    </tr>\n",
       "    <tr>\n",
       "      <th>4</th>\n",
       "      <td>2.0</td>\n",
       "      <td>2.0</td>\n",
       "      <td>68.0</td>\n",
       "      <td>68.0</td>\n",
       "      <td>43.0</td>\n",
       "      <td>28.0</td>\n",
       "    </tr>\n",
       "    <tr>\n",
       "      <th>5</th>\n",
       "      <td>2.0</td>\n",
       "      <td>3.0</td>\n",
       "      <td>30.0</td>\n",
       "      <td>38.0</td>\n",
       "      <td>-0.0</td>\n",
       "      <td>32.0</td>\n",
       "    </tr>\n",
       "    <tr>\n",
       "      <th>6</th>\n",
       "      <td>3.0</td>\n",
       "      <td>1.0</td>\n",
       "      <td>45.0</td>\n",
       "      <td>56.0</td>\n",
       "      <td>8.0</td>\n",
       "      <td>56.0</td>\n",
       "    </tr>\n",
       "    <tr>\n",
       "      <th>7</th>\n",
       "      <td>3.0</td>\n",
       "      <td>2.0</td>\n",
       "      <td>93.0</td>\n",
       "      <td>78.0</td>\n",
       "      <td>-0.0</td>\n",
       "      <td>74.0</td>\n",
       "    </tr>\n",
       "    <tr>\n",
       "      <th>8</th>\n",
       "      <td>3.0</td>\n",
       "      <td>3.0</td>\n",
       "      <td>30.0</td>\n",
       "      <td>62.0</td>\n",
       "      <td>-0.0</td>\n",
       "      <td>-0.0</td>\n",
       "    </tr>\n",
       "  </tbody>\n",
       "</table>\n",
       "</div>"
      ],
      "text/plain": [
       "   Day  D_Node  Total_c1  Total_c2  Unserv_c1  Unserv_c2\n",
       "0  1.0     1.0      25.0      25.0       25.0        6.0\n",
       "1  1.0     2.0      50.0      50.0       18.0       18.0\n",
       "2  1.0     3.0      30.0      30.0       -0.0        8.0\n",
       "3  2.0     1.0      50.0      31.0       20.0       31.0\n",
       "4  2.0     2.0      68.0      68.0       43.0       28.0\n",
       "5  2.0     3.0      30.0      38.0       -0.0       32.0\n",
       "6  3.0     1.0      45.0      56.0        8.0       56.0\n",
       "7  3.0     2.0      93.0      78.0       -0.0       74.0\n",
       "8  3.0     3.0      30.0      62.0       -0.0       -0.0"
      ]
     },
     "execution_count": 125,
     "metadata": {},
     "output_type": "execute_result"
    }
   ],
   "source": [
    "df2"
   ]
  },
  {
   "cell_type": "code",
   "execution_count": 109,
   "metadata": {},
   "outputs": [
    {
     "data": {
      "text/plain": [
       "array([[[25, 25],\n",
       "        [50, 50],\n",
       "        [30, 30]],\n",
       "\n",
       "       [[25, 25],\n",
       "        [50, 50],\n",
       "        [30, 30]],\n",
       "\n",
       "       [[25, 25],\n",
       "        [50, 50],\n",
       "        [30, 30]]])"
      ]
     },
     "execution_count": 109,
     "metadata": {},
     "output_type": "execute_result"
    }
   ],
   "source": [
    "n_pep"
   ]
  },
  {
   "cell_type": "code",
   "execution_count": 40,
   "metadata": {},
   "outputs": [
    {
     "data": {
      "text/plain": [
       "array([[[  75,  290],\n",
       "        [ 150,  420],\n",
       "        [ 200,  325]],\n",
       "\n",
       "       [[ 290,  150],\n",
       "        [ 200,  400],\n",
       "        [ 470,  250]],\n",
       "\n",
       "       [[ 300,  250],\n",
       "        [ 400,  900],\n",
       "        [ 600, 1500]]])"
      ]
     },
     "execution_count": 40,
     "metadata": {},
     "output_type": "execute_result"
    }
   ],
   "source": [
    "Dj"
   ]
  },
  {
   "cell_type": "code",
   "execution_count": null,
   "metadata": {},
   "outputs": [],
   "source": []
  }
 ],
 "metadata": {
  "kernelspec": {
   "display_name": "Python 3",
   "language": "python",
   "name": "python3"
  },
  "language_info": {
   "codemirror_mode": {
    "name": "ipython",
    "version": 3
   },
   "file_extension": ".py",
   "mimetype": "text/x-python",
   "name": "python",
   "nbconvert_exporter": "python",
   "pygments_lexer": "ipython3",
   "version": "3.7.7"
  }
 },
 "nbformat": 4,
 "nbformat_minor": 2
}
