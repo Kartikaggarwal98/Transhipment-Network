{
 "cells": [
  {
   "cell_type": "code",
   "execution_count": 1,
   "metadata": {},
   "outputs": [],
   "source": [
    "import numpy as np\n",
    "import gurobipy as gbp\n",
    "import time\n",
    "np.random.seed(352)\n"
   ]
  },
  {
   "cell_type": "code",
   "execution_count": 2,
   "metadata": {},
   "outputs": [],
   "source": [
    "n_com=2\n",
    "n_sup=2\n",
    "n_dem=3"
   ]
  },
  {
   "cell_type": "code",
   "execution_count": 3,
   "metadata": {},
   "outputs": [
    {
     "data": {
      "text/plain": [
       "((3, 2, 2), (3, 3, 2))"
      ]
     },
     "execution_count": 3,
     "metadata": {},
     "output_type": "execute_result"
    }
   ],
   "source": [
    "#Supply Demand of all commodities\n",
    "Si=np.array([[[100,200],[200,700]],\n",
    "             [[300,100],[500,200]],\n",
    "             [[600,1200],[500,1000]]])\n",
    "Dj=np.array([[[75,190],[150,320],[200,225]],\n",
    "             [[120,150],[100,400],[300,250]],\n",
    "             [[300,250],[400,900],[600,1500]]])\n",
    "Si.shape,Dj.shape #days X nodes X commodities"
   ]
  },
  {
   "cell_type": "code",
   "execution_count": 4,
   "metadata": {},
   "outputs": [],
   "source": [
    "#Vehicle capacity, number of vehicles, cost of transportation from supply nodes to demand nodes\n",
    "V_cap=150\n",
    "V_num=np.array([5,7])\n",
    "V_cost=np.array([[10,15,20],[18,13,20]])"
   ]
  },
  {
   "cell_type": "code",
   "execution_count": 14,
   "metadata": {},
   "outputs": [],
   "source": [
    "#People Variables\n",
    "n_pep=np.array([[25,50,30],[25,50,30]]) #no of people on each demand node,\n",
    "mu=[4,10] # consumption rate (comm req per day)"
   ]
  },
  {
   "cell_type": "code",
   "execution_count": 20,
   "metadata": {},
   "outputs": [
    {
     "data": {
      "text/plain": [
       "30"
      ]
     },
     "execution_count": 20,
     "metadata": {},
     "output_type": "execute_result"
    }
   ],
   "source": [
    "n_pep[1][2]"
   ]
  },
  {
   "cell_type": "code",
   "execution_count": 6,
   "metadata": {},
   "outputs": [
    {
     "data": {
      "text/plain": [
       "range(0, 3)"
      ]
     },
     "execution_count": 6,
     "metadata": {},
     "output_type": "execute_result"
    }
   ],
   "source": [
    "n_days=len(Si)\n",
    "days_range=range(n_days)\n",
    "days_range"
   ]
  },
  {
   "cell_type": "code",
   "execution_count": 7,
   "metadata": {},
   "outputs": [
    {
     "name": "stdout",
     "output_type": "stream",
     "text": [
      "range(0, 2) range(0, 3) range(0, 2) 6\n"
     ]
    }
   ],
   "source": [
    "# Indices & Variable Names\n",
    "supply_nodes = n_sup\n",
    "demand_nodes = n_dem\n",
    "supply_nodes_range = range(n_sup)\n",
    "demand_nodes_range = range(n_dem)\n",
    "comm_range=range(n_com)\n",
    "all_nodes_len = n_sup*n_dem\n",
    "ALL_nodes_range = range(all_nodes_len)\n",
    "\n",
    "print (supply_nodes_range, demand_nodes_range,comm_range, all_nodes_len)"
   ]
  },
  {
   "cell_type": "code",
   "execution_count": 8,
   "metadata": {},
   "outputs": [
    {
     "data": {
      "text/plain": [
       "array([[[0.17647059, 0.2585034 ],\n",
       "        [0.35294118, 0.43537415],\n",
       "        [0.47058824, 0.30612245]],\n",
       "\n",
       "       [[0.23076923, 0.1875    ],\n",
       "        [0.19230769, 0.5       ],\n",
       "        [0.57692308, 0.3125    ]],\n",
       "\n",
       "       [[0.23076923, 0.09433962],\n",
       "        [0.30769231, 0.33962264],\n",
       "        [0.46153846, 0.56603774]]])"
      ]
     },
     "execution_count": 8,
     "metadata": {},
     "output_type": "execute_result"
    }
   ],
   "source": [
    "Pc=np.array([Dj[ix]/Dj[ix].sum(axis=0) for ix in range(len(Dj))])\n",
    "Pc"
   ]
  },
  {
   "cell_type": "code",
   "execution_count": 43,
   "metadata": {},
   "outputs": [
    {
     "data": {
      "text/plain": [
       "([[0, 0, 0]], [array([[100, 200],\n",
       "         [200, 700]])])"
      ]
     },
     "execution_count": 43,
     "metadata": {},
     "output_type": "execute_result"
    }
   ],
   "source": [
    "unserved_people=[[0,0,0]]\n",
    "prev_inventory=[Si[0]]\n",
    "unserved_people,prev_inventory"
   ]
  },
  {
   "cell_type": "code",
   "execution_count": 44,
   "metadata": {},
   "outputs": [
    {
     "data": {
      "text/plain": [
       "[array([[100, 200],\n",
       "        [200, 700]])]"
      ]
     },
     "execution_count": 44,
     "metadata": {},
     "output_type": "execute_result"
    }
   ],
   "source": [
    "prev_inventory\n",
    "# decision_var[1][0][0]"
   ]
  },
  {
   "cell_type": "code",
   "execution_count": 31,
   "metadata": {},
   "outputs": [
    {
     "data": {
      "text/plain": [
       "(1, 0, 0)"
      ]
     },
     "execution_count": 31,
     "metadata": {},
     "output_type": "execute_result"
    }
   ],
   "source": [
    "day,orig,comm"
   ]
  },
  {
   "cell_type": "code",
   "execution_count": 47,
   "metadata": {},
   "outputs": [
    {
     "name": "stdout",
     "output_type": "stream",
     "text": [
      "##################################################   Day 0    ##################################################\n",
      "Changed value of parameter MIPFocus to 2\n",
      "   Prev: 0  Min: 0  Max: 3  Default: 0\n",
      "Gurobi Optimizer version 9.0.1 build v9.0.1rc0 (mac64)\n",
      "Optimize a model with 38 rows, 24 columns and 102 nonzeros\n",
      "Model fingerprint: 0x200ce9b2\n",
      "Variable types: 0 continuous, 24 integer (0 binary)\n",
      "Coefficient statistics:\n",
      "  Matrix range     [7e-03, 1e+01]\n",
      "  Objective range  [2e-01, 2e+01]\n",
      "  Bounds range     [0e+00, 0e+00]\n",
      "  RHS range        [1e+00, 1e+03]\n",
      "Found heuristic solution: objective 627.6070428\n",
      "Presolve removed 7 rows and 0 columns\n",
      "Presolve time: 0.00s\n",
      "Presolved: 31 rows, 24 columns, 93 nonzeros\n",
      "Variable types: 0 continuous, 24 integer (0 binary)\n",
      "Presolve removed 14 rows and 6 columns\n",
      "Presolved: 17 rows, 18 columns, 51 nonzeros\n",
      "\n",
      "\n",
      "Root relaxation: objective 1.670667e+02, 11 iterations, 0.00 seconds\n",
      "\n",
      "    Nodes    |    Current Node    |     Objective Bounds      |     Work\n",
      " Expl Unexpl |  Obj  Depth IntInf | Incumbent    BestBd   Gap | It/Node Time\n",
      "\n",
      "     0     0  167.06667    0    3  627.60704  167.06667  73.4%     -    0s\n",
      "H    0     0                     184.0000000  167.06667  9.20%     -    0s\n",
      "H    0     0                     183.0588235  167.06667  8.74%     -    0s\n",
      "H    0     0                     181.6250500  167.06667  8.02%     -    0s\n",
      "     0     0  169.66667    0    2  181.62505  169.66667  6.58%     -    0s\n",
      "     0     0  171.40000    0   10  181.62505  171.40000  5.63%     -    0s\n",
      "H    0     0                     181.5426170  171.40000  5.59%     -    0s\n",
      "\n",
      "Cutting planes:\n",
      "  Gomory: 5\n",
      "  MIR: 1\n",
      "  StrongCG: 1\n",
      "  Zero half: 1\n",
      "  Mod-K: 1\n",
      "\n",
      "Explored 1 nodes (18 simplex iterations) in 0.03 seconds\n",
      "Thread count was 12 (of 12 available processors)\n",
      "\n",
      "Solution count 5: 181.543 181.625 183.059 ... 627.607\n",
      "\n",
      "Optimal solution found (tolerance 1.00e-04)\n",
      "Best objective 1.815426170468e+02, best bound 1.815426170468e+02, gap 0.0000%\n",
      "----------------------------------------------------------------------------------------------------\n",
      "| Day::  0  Supply Facility # S1 is sending 2 vehicles to Demand Facility # D1\n",
      "| Day::  0  Supply Facility # S1 is shipping 75 units of commodity c1 to Demand Facility # D1\n",
      "| Day::  0  Supply Facility # S1 is shipping 190 units of commodity c2 to Demand Facility # D1\n",
      "----------------------------------------------------------------------------------------------------\n",
      "| Day::  0  Supply Facility # S1 is sending 0 vehicles to Demand Facility # D2\n",
      "| Day::  0  Supply Facility # S1 is shipping 0 units of commodity c1 to Demand Facility # D2\n",
      "| Day::  0  Supply Facility # S1 is shipping 0 units of commodity c2 to Demand Facility # D2\n",
      "----------------------------------------------------------------------------------------------------\n",
      "| Day::  0  Supply Facility # S1 is sending 0 vehicles to Demand Facility # D3\n",
      "| Day::  0  Supply Facility # S1 is shipping 0 units of commodity c1 to Demand Facility # D3\n",
      "| Day::  0  Supply Facility # S1 is shipping 0 units of commodity c2 to Demand Facility # D3\n",
      "----------------------------------------------------------------------------------------------------\n",
      "| Day::  0  Supply Facility # S2 is sending 0 vehicles to Demand Facility # D1\n",
      "| Day::  0  Supply Facility # S2 is shipping 0 units of commodity c1 to Demand Facility # D1\n",
      "| Day::  0  Supply Facility # S2 is shipping 0 units of commodity c2 to Demand Facility # D1\n",
      "----------------------------------------------------------------------------------------------------\n",
      "| Day::  0  Supply Facility # S2 is sending 3 vehicles to Demand Facility # D2\n",
      "| Day::  0  Supply Facility # S2 is shipping 148 units of commodity c1 to Demand Facility # D2\n",
      "| Day::  0  Supply Facility # S2 is shipping 302 units of commodity c2 to Demand Facility # D2\n",
      "----------------------------------------------------------------------------------------------------\n",
      "| Day::  0  Supply Facility # S2 is sending 3 vehicles to Demand Facility # D3\n",
      "| Day::  0  Supply Facility # S2 is shipping 200 units of commodity c1 to Demand Facility # D3\n",
      "| Day::  0  Supply Facility # S2 is shipping 225 units of commodity c2 to Demand Facility # D3\n",
      "----------------------------------------------------------------------------------------------------\n",
      "| Day::  0  Demand Facility # D1 is not serving 7 people with commondity# c1\n",
      "----------------------------------------------------------------------------------------------------\n",
      "| Day::  0  Demand Facility # D1 is not serving 6 people with commondity# c2\n",
      "----------------------------------------------------------------------------------------------------\n",
      "| Day::  0  Demand Facility # D2 is not serving 13 people with commondity# c1\n",
      "----------------------------------------------------------------------------------------------------\n",
      "| Day::  0  Demand Facility # D2 is not serving 20 people with commondity# c2\n",
      "----------------------------------------------------------------------------------------------------\n",
      "| Day::  0  Demand Facility # D3 is not serving 0 people with commondity# c1\n",
      "----------------------------------------------------------------------------------------------------\n",
      "| Day::  0  Demand Facility # D3 is not serving 8 people with commondity# c2\n",
      "******************************************************************************\n",
      "    | Objective Value ---------------------  181\n",
      "    | Supply Facilities -------------------  3\n",
      "    | Total Supply Units ------------------  5600\n",
      "    | Demand Facilites --------------------  3\n",
      "    | Total Demand Units ------------------  6430\n",
      "    | Total Potential Combinations --------  9\n",
      "    | Actual Combinations  ----------------  24\n",
      "******************************************************************************\n",
      "  --  The Transportation Simplex with Gurobi --\n",
      "##################################################   Day 1    ##################################################\n",
      "Changed value of parameter MIPFocus to 2\n",
      "   Prev: 0  Min: 0  Max: 3  Default: 0\n",
      "Gurobi Optimizer version 9.0.1 build v9.0.1rc0 (mac64)\n",
      "Optimize a model with 38 rows, 24 columns and 102 nonzeros\n",
      "Model fingerprint: 0x1167ded9\n",
      "Variable types: 0 continuous, 24 integer (0 binary)\n",
      "Coefficient statistics:\n",
      "  Matrix range     [7e-03, 1e+01]\n",
      "  Objective range  [2e-01, 2e+01]\n",
      "  Bounds range     [0e+00, 0e+00]\n",
      "  RHS range        [1e+00, 1e+03]\n",
      "Found heuristic solution: objective 736.2500000\n",
      "Presolve removed 7 rows and 0 columns\n",
      "Presolve time: 0.00s\n",
      "Presolved: 31 rows, 24 columns, 93 nonzeros\n",
      "Variable types: 0 continuous, 24 integer (0 binary)\n",
      "Presolve removed 14 rows and 6 columns\n",
      "Presolved: 17 rows, 18 columns, 51 nonzeros\n",
      "\n",
      "\n",
      "Root relaxation: objective 1.846667e+02, 10 iterations, 0.00 seconds\n",
      "\n",
      "    Nodes    |    Current Node    |     Objective Bounds      |     Work\n",
      " Expl Unexpl |  Obj  Depth IntInf | Incumbent    BestBd   Gap | It/Node Time\n",
      "\n",
      "     0     0  184.66667    0    3  736.25000  184.66667  74.9%     -    0s\n",
      "H    0     0                     239.6923077  184.66667  23.0%     -    0s\n",
      "H    0     0                     204.0000000  184.66667  9.48%     -    0s\n",
      "H    0     0                     202.0000000  184.66667  8.58%     -    0s\n",
      "     0     0  187.33333    0    3  202.00000  187.33333  7.26%     -    0s\n",
      "     0     0  191.33333    0    6  202.00000  191.33333  5.28%     -    0s\n",
      "\n",
      "Cutting planes:\n",
      "  Gomory: 7\n",
      "  MIR: 4\n",
      "  StrongCG: 1\n",
      "  Zero half: 1\n",
      "\n",
      "Explored 1 nodes (19 simplex iterations) in 0.03 seconds\n",
      "Thread count was 12 (of 12 available processors)\n",
      "\n",
      "Solution count 4: 202 204 239.692 736.25 \n",
      "\n",
      "Optimal solution found (tolerance 1.00e-04)\n",
      "Best objective 2.020000000000e+02, best bound 2.020000000000e+02, gap 0.0000%\n",
      "----------------------------------------------------------------------------------------------------\n",
      "| Day::  1  Supply Facility # S1 is sending 2 vehicles to Demand Facility # D1\n",
      "| Day::  1  Supply Facility # S1 is shipping 120 units of commodity c1 to Demand Facility # D1\n",
      "| Day::  1  Supply Facility # S1 is shipping 150 units of commodity c2 to Demand Facility # D1\n",
      "----------------------------------------------------------------------------------------------------\n",
      "| Day::  1  Supply Facility # S1 is sending 0 vehicles to Demand Facility # D2\n",
      "| Day::  1  Supply Facility # S1 is shipping 0 units of commodity c1 to Demand Facility # D2\n",
      "| Day::  1  Supply Facility # S1 is shipping 0 units of commodity c2 to Demand Facility # D2\n",
      "----------------------------------------------------------------------------------------------------\n",
      "| Day::  1  Supply Facility # S1 is sending 1 vehicles to Demand Facility # D3\n",
      "| Day::  1  Supply Facility # S1 is shipping 100 units of commodity c1 to Demand Facility # D3\n",
      "| Day::  1  Supply Facility # S1 is shipping 0 units of commodity c2 to Demand Facility # D3\n",
      "----------------------------------------------------------------------------------------------------\n",
      "| Day::  1  Supply Facility # S2 is sending 0 vehicles to Demand Facility # D1\n",
      "| Day::  1  Supply Facility # S2 is shipping 0 units of commodity c1 to Demand Facility # D1\n",
      "| Day::  1  Supply Facility # S2 is shipping 0 units of commodity c2 to Demand Facility # D1\n",
      "----------------------------------------------------------------------------------------------------\n",
      "| Day::  1  Supply Facility # S2 is sending 4 vehicles to Demand Facility # D2\n",
      "| Day::  1  Supply Facility # S2 is shipping 100 units of commodity c1 to Demand Facility # D2\n",
      "| Day::  1  Supply Facility # S2 is shipping 400 units of commodity c2 to Demand Facility # D2\n",
      "----------------------------------------------------------------------------------------------------\n",
      "| Day::  1  Supply Facility # S2 is sending 3 vehicles to Demand Facility # D3\n",
      "| Day::  1  Supply Facility # S2 is shipping 200 units of commodity c1 to Demand Facility # D3\n",
      "| Day::  1  Supply Facility # S2 is shipping 250 units of commodity c2 to Demand Facility # D3\n",
      "----------------------------------------------------------------------------------------------------\n",
      "| Day::  1  Demand Facility # D1 is not serving 0 people with commondity# c1\n",
      "----------------------------------------------------------------------------------------------------\n",
      "| Day::  1  Demand Facility # D1 is not serving 10 people with commondity# c2\n",
      "----------------------------------------------------------------------------------------------------\n",
      "| Day::  1  Demand Facility # D2 is not serving 25 people with commondity# c1\n",
      "----------------------------------------------------------------------------------------------------\n",
      "| Day::  1  Demand Facility # D2 is not serving 10 people with commondity# c2\n",
      "----------------------------------------------------------------------------------------------------\n",
      "| Day::  1  Demand Facility # D3 is not serving 0 people with commondity# c1\n",
      "----------------------------------------------------------------------------------------------------\n",
      "| Day::  1  Demand Facility # D3 is not serving 5 people with commondity# c2\n",
      "******************************************************************************\n",
      "    | Objective Value ---------------------  202\n",
      "    | Supply Facilities -------------------  3\n",
      "    | Total Supply Units ------------------  5600\n",
      "    | Demand Facilites --------------------  3\n",
      "    | Total Demand Units ------------------  6430\n",
      "    | Total Potential Combinations --------  9\n",
      "    | Actual Combinations  ----------------  24\n",
      "******************************************************************************\n",
      "  --  The Transportation Simplex with Gurobi --\n",
      "##################################################   Day 2    ##################################################\n",
      "Changed value of parameter MIPFocus to 2\n"
     ]
    },
    {
     "name": "stdout",
     "output_type": "stream",
     "text": [
      "   Prev: 0  Min: 0  Max: 3  Default: 0\n",
      "Gurobi Optimizer version 9.0.1 build v9.0.1rc0 (mac64)\n",
      "Optimize a model with 38 rows, 24 columns and 102 nonzeros\n",
      "Model fingerprint: 0x082c23de\n",
      "Variable types: 0 continuous, 24 integer (0 binary)\n",
      "Coefficient statistics:\n",
      "  Matrix range     [7e-03, 1e+01]\n",
      "  Objective range  [9e-02, 2e+01]\n",
      "  Bounds range     [0e+00, 0e+00]\n",
      "  RHS range        [1e+00, 2e+03]\n",
      "Found heuristic solution: objective 1805.4092888\n",
      "Presolve removed 9 rows and 0 columns\n",
      "Presolve time: 0.00s\n",
      "Presolved: 29 rows, 24 columns, 87 nonzeros\n",
      "Variable types: 0 continuous, 24 integer (0 binary)\n",
      "Presolve removed 14 rows and 6 columns\n",
      "Presolved: 15 rows, 18 columns, 45 nonzeros\n",
      "\n",
      "\n",
      "Root relaxation: objective 1.023540e+03, 11 iterations, 0.00 seconds\n",
      "\n",
      "    Nodes    |    Current Node    |     Objective Bounds      |     Work\n",
      " Expl Unexpl |  Obj  Depth IntInf | Incumbent    BestBd   Gap | It/Node Time\n",
      "\n",
      "     0     0 1023.54040    0    2 1805.40929 1023.54040  43.3%     -    0s\n",
      "H    0     0                    1031.0449927 1023.54040  0.73%     -    0s\n",
      "     0     0 1025.54040    0    2 1031.04499 1025.54040  0.53%     -    0s\n",
      "H    0     0                    1029.0595065 1025.54040  0.34%     -    0s\n",
      "H    0     0                    1029.0275762 1025.54040  0.34%     -    0s\n",
      "     0     0 1029.02758    0    5 1029.02758 1029.02758  0.00%     -    0s\n",
      "\n",
      "Cutting planes:\n",
      "  Gomory: 2\n",
      "  MIR: 4\n",
      "  StrongCG: 2\n",
      "\n",
      "Explored 1 nodes (17 simplex iterations) in 0.03 seconds\n",
      "Thread count was 12 (of 12 available processors)\n",
      "\n",
      "Solution count 4: 1029.03 1029.06 1031.04 1805.41 \n",
      "\n",
      "Optimal solution found (tolerance 1.00e-04)\n",
      "Best objective 1.029027576197e+03, best bound 1.029027576197e+03, gap 0.0000%\n",
      "----------------------------------------------------------------------------------------------------\n",
      "| Day::  2  Supply Facility # S1 is sending 0 vehicles to Demand Facility # D1\n",
      "| Day::  2  Supply Facility # S1 is shipping 0 units of commodity c1 to Demand Facility # D1\n",
      "| Day::  2  Supply Facility # S1 is shipping 0 units of commodity c2 to Demand Facility # D1\n",
      "----------------------------------------------------------------------------------------------------\n",
      "| Day::  2  Supply Facility # S1 is sending 0 vehicles to Demand Facility # D2\n",
      "| Day::  2  Supply Facility # S1 is shipping 0 units of commodity c1 to Demand Facility # D2\n",
      "| Day::  2  Supply Facility # S1 is shipping 0 units of commodity c2 to Demand Facility # D2\n",
      "----------------------------------------------------------------------------------------------------\n",
      "| Day::  2  Supply Facility # S1 is sending 5 vehicles to Demand Facility # D3\n",
      "| Day::  2  Supply Facility # S1 is shipping 150 units of commodity c1 to Demand Facility # D3\n",
      "| Day::  2  Supply Facility # S1 is shipping 600 units of commodity c2 to Demand Facility # D3\n",
      "----------------------------------------------------------------------------------------------------\n",
      "| Day::  2  Supply Facility # S2 is sending 0 vehicles to Demand Facility # D1\n",
      "| Day::  2  Supply Facility # S2 is shipping 0 units of commodity c1 to Demand Facility # D1\n",
      "| Day::  2  Supply Facility # S2 is shipping 0 units of commodity c2 to Demand Facility # D1\n",
      "----------------------------------------------------------------------------------------------------\n",
      "| Day::  2  Supply Facility # S2 is sending 1 vehicles to Demand Facility # D2\n",
      "| Day::  2  Supply Facility # S2 is shipping 148 units of commodity c1 to Demand Facility # D2\n",
      "| Day::  2  Supply Facility # S2 is shipping 2 units of commodity c2 to Demand Facility # D2\n",
      "----------------------------------------------------------------------------------------------------\n",
      "| Day::  2  Supply Facility # S2 is sending 6 vehicles to Demand Facility # D3\n",
      "| Day::  2  Supply Facility # S2 is shipping 0 units of commodity c1 to Demand Facility # D3\n",
      "| Day::  2  Supply Facility # S2 is shipping 900 units of commodity c2 to Demand Facility # D3\n",
      "----------------------------------------------------------------------------------------------------\n",
      "| Day::  2  Demand Facility # D1 is not serving 25 people with commondity# c1\n",
      "----------------------------------------------------------------------------------------------------\n",
      "| Day::  2  Demand Facility # D1 is not serving 25 people with commondity# c2\n",
      "----------------------------------------------------------------------------------------------------\n",
      "| Day::  2  Demand Facility # D2 is not serving 13 people with commondity# c1\n",
      "----------------------------------------------------------------------------------------------------\n",
      "| Day::  2  Demand Facility # D2 is not serving 50 people with commondity# c2\n",
      "----------------------------------------------------------------------------------------------------\n",
      "| Day::  2  Demand Facility # D3 is not serving 0 people with commondity# c1\n",
      "----------------------------------------------------------------------------------------------------\n",
      "| Day::  2  Demand Facility # D3 is not serving 0 people with commondity# c2\n",
      "******************************************************************************\n",
      "    | Objective Value ---------------------  1029\n",
      "    | Supply Facilities -------------------  3\n",
      "    | Total Supply Units ------------------  5600\n",
      "    | Demand Facilites --------------------  3\n",
      "    | Total Demand Units ------------------  6430\n",
      "    | Total Potential Combinations --------  9\n",
      "    | Actual Combinations  ----------------  24\n",
      "******************************************************************************\n",
      "  --  The Transportation Simplex with Gurobi --\n"
     ]
    }
   ],
   "source": [
    "for day in days_range:\n",
    "    print ('#'*50,'  Day',day,'  ','#'*50)\n",
    "    # Create Model, Set MIP Focus, Add Variables, & Update Model\n",
    "    m = gbp.Model(' -- The Multi Commodity Vehicle Transportation Problem -- ')\n",
    "\n",
    "    # Set MIP Focus to 2 for optimality\n",
    "    m.setParam('MIPFocus', 2)\n",
    "    # m.setParam(gbp.GRB.Param.PoolSearchMode, 1)\n",
    "    # m.setParam(gbp.GRB.Param.PoolGap, 0.10)\n",
    "\n",
    "    decision_var = []\n",
    "    vehicles_var=[]\n",
    "    unserved_var=[]\n",
    "    for orig in supply_nodes_range:\n",
    "        decision_var.append([])\n",
    "        vehicles_var.append([])\n",
    "        for dest in demand_nodes_range:\n",
    "            decision_var[orig].append([])\n",
    "            vehicles_var[orig].append(m.addVar(vtype=gbp.GRB.INTEGER,\n",
    "                                              name='S'+str(orig+1)+'_D'+str(dest+1)+'_V'))\n",
    "            for comm in comm_range:\n",
    "    #             print (comm,decision_var)\n",
    "                decision_var[orig][dest].append(m.addVar(vtype=gbp.GRB.INTEGER, \n",
    "    #                                         obj=Cij[orig][dest],\n",
    "    #                                            obj=1,\n",
    "                                            name='S'+str(orig+1)+'_D'+str(dest+1)+'_c'+str(comm+1)))\n",
    "    for dest in demand_nodes_range:\n",
    "        unserved_var.append([])\n",
    "        for comm in comm_range:\n",
    "            unserved_var[dest].append(m.addVar(vtype=gbp.GRB.INTEGER,\n",
    "                                              name='D'+str(dest+1)+'_c'+str(comm+1)+'_U'))\n",
    "    # Update Model Variables\n",
    "    m.update()       \n",
    "\n",
    "\n",
    "    #objective function\n",
    "    m.setObjective(\n",
    "        gbp.quicksum(gbp.quicksum((int(Dj[day][dest][comm])-gbp.quicksum(decision_var[orig][dest][comm] for orig in supply_nodes_range))*(Pc[day][dest][comm])\n",
    "                                for dest in demand_nodes_range) for comm in comm_range)+\n",
    "        gbp.quicksum(gbp.quicksum(vehicles_var[orig][dest]*V_cost[orig][dest] for dest in demand_nodes_range) for orig in supply_nodes_range)+\n",
    "        gbp.quicksum(gbp.quicksum(unserved_var[dest][comm] for comm in comm_range) for dest in demand_nodes_range),\n",
    "                            gbp.GRB.MINIMIZE)\n",
    "\n",
    "    m.update()\n",
    "\n",
    "    # Add Supply Constraints\n",
    "    for orig in supply_nodes_range:\n",
    "        for comm in comm_range:\n",
    "            m.addConstr(gbp.quicksum(decision_var[orig][dest][comm]\n",
    "                                     for dest in demand_nodes_range) - Si[day][orig][comm] - prev_inventory[day][orig][comm] <= 0)\n",
    "    # Add Demand Constraints\n",
    "    for dest in demand_nodes_range:  \n",
    "        for comm in comm_range:\n",
    "            m.addConstr(gbp.quicksum(decision_var[orig][dest][comm] \n",
    "                                     for orig in supply_nodes_range) - Dj[day][dest][comm] <= 0)\n",
    "    #Add vehicle constraints\n",
    "    for orig in supply_nodes_range:\n",
    "        m.addConstr(gbp.quicksum(decision_var[orig][dest][comm]\n",
    "                                 for dest in demand_nodes_range for comm in comm_range) - V_cap*V_num[orig] <=0)\n",
    "    for orig in supply_nodes_range:\n",
    "        m.addConstr(gbp.quicksum(vehicles_var[orig][dest] for dest in demand_nodes_range) - V_num[orig] <=0)\n",
    "\n",
    "    for orig in supply_nodes_range:\n",
    "        for dest in demand_nodes_range:\n",
    "            m.addConstr(-sum(decision_var[orig][dest][comm]\n",
    "                                for comm in comm_range)/V_cap + vehicles_var[orig][dest]>=0)\n",
    "    for orig in supply_nodes_range:\n",
    "        for dest in demand_nodes_range:\n",
    "            m.addConstr(-sum(decision_var[orig][dest][comm]\n",
    "                                for comm in comm_range)/V_cap + vehicles_var[orig][dest]<=1)\n",
    "\n",
    "    #Add unserved people contstraints\n",
    "    for dest in demand_nodes_range:\n",
    "        for comm in comm_range:\n",
    "            m.addConstr(unserved_var[dest][comm]<=n_pep[comm][dest])\n",
    "\n",
    "    for dest in demand_nodes_range:\n",
    "        for comm in comm_range:\n",
    "            m.addConstr(sum(decision_var[orig][dest][comm] for orig in supply_nodes_range)-\n",
    "                        ((n_pep[comm][dest]-unserved_var[dest][comm])*mu[comm])>=0)\n",
    "    #  Optimize and Print( Results)\n",
    "    m.optimize()\n",
    "    m.write('path.lp')\n",
    "\n",
    "#     m.display()\n",
    "    prev_inventory.append([])\n",
    "    for orig in supply_nodes_range:\n",
    "        prev_inventory[day+1].append([])\n",
    "        for comm in comm_range:\n",
    "            prev_inventory[day+1][orig].append(sum(decision_var[orig][dest][comm].x\n",
    "                                 for dest in demand_nodes_range))\n",
    "\n",
    "#     print (prev_inventory)\n",
    "\n",
    "    selected = {}\n",
    "    Closed = []\n",
    "    for v in m.getVars():\n",
    "        var = '%s' % v.VarName\n",
    "        units=int(v.x)\n",
    "        selected[var] = units\n",
    "    #     print (var,units)\n",
    "        if (var[-1]=='V'):\n",
    "            print ('-'*100)\n",
    "            print( '| Day:: ',day,' Supply Facility #', var[:2], 'is sending', units, \\\n",
    "                  'vehicles to Demand Facility #', var[3:5]) \n",
    "\n",
    "        elif var[-2]=='c':\n",
    "            print( '| Day:: ',day,' Supply Facility #', var[:2], 'is shipping', units, \\\n",
    "                                                'units of commodity',var[-2:], 'to Demand Facility #', var[3:5])\n",
    "        elif var[-1]=='U':\n",
    "            print ('-'*100)\n",
    "            print( '| Day:: ',day,' Demand Facility #', var[:2], 'is not serving', units, \\\n",
    "                                                'people with commondity#', var[3:5])\n",
    "        else:\n",
    "            print ('Hiiiiiiii')\n",
    "\n",
    "    print( '******************************************************************************')\n",
    "    print( '    | Objective Value --------------------- ', int(m.objVal))\n",
    "    print( '    | Supply Facilities ------------------- ', len(Si))\n",
    "    print( '    | Total Supply Units ------------------ ', Si.sum())\n",
    "    print( '    | Demand Facilites -------------------- ', len(Dj))\n",
    "    print( '    | Total Demand Units ------------------ ', Dj.sum())\n",
    "    print( '    | Total Potential Combinations -------- ', len(Si)*len(Dj))\n",
    "    print( '    | Actual Combinations  ---------------- ', len(selected))\n",
    "    # print( '    | Real Time to Optimize (sec.) -------- ', t2)\n",
    "    print( '******************************************************************************')\n",
    "    print( '  --  The Transportation Simplex with Gurobi --')\n"
   ]
  },
  {
   "cell_type": "code",
   "execution_count": null,
   "metadata": {},
   "outputs": [],
   "source": []
  }
 ],
 "metadata": {
  "kernelspec": {
   "display_name": "Python 3",
   "language": "python",
   "name": "python3"
  },
  "language_info": {
   "codemirror_mode": {
    "name": "ipython",
    "version": 3
   },
   "file_extension": ".py",
   "mimetype": "text/x-python",
   "name": "python",
   "nbconvert_exporter": "python",
   "pygments_lexer": "ipython3",
   "version": "3.7.3"
  }
 },
 "nbformat": 4,
 "nbformat_minor": 2
}
