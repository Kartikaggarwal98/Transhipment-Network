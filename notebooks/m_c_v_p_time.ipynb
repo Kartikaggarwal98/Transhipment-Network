{
 "cells": [
  {
   "cell_type": "code",
   "execution_count": 1,
   "metadata": {},
   "outputs": [],
   "source": [
    "import numpy as np\n",
    "import gurobipy as gbp\n",
    "import time\n",
    "np.random.seed(352)\n"
   ]
  },
  {
   "cell_type": "code",
   "execution_count": 2,
   "metadata": {},
   "outputs": [],
   "source": [
    "n_com=2\n",
    "n_sup=2\n",
    "n_dem=3"
   ]
  },
  {
   "cell_type": "code",
   "execution_count": 3,
   "metadata": {},
   "outputs": [
    {
     "data": {
      "text/plain": [
       "((3, 2, 2), (3, 3, 2))"
      ]
     },
     "execution_count": 3,
     "metadata": {},
     "output_type": "execute_result"
    }
   ],
   "source": [
    "#Supply Demand of all commodities\n",
    "Si=np.array([[[100,200],[200,700]],\n",
    "             [[300,100],[500,200]],\n",
    "             [[600,1200],[500,1000]]])\n",
    "Dj=np.array([[[75,190],[150,320],[200,225]],\n",
    "             [[120,150],[100,400],[300,250]],\n",
    "             [[300,250],[400,900],[600,1500]]])\n",
    "Si.shape,Dj.shape #days X nodes X commodities"
   ]
  },
  {
   "cell_type": "code",
   "execution_count": 4,
   "metadata": {},
   "outputs": [],
   "source": [
    "#Vehicle capacity, number of vehicles, cost of transportation from supply nodes to demand nodes\n",
    "V_cap=150\n",
    "V_num=np.array([5,7])\n",
    "V_cost=np.array([[10,15,20],[18,13,20]])"
   ]
  },
  {
   "cell_type": "code",
   "execution_count": 22,
   "metadata": {},
   "outputs": [],
   "source": [
    "#People Variables\n",
    "n_pep=np.array([[[25,25],[50,50],[30,30]],\n",
    "                [[25,25],[50,50],[30,30]],\n",
    "                [[25,25],[50,50],[30,30]]]) #no of people on each demand node,\n",
    "mu=[4,10] # consumption rate (comm req per person per day)"
   ]
  },
  {
   "cell_type": "code",
   "execution_count": 7,
   "metadata": {},
   "outputs": [
    {
     "data": {
      "text/plain": [
       "range(0, 3)"
      ]
     },
     "execution_count": 7,
     "metadata": {},
     "output_type": "execute_result"
    }
   ],
   "source": [
    "n_days=len(Si)\n",
    "days_range=range(n_days)\n",
    "days_range"
   ]
  },
  {
   "cell_type": "code",
   "execution_count": 17,
   "metadata": {},
   "outputs": [
    {
     "name": "stdout",
     "output_type": "stream",
     "text": [
      "range(0, 2) range(0, 3) range(0, 2) 6\n"
     ]
    }
   ],
   "source": [
    "# Indices & Variable Names\n",
    "supply_nodes = n_sup\n",
    "demand_nodes = n_dem\n",
    "supply_nodes_range = range(n_sup)\n",
    "demand_nodes_range = range(n_dem)\n",
    "comm_range=range(n_com)\n",
    "all_nodes_len = n_sup*n_dem\n",
    "ALL_nodes_range = range(all_nodes_len)\n",
    "\n",
    "print (supply_nodes_range, demand_nodes_range,comm_range, all_nodes_len)"
   ]
  },
  {
   "cell_type": "code",
   "execution_count": 18,
   "metadata": {},
   "outputs": [
    {
     "data": {
      "text/plain": [
       "array([[[0.17647059, 0.2585034 ],\n",
       "        [0.35294118, 0.43537415],\n",
       "        [0.47058824, 0.30612245]],\n",
       "\n",
       "       [[0.23076923, 0.1875    ],\n",
       "        [0.19230769, 0.5       ],\n",
       "        [0.57692308, 0.3125    ]],\n",
       "\n",
       "       [[0.23076923, 0.09433962],\n",
       "        [0.30769231, 0.33962264],\n",
       "        [0.46153846, 0.56603774]]])"
      ]
     },
     "execution_count": 18,
     "metadata": {},
     "output_type": "execute_result"
    }
   ],
   "source": [
    "Pc=np.array([Dj[ix]/Dj[ix].sum(axis=0) for ix in range(len(Dj))])\n",
    "Pc"
   ]
  },
  {
   "cell_type": "code",
   "execution_count": 132,
   "metadata": {},
   "outputs": [
    {
     "data": {
      "text/plain": [
       "([[[0, 0], [0, 0], [0, 0]]], [array([[100, 200],\n",
       "         [200, 700]])])"
      ]
     },
     "execution_count": 132,
     "metadata": {},
     "output_type": "execute_result"
    }
   ],
   "source": [
    "unserved_people=[[[0,0],[0,0],[0,0]]]\n",
    "prev_inventory=[Si[0]]\n",
    "unserved_people,prev_inventory"
   ]
  },
  {
   "cell_type": "code",
   "execution_count": 133,
   "metadata": {},
   "outputs": [
    {
     "data": {
      "text/plain": [
       "70.38538215041021"
      ]
     },
     "execution_count": 133,
     "metadata": {},
     "output_type": "execute_result"
    }
   ],
   "source": [
    "dep_time=24\n",
    "dep_cost=np.exp(1.5031+0.1172*dep_time)-np.exp(1.5031)\n",
    "dep_cost"
   ]
  },
  {
   "cell_type": "code",
   "execution_count": 142,
   "metadata": {},
   "outputs": [],
   "source": [
    "cols=['Day','S_Node']+['D'+str(i+1)+'_c'+str(j+1) for i in demand_nodes_range for j in comm_range]+['D'+str(i+1)+'_v' for i in demand_nodes_range]\n",
    "df=pd.DataFrame(columns=cols,index=None,dtype=int)\n",
    "\n",
    "cols2=['Day','D_Node']+['Total'+'_c'+str(i+1) for i in comm_range]+['Unserv'+'_c'+str(i+1) for i in comm_range]\n",
    "df2=pd.DataFrame(columns=cols2,index=None,dtype=int)\n",
    "df2"
   ]
  },
  {
   "cell_type": "code",
   "execution_count": 144,
   "metadata": {},
   "outputs": [
    {
     "name": "stdout",
     "output_type": "stream",
     "text": [
      "##################################################   Day 0    ##################################################\n",
      "Changed value of parameter MIPFocus to 2\n",
      "   Prev: 0  Min: 0  Max: 3  Default: 0\n",
      "Gurobi Optimizer version 9.0.1 build v9.0.1rc0 (mac64)\n",
      "Optimize a model with 38 rows, 24 columns and 102 nonzeros\n",
      "Model fingerprint: 0x0a880634\n",
      "Variable types: 0 continuous, 24 integer (0 binary)\n",
      "Coefficient statistics:\n",
      "  Matrix range     [7e-03, 1e+01]\n",
      "  Objective range  [2e-01, 7e+01]\n",
      "  Bounds range     [0e+00, 0e+00]\n",
      "  RHS range        [1e+00, 1e+03]\n",
      "Found heuristic solution: objective 15198.537294\n",
      "Presolve removed 7 rows and 0 columns\n",
      "Presolve time: 0.00s\n",
      "Presolved: 31 rows, 24 columns, 93 nonzeros\n",
      "Variable types: 0 continuous, 24 integer (0 binary)\n",
      "Presolve removed 14 rows and 6 columns\n",
      "Presolved: 17 rows, 18 columns, 51 nonzeros\n",
      "\n",
      "\n",
      "Root relaxation: objective 3.775107e+03, 11 iterations, 0.00 seconds\n",
      "\n",
      "    Nodes    |    Current Node    |     Objective Bounds      |     Work\n",
      " Expl Unexpl |  Obj  Depth IntInf | Incumbent    BestBd   Gap | It/Node Time\n",
      "\n",
      "     0     0 3775.10654    0    3 15198.5373 3775.10654  75.2%     -    0s\n",
      "H    0     0                    3792.0398718 3775.10654  0.45%     -    0s\n",
      "     0     0 3777.70654    0    2 3792.03987 3777.70654  0.38%     -    0s\n",
      "     0     0 3779.43987    0   10 3792.03987 3779.43987  0.33%     -    0s\n",
      "\n",
      "Cutting planes:\n",
      "  Gomory: 4\n",
      "  StrongCG: 1\n",
      "  Zero half: 1\n",
      "  Mod-K: 1\n",
      "\n",
      "Explored 1 nodes (18 simplex iterations) in 0.03 seconds\n",
      "Thread count was 12 (of 12 available processors)\n",
      "\n",
      "Solution count 2: 3792.04 15198.5 \n",
      "\n",
      "Optimal solution found (tolerance 1.00e-04)\n",
      "Best objective 3.792039871821e+03, best bound 3.791706538488e+03, gap 0.0088%\n",
      "##################################################   Day 1    ##################################################\n",
      "Changed value of parameter MIPFocus to 2\n",
      "   Prev: 0  Min: 0  Max: 3  Default: 0\n",
      "Gurobi Optimizer version 9.0.1 build v9.0.1rc0 (mac64)\n",
      "Optimize a model with 38 rows, 24 columns and 102 nonzeros\n",
      "Model fingerprint: 0xed89c368\n",
      "Variable types: 0 continuous, 24 integer (0 binary)\n",
      "Coefficient statistics:\n",
      "  Matrix range     [7e-03, 1e+01]\n",
      "  Objective range  [2e-01, 7e+01]\n",
      "  Bounds range     [0e+00, 0e+00]\n",
      "  RHS range        [1e+00, 1e+03]\n",
      "Found heuristic solution: objective 18967.220123\n",
      "Presolve removed 7 rows and 0 columns\n",
      "Presolve time: 0.00s\n",
      "Presolved: 31 rows, 24 columns, 93 nonzeros\n",
      "Variable types: 0 continuous, 24 integer (0 binary)\n",
      "Presolve removed 14 rows and 6 columns\n",
      "Presolved: 17 rows, 18 columns, 51 nonzeros\n",
      "\n",
      "\n",
      "Root relaxation: objective 6.962049e+03, 9 iterations, 0.00 seconds\n",
      "\n",
      "    Nodes    |    Current Node    |     Objective Bounds      |     Work\n",
      " Expl Unexpl |  Obj  Depth IntInf | Incumbent    BestBd   Gap | It/Node Time\n",
      "\n",
      "     0     0 6962.04874    0    3 18967.2201 6962.04874  63.3%     -    0s\n",
      "H    0     0                    7017.0743763 6962.04874  0.78%     -    0s\n",
      "H    0     0                    6981.3820686 6962.04874  0.28%     -    0s\n",
      "H    0     0                    6979.3820686 6962.04874  0.25%     -    0s\n",
      "     0     0 6964.71540    0    3 6979.38207 6964.71540  0.21%     -    0s\n",
      "     0     0 6968.71540    0    6 6979.38207 6968.71540  0.15%     -    0s\n",
      "\n",
      "Cutting planes:\n",
      "  Gomory: 7\n",
      "  MIR: 3\n",
      "  StrongCG: 1\n",
      "  Zero half: 1\n",
      "\n",
      "Explored 1 nodes (18 simplex iterations) in 0.03 seconds\n",
      "Thread count was 12 (of 12 available processors)\n",
      "\n",
      "Solution count 4: 6979.38 6981.38 7017.07 18967.2 \n",
      "\n",
      "Optimal solution found (tolerance 1.00e-04)\n",
      "Best objective 6.979382068590e+03, best bound 6.979012837821e+03, gap 0.0053%\n",
      "##################################################   Day 2    ##################################################\n",
      "Changed value of parameter MIPFocus to 2\n",
      "   Prev: 0  Min: 0  Max: 3  Default: 0\n",
      "Gurobi Optimizer version 9.0.1 build v9.0.1rc0 (mac64)\n",
      "Optimize a model with 38 rows, 24 columns and 102 nonzeros\n",
      "Model fingerprint: 0xdc2b1e7c\n",
      "Variable types: 0 continuous, 24 integer (0 binary)\n",
      "Coefficient statistics:\n",
      "  Matrix range     [7e-03, 1e+01]\n",
      "  Objective range  [9e-02, 7e+01]\n",
      "  Bounds range     [0e+00, 0e+00]\n",
      "  RHS range        [1e+00, 2e+03]\n",
      "Found heuristic solution: objective 23255.844976\n",
      "Presolve removed 9 rows and 0 columns\n",
      "Presolve time: 0.00s\n",
      "Presolved: 29 rows, 24 columns, 87 nonzeros\n",
      "Variable types: 0 continuous, 24 integer (0 binary)\n",
      "Presolve removed 14 rows and 6 columns\n",
      "Presolved: 15 rows, 18 columns, 45 nonzeros\n",
      "\n",
      "\n",
      "Root relaxation: objective 3.945487e+03, 15 iterations, 0.00 seconds\n",
      "\n",
      "    Nodes    |    Current Node    |     Objective Bounds      |     Work\n",
      " Expl Unexpl |  Obj  Depth IntInf | Incumbent    BestBd   Gap | It/Node Time\n",
      "\n",
      "     0     0 3945.48727    0    3 23255.8450 3945.48727  83.0%     -    0s\n",
      "H    0     0                    5717.8974450 3945.48727  31.0%     -    0s\n",
      "H    0     0                    4364.6550100 3945.48727  9.60%     -    0s\n",
      "H    0     0                    4349.4713695 3945.48727  9.29%     -    0s\n",
      "H    0     0                    4290.8015171 3953.60300  7.86%     -    0s\n",
      "     0     0 3953.60300    0    4 4290.80152 3953.60300  7.86%     -    0s\n",
      "     0     0 3995.99042    0   11 4290.80152 3995.99042  6.87%     -    0s\n",
      "H    0     0                    4073.6192458 3995.99042  1.91%     -    0s\n",
      "H    0     0                    4073.4828162 4017.17451  1.38%     -    0s\n",
      "     0     0 4019.17451    0    2 4073.48282 4019.17451  1.33%     -    0s\n",
      "     0     0 4019.86589    0    6 4073.48282 4019.86589  1.32%     -    0s\n",
      "H    0     0                    4073.3550949 4019.86589  1.31%     -    0s\n",
      "     0     0 4043.17451    0    5 4073.35509 4043.17451  0.74%     -    0s\n",
      "     0     0 4043.17451    0    5 4073.35509 4043.17451  0.74%     -    0s\n",
      "     0     2 4043.17451    0    5 4073.35509 4043.17451  0.74%     -    0s\n",
      "\n",
      "Cutting planes:\n",
      "  Gomory: 7\n",
      "  MIR: 6\n",
      "  StrongCG: 2\n",
      "  Zero half: 1\n",
      "  Mod-K: 2\n",
      "\n",
      "Explored 66 nodes (163 simplex iterations) in 0.05 seconds\n",
      "Thread count was 12 (of 12 available processors)\n",
      "\n",
      "Solution count 8: 4073.36 4073.48 4073.62 ... 23255.8\n",
      "\n",
      "Optimal solution found (tolerance 1.00e-04)\n",
      "Best objective 4.073355094872e+03, best bound 4.073355094872e+03, gap 0.0000%\n"
     ]
    }
   ],
   "source": [
    "unserved_people=[[[0,0],[0,0],[0,0]]]\n",
    "for day in days_range:\n",
    "    print ('#'*50,'  Day',day,'  ','#'*50)\n",
    "    # Create Model, Set MIP Focus, Add Variables, & Update Model\n",
    "    m = gbp.Model(' -- The Multi Commodity Vehicle Transportation Problem -- ')\n",
    "\n",
    "    # Set MIP Focus to 2 for optimality\n",
    "    m.setParam('MIPFocus', 2)\n",
    "    # m.setParam(gbp.GRB.Param.PoolSearchMode, 1)\n",
    "    # m.setParam(gbp.GRB.Param.PoolGap, 0.10)\n",
    "\n",
    "    decision_var = []\n",
    "    vehicles_var=[]\n",
    "    unserved_var=[]\n",
    "    for orig in supply_nodes_range:\n",
    "        decision_var.append([])\n",
    "        vehicles_var.append([])\n",
    "        for dest in demand_nodes_range:\n",
    "            decision_var[orig].append([])\n",
    "            vehicles_var[orig].append(m.addVar(vtype=gbp.GRB.INTEGER,\n",
    "                                              name='S'+str(orig+1)+'_D'+str(dest+1)+'_V'))\n",
    "            for comm in comm_range:\n",
    "    #             print (comm,decision_var)\n",
    "                decision_var[orig][dest].append(m.addVar(vtype=gbp.GRB.INTEGER, \n",
    "    #                                         obj=Cij[orig][dest],\n",
    "    #                                            obj=1,\n",
    "                                            name='S'+str(orig+1)+'_D'+str(dest+1)+'_c'+str(comm+1)))\n",
    "    for dest in demand_nodes_range:\n",
    "        unserved_var.append([])\n",
    "        for comm in comm_range:\n",
    "            unserved_var[dest].append(m.addVar(vtype=gbp.GRB.INTEGER,\n",
    "                                              name='D'+str(dest+1)+'_c'+str(comm+1)+'_U'))\n",
    "    # Update Model Variables\n",
    "    m.update()       \n",
    "\n",
    "\n",
    "    #objective function\n",
    "    m.setObjective(\n",
    "        gbp.quicksum(gbp.quicksum((int(Dj[day][dest][comm])-gbp.quicksum(decision_var[orig][dest][comm] for orig in supply_nodes_range))*(Pc[day][dest][comm])\n",
    "                                for dest in demand_nodes_range) for comm in comm_range)+\n",
    "        gbp.quicksum(gbp.quicksum(vehicles_var[orig][dest]*V_cost[orig][dest] for dest in demand_nodes_range) for orig in supply_nodes_range)+\n",
    "        gbp.quicksum(gbp.quicksum(unserved_var[dest][comm]*dep_cost for comm in comm_range) for dest in demand_nodes_range),\n",
    "                            gbp.GRB.MINIMIZE)\n",
    "\n",
    "    m.update()\n",
    "\n",
    "    # Add Supply Constraints\n",
    "    for orig in supply_nodes_range:\n",
    "        for comm in comm_range:\n",
    "            m.addConstr(gbp.quicksum(decision_var[orig][dest][comm]\n",
    "                                     for dest in demand_nodes_range) - Si[day][orig][comm] - prev_inventory[day][orig][comm] <= 0)\n",
    "    # Add Demand Constraints\n",
    "    for dest in demand_nodes_range:  \n",
    "        for comm in comm_range:\n",
    "            m.addConstr(gbp.quicksum(decision_var[orig][dest][comm] \n",
    "                                     for orig in supply_nodes_range) - Dj[day][dest][comm] <= 0)\n",
    "    #Add vehicle constraints\n",
    "    for orig in supply_nodes_range:\n",
    "        m.addConstr(gbp.quicksum(decision_var[orig][dest][comm]\n",
    "                                 for dest in demand_nodes_range for comm in comm_range) - V_cap*V_num[orig] <=0)\n",
    "    for orig in supply_nodes_range:\n",
    "        m.addConstr(gbp.quicksum(vehicles_var[orig][dest] for dest in demand_nodes_range) - V_num[orig] <=0)\n",
    "\n",
    "    for orig in supply_nodes_range:\n",
    "        for dest in demand_nodes_range:\n",
    "            m.addConstr(-sum(decision_var[orig][dest][comm]\n",
    "                                for comm in comm_range)/V_cap + vehicles_var[orig][dest]>=0)\n",
    "    for orig in supply_nodes_range:\n",
    "        for dest in demand_nodes_range:\n",
    "            m.addConstr(-sum(decision_var[orig][dest][comm]\n",
    "                                for comm in comm_range)/V_cap + vehicles_var[orig][dest]<=1)\n",
    "\n",
    "    #Add unserved people contstraints\n",
    "    for dest in demand_nodes_range:\n",
    "        for comm in comm_range:\n",
    "            m.addConstr(unserved_var[dest][comm]<=n_pep[day][dest][comm]+unserved_people[day][dest][comm])\n",
    "\n",
    "    for dest in demand_nodes_range:\n",
    "        for comm in comm_range:\n",
    "            m.addConstr(sum(decision_var[orig][dest][comm] for orig in supply_nodes_range)-\n",
    "                        ((n_pep[day][dest][comm]+unserved_people[day][dest][comm]-unserved_var[dest][comm])*mu[comm])>=0)\n",
    "    #  Optimize and Print( Results)\n",
    "    m.optimize()\n",
    "    m.write('path.lp')\n",
    "\n",
    "#     m.display()\n",
    "    prev_inventory.append([])\n",
    "\n",
    "    for orig in supply_nodes_range:\n",
    "        prev_inventory[day+1].append([])\n",
    "        for comm in comm_range:\n",
    "            prev_inventory[day+1][orig].append(sum(decision_var[orig][dest][comm].x\n",
    "                                 for dest in demand_nodes_range))\n",
    "\n",
    "#     print (prev_inventory)\n",
    "    unserved_people.append([])\n",
    "    for dest in demand_nodes_range:\n",
    "        unserved_people[day+1].append([])\n",
    "        for comm in comm_range:\n",
    "            unserved_people[day+1][dest].append(unserved_var[dest][comm].x)\n",
    "\n",
    "            \n",
    "    \n",
    "    #Populate DataFrame\n",
    "    for ix in supply_nodes_range:\n",
    "        r_t=[]\n",
    "        r_t+=[decision_var[ix][iy][iz].x for iy in demand_nodes_range for iz in comm_range]\n",
    "        r_t+=[vehicles_var[ix][iy].x for iy in demand_nodes_range]\n",
    "        df.loc[len(df)]=[day+1,ix+1]+r_t\n",
    "\n",
    "    for ix in demand_nodes_range:\n",
    "        r_t=[]\n",
    "        r_t+=[n_pep[0][ix][iy] for iy in comm_range]\n",
    "        r_t+=[unserved_var[ix][iy].x for iy in comm_range]\n",
    "        df2.loc[len(df2)]=[day+1,int(ix+1)]+r_t\n",
    "    \n",
    "    \n",
    "    \n",
    "#     selected = {}\n",
    "#     Closed = []\n",
    "#     for v in m.getVars():\n",
    "#         var = '%s' % v.VarName\n",
    "#         units=int(v.x)\n",
    "#         selected[var] = units\n",
    "#     #     print (var,units)\n",
    "#         if (var[-1]=='V'):\n",
    "#             print ('-'*100)\n",
    "#             print( '| Day:: ',day,' Supply Facility #', var[:2], 'is sending', units, \\\n",
    "#                   'vehicles to Demand Facility #', var[3:5]) \n",
    "\n",
    "#         elif var[-2]=='c':\n",
    "#             print( '| Day:: ',day,' Supply Facility #', var[:2], 'is shipping', units, \\\n",
    "#                                                 'units of commodity',var[-2:], 'to Demand Facility #', var[3:5])\n",
    "#         elif var[-1]=='U':\n",
    "#             print ('-'*100)\n",
    "#             print( '| Day:: ',day,' Demand Facility #', var[:2], 'is not serving', units, \\\n",
    "#                                                 'people with commodity#', var[3:5])\n",
    "#         else:\n",
    "#             print ('Hiiiiiiii')\n",
    "\n",
    "#     print( '******************************************************************************')\n",
    "#     print( '    | Objective Value --------------------- ', int(m.objVal))\n",
    "#     print( '    | Supply Facilities ------------------- ', len(Si))\n",
    "#     print( '    | Total Supply Units ------------------ ', Si.sum())\n",
    "#     print( '    | Demand Facilites -------------------- ', len(Dj))\n",
    "#     print( '    | Total Demand Units ------------------ ', Dj.sum())\n",
    "#     print( '    | Total Potential Combinations -------- ', len(Si)*len(Dj))\n",
    "#     print( '    | Actual Combinations  ---------------- ', len(selected))\n",
    "#     # print( '    | Real Time to Optimize (sec.) -------- ', t2)\n",
    "#     print( '******************************************************************************')\n",
    "#     print( '  --  The Transportation Simplex with Gurobi --')"
   ]
  },
  {
   "cell_type": "code",
   "execution_count": 145,
   "metadata": {},
   "outputs": [
    {
     "data": {
      "text/html": [
       "<div>\n",
       "<style scoped>\n",
       "    .dataframe tbody tr th:only-of-type {\n",
       "        vertical-align: middle;\n",
       "    }\n",
       "\n",
       "    .dataframe tbody tr th {\n",
       "        vertical-align: top;\n",
       "    }\n",
       "\n",
       "    .dataframe thead th {\n",
       "        text-align: right;\n",
       "    }\n",
       "</style>\n",
       "<table border=\"1\" class=\"dataframe\">\n",
       "  <thead>\n",
       "    <tr style=\"text-align: right;\">\n",
       "      <th></th>\n",
       "      <th>Day</th>\n",
       "      <th>S_Node</th>\n",
       "      <th>D1_c1</th>\n",
       "      <th>D1_c2</th>\n",
       "      <th>D2_c1</th>\n",
       "      <th>D2_c2</th>\n",
       "      <th>D3_c1</th>\n",
       "      <th>D3_c2</th>\n",
       "      <th>D1_v</th>\n",
       "      <th>D2_v</th>\n",
       "      <th>D3_v</th>\n",
       "    </tr>\n",
       "  </thead>\n",
       "  <tbody>\n",
       "    <tr>\n",
       "      <th>0</th>\n",
       "      <td>3.0</td>\n",
       "      <td>1.0</td>\n",
       "      <td>110.0</td>\n",
       "      <td>190.0</td>\n",
       "      <td>-0.0</td>\n",
       "      <td>-0.0</td>\n",
       "      <td>120.0</td>\n",
       "      <td>330.0</td>\n",
       "      <td>2.0</td>\n",
       "      <td>0.0</td>\n",
       "      <td>3.0</td>\n",
       "    </tr>\n",
       "    <tr>\n",
       "      <th>1</th>\n",
       "      <td>3.0</td>\n",
       "      <td>2.0</td>\n",
       "      <td>-0.0</td>\n",
       "      <td>-0.0</td>\n",
       "      <td>348.0</td>\n",
       "      <td>702.0</td>\n",
       "      <td>-0.0</td>\n",
       "      <td>-0.0</td>\n",
       "      <td>0.0</td>\n",
       "      <td>7.0</td>\n",
       "      <td>0.0</td>\n",
       "    </tr>\n",
       "  </tbody>\n",
       "</table>\n",
       "</div>"
      ],
      "text/plain": [
       "   Day  S_Node  D1_c1  D1_c2  D2_c1  D2_c2  D3_c1  D3_c2  D1_v  D2_v  D3_v\n",
       "0  3.0     1.0  110.0  190.0   -0.0   -0.0  120.0  330.0   2.0   0.0   3.0\n",
       "1  3.0     2.0   -0.0   -0.0  348.0  702.0   -0.0   -0.0   0.0   7.0   0.0"
      ]
     },
     "execution_count": 145,
     "metadata": {},
     "output_type": "execute_result"
    }
   ],
   "source": [
    "df"
   ]
  },
  {
   "cell_type": "code",
   "execution_count": 104,
   "metadata": {},
   "outputs": [
    {
     "data": {
      "text/plain": [
       "[-0.0, -0.0, 348.0, 702.0, -0.0, -0.0, 0.0, 7.0, 0.0]"
      ]
     },
     "execution_count": 104,
     "metadata": {},
     "output_type": "execute_result"
    }
   ],
   "source": [
    "for ix in supply_nodes_range:\n",
    "    r_t=[]\n",
    "    r_t+=[decision_var[ix][iy][iz].x for iy in demand_nodes_range for iz in comm_range]\n",
    "    r_t+=[vehicles_var[ix][iy].x for iy in demand_nodes_range]\n",
    "    df.loc[len(df)]=[int(ix+1)]+r_t\n",
    "r_t"
   ]
  },
  {
   "cell_type": "code",
   "execution_count": 105,
   "metadata": {},
   "outputs": [
    {
     "data": {
      "text/html": [
       "<div>\n",
       "<style scoped>\n",
       "    .dataframe tbody tr th:only-of-type {\n",
       "        vertical-align: middle;\n",
       "    }\n",
       "\n",
       "    .dataframe tbody tr th {\n",
       "        vertical-align: top;\n",
       "    }\n",
       "\n",
       "    .dataframe thead th {\n",
       "        text-align: right;\n",
       "    }\n",
       "</style>\n",
       "<table border=\"1\" class=\"dataframe\">\n",
       "  <thead>\n",
       "    <tr style=\"text-align: right;\">\n",
       "      <th></th>\n",
       "      <th>S_Node</th>\n",
       "      <th>D1_c1</th>\n",
       "      <th>D1_c2</th>\n",
       "      <th>D2_c1</th>\n",
       "      <th>D2_c2</th>\n",
       "      <th>D3_c1</th>\n",
       "      <th>D3_c2</th>\n",
       "      <th>D1_v</th>\n",
       "      <th>D2_v</th>\n",
       "      <th>D3_v</th>\n",
       "    </tr>\n",
       "  </thead>\n",
       "  <tbody>\n",
       "    <tr>\n",
       "      <th>0</th>\n",
       "      <td>1.0</td>\n",
       "      <td>110.0</td>\n",
       "      <td>190.0</td>\n",
       "      <td>-0.0</td>\n",
       "      <td>-0.0</td>\n",
       "      <td>120.0</td>\n",
       "      <td>330.0</td>\n",
       "      <td>2.0</td>\n",
       "      <td>0.0</td>\n",
       "      <td>3.0</td>\n",
       "    </tr>\n",
       "    <tr>\n",
       "      <th>1</th>\n",
       "      <td>2.0</td>\n",
       "      <td>-0.0</td>\n",
       "      <td>-0.0</td>\n",
       "      <td>348.0</td>\n",
       "      <td>702.0</td>\n",
       "      <td>-0.0</td>\n",
       "      <td>-0.0</td>\n",
       "      <td>0.0</td>\n",
       "      <td>7.0</td>\n",
       "      <td>0.0</td>\n",
       "    </tr>\n",
       "  </tbody>\n",
       "</table>\n",
       "</div>"
      ],
      "text/plain": [
       "   S_Node  D1_c1  D1_c2  D2_c1  D2_c2  D3_c1  D3_c2  D1_v  D2_v  D3_v\n",
       "0     1.0  110.0  190.0   -0.0   -0.0  120.0  330.0   2.0   0.0   3.0\n",
       "1     2.0   -0.0   -0.0  348.0  702.0   -0.0   -0.0   0.0   7.0   0.0"
      ]
     },
     "execution_count": 105,
     "metadata": {},
     "output_type": "execute_result"
    }
   ],
   "source": [
    "df.head()"
   ]
  },
  {
   "cell_type": "code",
   "execution_count": 143,
   "metadata": {},
   "outputs": [
    {
     "data": {
      "text/html": [
       "<div>\n",
       "<style scoped>\n",
       "    .dataframe tbody tr th:only-of-type {\n",
       "        vertical-align: middle;\n",
       "    }\n",
       "\n",
       "    .dataframe tbody tr th {\n",
       "        vertical-align: top;\n",
       "    }\n",
       "\n",
       "    .dataframe thead th {\n",
       "        text-align: right;\n",
       "    }\n",
       "</style>\n",
       "<table border=\"1\" class=\"dataframe\">\n",
       "  <thead>\n",
       "    <tr style=\"text-align: right;\">\n",
       "      <th></th>\n",
       "      <th>Day</th>\n",
       "      <th>D_Node</th>\n",
       "      <th>Total_c1</th>\n",
       "      <th>Total_c2</th>\n",
       "      <th>Unserv_c1</th>\n",
       "      <th>Unserv_c2</th>\n",
       "    </tr>\n",
       "  </thead>\n",
       "  <tbody>\n",
       "  </tbody>\n",
       "</table>\n",
       "</div>"
      ],
      "text/plain": [
       "Empty DataFrame\n",
       "Columns: [Day, D_Node, Total_c1, Total_c2, Unserv_c1, Unserv_c2]\n",
       "Index: []"
      ]
     },
     "execution_count": 143,
     "metadata": {},
     "output_type": "execute_result"
    }
   ],
   "source": []
  },
  {
   "cell_type": "code",
   "execution_count": 119,
   "metadata": {},
   "outputs": [
    {
     "data": {
      "text/html": [
       "<div>\n",
       "<style scoped>\n",
       "    .dataframe tbody tr th:only-of-type {\n",
       "        vertical-align: middle;\n",
       "    }\n",
       "\n",
       "    .dataframe tbody tr th {\n",
       "        vertical-align: top;\n",
       "    }\n",
       "\n",
       "    .dataframe thead th {\n",
       "        text-align: right;\n",
       "    }\n",
       "</style>\n",
       "<table border=\"1\" class=\"dataframe\">\n",
       "  <thead>\n",
       "    <tr style=\"text-align: right;\">\n",
       "      <th></th>\n",
       "      <th>D_Node</th>\n",
       "      <th>Total_c1</th>\n",
       "      <th>Total_c2</th>\n",
       "      <th>Unserv_c1</th>\n",
       "      <th>Unserv_c2</th>\n",
       "    </tr>\n",
       "  </thead>\n",
       "  <tbody>\n",
       "    <tr>\n",
       "      <th>0</th>\n",
       "      <td>1.0</td>\n",
       "      <td>25.0</td>\n",
       "      <td>25.0</td>\n",
       "      <td>-0.0</td>\n",
       "      <td>22.0</td>\n",
       "    </tr>\n",
       "    <tr>\n",
       "      <th>1</th>\n",
       "      <td>2.0</td>\n",
       "      <td>50.0</td>\n",
       "      <td>50.0</td>\n",
       "      <td>1.0</td>\n",
       "      <td>10.0</td>\n",
       "    </tr>\n",
       "    <tr>\n",
       "      <th>2</th>\n",
       "      <td>3.0</td>\n",
       "      <td>30.0</td>\n",
       "      <td>30.0</td>\n",
       "      <td>-0.0</td>\n",
       "      <td>10.0</td>\n",
       "    </tr>\n",
       "  </tbody>\n",
       "</table>\n",
       "</div>"
      ],
      "text/plain": [
       "   D_Node  Total_c1  Total_c2  Unserv_c1  Unserv_c2\n",
       "0     1.0      25.0      25.0       -0.0       22.0\n",
       "1     2.0      50.0      50.0        1.0       10.0\n",
       "2     3.0      30.0      30.0       -0.0       10.0"
      ]
     },
     "execution_count": 119,
     "metadata": {},
     "output_type": "execute_result"
    }
   ],
   "source": [
    "for ix in demand_nodes_range:\n",
    "    r_t=[]\n",
    "    r_t+=[n_pep[0][ix][iy] for iy in comm_range]\n",
    "    r_t+=[unserved_var[ix][iy].x for iy in comm_range]\n",
    "    df2.loc[len(df2)]=[int(ix+1)]+r_t\n",
    "df2\n",
    "# r_t"
   ]
  },
  {
   "cell_type": "code",
   "execution_count": null,
   "metadata": {},
   "outputs": [],
   "source": []
  }
 ],
 "metadata": {
  "kernelspec": {
   "display_name": "Python 3",
   "language": "python",
   "name": "python3"
  },
  "language_info": {
   "codemirror_mode": {
    "name": "ipython",
    "version": 3
   },
   "file_extension": ".py",
   "mimetype": "text/x-python",
   "name": "python",
   "nbconvert_exporter": "python",
   "pygments_lexer": "ipython3",
   "version": "3.7.3"
  }
 },
 "nbformat": 4,
 "nbformat_minor": 2
}
